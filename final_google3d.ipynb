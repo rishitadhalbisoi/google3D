{
 "cells": [
  {
   "cell_type": "markdown",
   "id": "44442f24",
   "metadata": {},
   "source": [
    "Importing libraries and data"
   ]
  },
  {
   "cell_type": "code",
   "execution_count": 1,
   "id": "7748e49d",
   "metadata": {},
   "outputs": [],
   "source": [
    "import pandas as pd\n",
    "import numpy as np\n",
    "import os\n",
    "import matplotlib.pyplot as plt\n",
    "import seaborn as sns\n",
    "import re"
   ]
  },
  {
   "cell_type": "code",
   "execution_count": 2,
   "id": "7f8c9661",
   "metadata": {},
   "outputs": [],
   "source": [
    "from collections import Counter"
   ]
  },
  {
   "cell_type": "code",
   "execution_count": 3,
   "id": "d55c88ba",
   "metadata": {},
   "outputs": [],
   "source": [
    "filename = os.path.join(os.getcwd(), \"US_youtube_trending_data.csv\")\n",
    "df = pd.read_csv(filename, header=0)"
   ]
  },
  {
   "cell_type": "code",
   "execution_count": 4,
   "id": "d78d3d84",
   "metadata": {},
   "outputs": [
    {
     "data": {
      "text/html": [
       "<div>\n",
       "<style scoped>\n",
       "    .dataframe tbody tr th:only-of-type {\n",
       "        vertical-align: middle;\n",
       "    }\n",
       "\n",
       "    .dataframe tbody tr th {\n",
       "        vertical-align: top;\n",
       "    }\n",
       "\n",
       "    .dataframe thead th {\n",
       "        text-align: right;\n",
       "    }\n",
       "</style>\n",
       "<table border=\"1\" class=\"dataframe\">\n",
       "  <thead>\n",
       "    <tr style=\"text-align: right;\">\n",
       "      <th></th>\n",
       "      <th>video_id</th>\n",
       "      <th>title</th>\n",
       "      <th>publishedAt</th>\n",
       "      <th>channelId</th>\n",
       "      <th>channelTitle</th>\n",
       "      <th>categoryId</th>\n",
       "      <th>trending_date</th>\n",
       "      <th>tags</th>\n",
       "      <th>view_count</th>\n",
       "      <th>likes</th>\n",
       "      <th>dislikes</th>\n",
       "      <th>comment_count</th>\n",
       "      <th>thumbnail_link</th>\n",
       "      <th>comments_disabled</th>\n",
       "      <th>ratings_disabled</th>\n",
       "      <th>description</th>\n",
       "    </tr>\n",
       "  </thead>\n",
       "  <tbody>\n",
       "    <tr>\n",
       "      <th>0</th>\n",
       "      <td>3C66w5Z0ixs</td>\n",
       "      <td>I ASKED HER TO BE MY GIRLFRIEND...</td>\n",
       "      <td>2020-08-11T19:20:14Z</td>\n",
       "      <td>UCvtRTOMP2TqYqu51xNrqAzg</td>\n",
       "      <td>Brawadis</td>\n",
       "      <td>22</td>\n",
       "      <td>2020-08-12T00:00:00Z</td>\n",
       "      <td>brawadis|prank|basketball|skits|ghost|funny vi...</td>\n",
       "      <td>1514614</td>\n",
       "      <td>156908</td>\n",
       "      <td>5855</td>\n",
       "      <td>35313</td>\n",
       "      <td>https://i.ytimg.com/vi/3C66w5Z0ixs/default.jpg</td>\n",
       "      <td>False</td>\n",
       "      <td>False</td>\n",
       "      <td>SUBSCRIBE to BRAWADIS ▶ http://bit.ly/Subscrib...</td>\n",
       "    </tr>\n",
       "    <tr>\n",
       "      <th>1</th>\n",
       "      <td>M9Pmf9AB4Mo</td>\n",
       "      <td>Apex Legends | Stories from the Outlands – “Th...</td>\n",
       "      <td>2020-08-11T17:00:10Z</td>\n",
       "      <td>UC0ZV6M2THA81QT9hrVWJG3A</td>\n",
       "      <td>Apex Legends</td>\n",
       "      <td>20</td>\n",
       "      <td>2020-08-12T00:00:00Z</td>\n",
       "      <td>Apex Legends|Apex Legends characters|new Apex ...</td>\n",
       "      <td>2381688</td>\n",
       "      <td>146739</td>\n",
       "      <td>2794</td>\n",
       "      <td>16549</td>\n",
       "      <td>https://i.ytimg.com/vi/M9Pmf9AB4Mo/default.jpg</td>\n",
       "      <td>False</td>\n",
       "      <td>False</td>\n",
       "      <td>While running her own modding shop, Ramya Pare...</td>\n",
       "    </tr>\n",
       "    <tr>\n",
       "      <th>2</th>\n",
       "      <td>J78aPJ3VyNs</td>\n",
       "      <td>I left youtube for a month and THIS is what ha...</td>\n",
       "      <td>2020-08-11T16:34:06Z</td>\n",
       "      <td>UCYzPXprvl5Y-Sf0g4vX-m6g</td>\n",
       "      <td>jacksepticeye</td>\n",
       "      <td>24</td>\n",
       "      <td>2020-08-12T00:00:00Z</td>\n",
       "      <td>jacksepticeye|funny|funny meme|memes|jacksepti...</td>\n",
       "      <td>2038853</td>\n",
       "      <td>353787</td>\n",
       "      <td>2628</td>\n",
       "      <td>40221</td>\n",
       "      <td>https://i.ytimg.com/vi/J78aPJ3VyNs/default.jpg</td>\n",
       "      <td>False</td>\n",
       "      <td>False</td>\n",
       "      <td>I left youtube for a month and this is what ha...</td>\n",
       "    </tr>\n",
       "    <tr>\n",
       "      <th>3</th>\n",
       "      <td>kXLn3HkpjaA</td>\n",
       "      <td>XXL 2020 Freshman Class Revealed - Official An...</td>\n",
       "      <td>2020-08-11T16:38:55Z</td>\n",
       "      <td>UCbg_UMjlHJg_19SZckaKajg</td>\n",
       "      <td>XXL</td>\n",
       "      <td>10</td>\n",
       "      <td>2020-08-12T00:00:00Z</td>\n",
       "      <td>xxl freshman|xxl freshmen|2020 xxl freshman|20...</td>\n",
       "      <td>496771</td>\n",
       "      <td>23251</td>\n",
       "      <td>1856</td>\n",
       "      <td>7647</td>\n",
       "      <td>https://i.ytimg.com/vi/kXLn3HkpjaA/default.jpg</td>\n",
       "      <td>False</td>\n",
       "      <td>False</td>\n",
       "      <td>Subscribe to XXL → http://bit.ly/subscribe-xxl...</td>\n",
       "    </tr>\n",
       "    <tr>\n",
       "      <th>4</th>\n",
       "      <td>VIUo6yapDbc</td>\n",
       "      <td>Ultimate DIY Home Movie Theater for The LaBran...</td>\n",
       "      <td>2020-08-11T15:10:05Z</td>\n",
       "      <td>UCDVPcEbVLQgLZX0Rt6jo34A</td>\n",
       "      <td>Mr. Kate</td>\n",
       "      <td>26</td>\n",
       "      <td>2020-08-12T00:00:00Z</td>\n",
       "      <td>The LaBrant Family|DIY|Interior Design|Makeove...</td>\n",
       "      <td>1123889</td>\n",
       "      <td>45802</td>\n",
       "      <td>964</td>\n",
       "      <td>2196</td>\n",
       "      <td>https://i.ytimg.com/vi/VIUo6yapDbc/default.jpg</td>\n",
       "      <td>False</td>\n",
       "      <td>False</td>\n",
       "      <td>Transforming The LaBrant Family's empty white ...</td>\n",
       "    </tr>\n",
       "  </tbody>\n",
       "</table>\n",
       "</div>"
      ],
      "text/plain": [
       "      video_id                                              title  \\\n",
       "0  3C66w5Z0ixs                 I ASKED HER TO BE MY GIRLFRIEND...   \n",
       "1  M9Pmf9AB4Mo  Apex Legends | Stories from the Outlands – “Th...   \n",
       "2  J78aPJ3VyNs  I left youtube for a month and THIS is what ha...   \n",
       "3  kXLn3HkpjaA  XXL 2020 Freshman Class Revealed - Official An...   \n",
       "4  VIUo6yapDbc  Ultimate DIY Home Movie Theater for The LaBran...   \n",
       "\n",
       "            publishedAt                 channelId   channelTitle  categoryId  \\\n",
       "0  2020-08-11T19:20:14Z  UCvtRTOMP2TqYqu51xNrqAzg       Brawadis          22   \n",
       "1  2020-08-11T17:00:10Z  UC0ZV6M2THA81QT9hrVWJG3A   Apex Legends          20   \n",
       "2  2020-08-11T16:34:06Z  UCYzPXprvl5Y-Sf0g4vX-m6g  jacksepticeye          24   \n",
       "3  2020-08-11T16:38:55Z  UCbg_UMjlHJg_19SZckaKajg            XXL          10   \n",
       "4  2020-08-11T15:10:05Z  UCDVPcEbVLQgLZX0Rt6jo34A       Mr. Kate          26   \n",
       "\n",
       "          trending_date                                               tags  \\\n",
       "0  2020-08-12T00:00:00Z  brawadis|prank|basketball|skits|ghost|funny vi...   \n",
       "1  2020-08-12T00:00:00Z  Apex Legends|Apex Legends characters|new Apex ...   \n",
       "2  2020-08-12T00:00:00Z  jacksepticeye|funny|funny meme|memes|jacksepti...   \n",
       "3  2020-08-12T00:00:00Z  xxl freshman|xxl freshmen|2020 xxl freshman|20...   \n",
       "4  2020-08-12T00:00:00Z  The LaBrant Family|DIY|Interior Design|Makeove...   \n",
       "\n",
       "   view_count   likes  dislikes  comment_count  \\\n",
       "0     1514614  156908      5855          35313   \n",
       "1     2381688  146739      2794          16549   \n",
       "2     2038853  353787      2628          40221   \n",
       "3      496771   23251      1856           7647   \n",
       "4     1123889   45802       964           2196   \n",
       "\n",
       "                                   thumbnail_link  comments_disabled  \\\n",
       "0  https://i.ytimg.com/vi/3C66w5Z0ixs/default.jpg              False   \n",
       "1  https://i.ytimg.com/vi/M9Pmf9AB4Mo/default.jpg              False   \n",
       "2  https://i.ytimg.com/vi/J78aPJ3VyNs/default.jpg              False   \n",
       "3  https://i.ytimg.com/vi/kXLn3HkpjaA/default.jpg              False   \n",
       "4  https://i.ytimg.com/vi/VIUo6yapDbc/default.jpg              False   \n",
       "\n",
       "   ratings_disabled                                        description  \n",
       "0             False  SUBSCRIBE to BRAWADIS ▶ http://bit.ly/Subscrib...  \n",
       "1             False  While running her own modding shop, Ramya Pare...  \n",
       "2             False  I left youtube for a month and this is what ha...  \n",
       "3             False  Subscribe to XXL → http://bit.ly/subscribe-xxl...  \n",
       "4             False  Transforming The LaBrant Family's empty white ...  "
      ]
     },
     "execution_count": 4,
     "metadata": {},
     "output_type": "execute_result"
    }
   ],
   "source": [
    "df.head()"
   ]
  },
  {
   "cell_type": "code",
   "execution_count": 7,
   "id": "7cdbf089",
   "metadata": {},
   "outputs": [
    {
     "name": "stdout",
     "output_type": "stream",
     "text": [
      "Index(['video_id', 'title', 'publishedAt', 'channelId', 'channelTitle',\n",
      "       'categoryId', 'trending_date', 'tags', 'view_count', 'likes',\n",
      "       'dislikes', 'comment_count', 'thumbnail_link', 'comments_disabled',\n",
      "       'ratings_disabled', 'description'],\n",
      "      dtype='object')\n"
     ]
    }
   ],
   "source": [
    "print(df.columns)"
   ]
  },
  {
   "cell_type": "code",
   "execution_count": 8,
   "id": "f0bf4943",
   "metadata": {},
   "outputs": [],
   "source": [
    "idx = df.groupby('video_id')['view_count'].idxmax()\n",
    "dfUnique = df.loc[idx].reset_index(drop=True)\n",
    "## getting dataframe with no duplicate view counts"
   ]
  },
  {
   "cell_type": "code",
   "execution_count": 9,
   "id": "918bf15a",
   "metadata": {},
   "outputs": [
    {
     "data": {
      "text/html": [
       "<div>\n",
       "<style scoped>\n",
       "    .dataframe tbody tr th:only-of-type {\n",
       "        vertical-align: middle;\n",
       "    }\n",
       "\n",
       "    .dataframe tbody tr th {\n",
       "        vertical-align: top;\n",
       "    }\n",
       "\n",
       "    .dataframe thead th {\n",
       "        text-align: right;\n",
       "    }\n",
       "</style>\n",
       "<table border=\"1\" class=\"dataframe\">\n",
       "  <thead>\n",
       "    <tr style=\"text-align: right;\">\n",
       "      <th></th>\n",
       "      <th>video_id</th>\n",
       "      <th>title</th>\n",
       "      <th>publishedAt</th>\n",
       "      <th>channelId</th>\n",
       "      <th>channelTitle</th>\n",
       "      <th>categoryId</th>\n",
       "      <th>trending_date</th>\n",
       "      <th>tags</th>\n",
       "      <th>view_count</th>\n",
       "      <th>likes</th>\n",
       "      <th>dislikes</th>\n",
       "      <th>comment_count</th>\n",
       "      <th>thumbnail_link</th>\n",
       "      <th>comments_disabled</th>\n",
       "      <th>ratings_disabled</th>\n",
       "      <th>description</th>\n",
       "    </tr>\n",
       "  </thead>\n",
       "  <tbody>\n",
       "    <tr>\n",
       "      <th>0</th>\n",
       "      <td>--14w5SOEUs</td>\n",
       "      <td>Migos - Avalanche (Official Video)</td>\n",
       "      <td>2021-06-10T16:00:00Z</td>\n",
       "      <td>UCGIelM2Dj3zza3xyV3pL3WQ</td>\n",
       "      <td>MigosVEVO</td>\n",
       "      <td>10</td>\n",
       "      <td>2021-06-15T00:00:00Z</td>\n",
       "      <td>Migos|Avalanche|Quality|Control|Music/Motown|R...</td>\n",
       "      <td>6823249</td>\n",
       "      <td>262692</td>\n",
       "      <td>4107</td>\n",
       "      <td>16445</td>\n",
       "      <td>https://i.ytimg.com/vi/--14w5SOEUs/default.jpg</td>\n",
       "      <td>False</td>\n",
       "      <td>False</td>\n",
       "      <td>Watch the the official video for Migos - Avala...</td>\n",
       "    </tr>\n",
       "    <tr>\n",
       "      <th>1</th>\n",
       "      <td>--2O86Z0hsM</td>\n",
       "      <td>MY TESLA PAYS FOR ITSELF</td>\n",
       "      <td>2022-03-09T23:19:08Z</td>\n",
       "      <td>UCXJEvxZSozjAAqhbMfhIArA</td>\n",
       "      <td>jf.okay</td>\n",
       "      <td>24</td>\n",
       "      <td>2022-03-15T00:00:00Z</td>\n",
       "      <td>[None]</td>\n",
       "      <td>538485</td>\n",
       "      <td>17290</td>\n",
       "      <td>0</td>\n",
       "      <td>1439</td>\n",
       "      <td>https://i.ytimg.com/vi/--2O86Z0hsM/default.jpg</td>\n",
       "      <td>False</td>\n",
       "      <td>False</td>\n",
       "      <td>NaN</td>\n",
       "    </tr>\n",
       "    <tr>\n",
       "      <th>2</th>\n",
       "      <td>--40TEbZ9Is</td>\n",
       "      <td>Supporting Actress in a Comedy: 73rd Emmys</td>\n",
       "      <td>2021-09-20T01:03:32Z</td>\n",
       "      <td>UClBKH8yZRcM4AsRjDVEdjMg</td>\n",
       "      <td>Television Academy</td>\n",
       "      <td>24</td>\n",
       "      <td>2021-09-25T00:00:00Z</td>\n",
       "      <td>[None]</td>\n",
       "      <td>682609</td>\n",
       "      <td>8029</td>\n",
       "      <td>369</td>\n",
       "      <td>723</td>\n",
       "      <td>https://i.ytimg.com/vi/--40TEbZ9Is/default.jpg</td>\n",
       "      <td>False</td>\n",
       "      <td>False</td>\n",
       "      <td>Hannah Waddingham wins the Emmy for Supporting...</td>\n",
       "    </tr>\n",
       "    <tr>\n",
       "      <th>3</th>\n",
       "      <td>--47FjCWgrU</td>\n",
       "      <td>San Francisco 49ers vs. Arizona Cardinals Game...</td>\n",
       "      <td>2023-12-18T00:21:58Z</td>\n",
       "      <td>UCDVYQ4Zhbm3S2dlz7P1GBDg</td>\n",
       "      <td>NFL</td>\n",
       "      <td>17</td>\n",
       "      <td>2023-12-25T00:00:00Z</td>\n",
       "      <td>[None]</td>\n",
       "      <td>1940781</td>\n",
       "      <td>22612</td>\n",
       "      <td>0</td>\n",
       "      <td>2018</td>\n",
       "      <td>https://i.ytimg.com/vi/--47FjCWgrU/default.jpg</td>\n",
       "      <td>False</td>\n",
       "      <td>False</td>\n",
       "      <td>Check out our other channels:NFL Mundo https:/...</td>\n",
       "    </tr>\n",
       "    <tr>\n",
       "      <th>4</th>\n",
       "      <td>--5-brQiQFg</td>\n",
       "      <td>Washington Commanders vs. San Francisco 49ers ...</td>\n",
       "      <td>2022-12-25T00:30:17Z</td>\n",
       "      <td>UCDVYQ4Zhbm3S2dlz7P1GBDg</td>\n",
       "      <td>NFL</td>\n",
       "      <td>17</td>\n",
       "      <td>2022-12-26T00:00:00Z</td>\n",
       "      <td>[None]</td>\n",
       "      <td>1280997</td>\n",
       "      <td>14603</td>\n",
       "      <td>0</td>\n",
       "      <td>2078</td>\n",
       "      <td>https://i.ytimg.com/vi/--5-brQiQFg/default.jpg</td>\n",
       "      <td>False</td>\n",
       "      <td>False</td>\n",
       "      <td>Check out our other channels:NFL Mundo https:/...</td>\n",
       "    </tr>\n",
       "    <tr>\n",
       "      <th>5</th>\n",
       "      <td>--DKkzWVh-E</td>\n",
       "      <td>Why Retaining Walls Collapse</td>\n",
       "      <td>2021-12-07T13:00:00Z</td>\n",
       "      <td>UCMOqf8ab-42UUQIdVoKwjlQ</td>\n",
       "      <td>Practical Engineering</td>\n",
       "      <td>27</td>\n",
       "      <td>2021-12-11T00:00:00Z</td>\n",
       "      <td>retaining wall|New Jersey highway|Direct Conne...</td>\n",
       "      <td>623949</td>\n",
       "      <td>29991</td>\n",
       "      <td>320</td>\n",
       "      <td>998</td>\n",
       "      <td>https://i.ytimg.com/vi/--DKkzWVh-E/default.jpg</td>\n",
       "      <td>False</td>\n",
       "      <td>False</td>\n",
       "      <td>One of the most important (and innocuous) part...</td>\n",
       "    </tr>\n",
       "    <tr>\n",
       "      <th>6</th>\n",
       "      <td>--FmExEAsM8</td>\n",
       "      <td>IVE 아이브 'ELEVEN' MV</td>\n",
       "      <td>2021-12-01T09:00:03Z</td>\n",
       "      <td>UCYDmx2Sfpnaxg488yBpZIGg</td>\n",
       "      <td>starshipTV</td>\n",
       "      <td>10</td>\n",
       "      <td>2021-12-06T00:00:00Z</td>\n",
       "      <td>Kpop|girl group|1theK|Starshiptv|starship|뮤비|티...</td>\n",
       "      <td>31967789</td>\n",
       "      <td>810589</td>\n",
       "      <td>14252</td>\n",
       "      <td>52092</td>\n",
       "      <td>https://i.ytimg.com/vi/--FmExEAsM8/default.jpg</td>\n",
       "      <td>False</td>\n",
       "      <td>False</td>\n",
       "      <td>IVE Twitter: https://twitter.com/IVEstarship: ...</td>\n",
       "    </tr>\n",
       "    <tr>\n",
       "      <th>7</th>\n",
       "      <td>--SvHNpSvpk</td>\n",
       "      <td>YoungBoy Never Broke Again - Dead Trollz [Offi...</td>\n",
       "      <td>2020-09-11T15:00:00Z</td>\n",
       "      <td>UClW4jraMKz6Qj69lJf-tODA</td>\n",
       "      <td>YoungBoy Never Broke Again</td>\n",
       "      <td>10</td>\n",
       "      <td>2020-09-18T00:00:00Z</td>\n",
       "      <td>YoungBoy Never Broke Again|NBA YoungBoy|YoungB...</td>\n",
       "      <td>5308719</td>\n",
       "      <td>175482</td>\n",
       "      <td>4544</td>\n",
       "      <td>15346</td>\n",
       "      <td>https://i.ytimg.com/vi/--SvHNpSvpk/default.jpg</td>\n",
       "      <td>False</td>\n",
       "      <td>False</td>\n",
       "      <td>YoungBoy Never Broke Again – Dead Trollz  ‘TOP...</td>\n",
       "    </tr>\n",
       "    <tr>\n",
       "      <th>8</th>\n",
       "      <td>--gJDs10ShA</td>\n",
       "      <td>what happens if you get greedy and try to pull...</td>\n",
       "      <td>2022-06-16T01:11:59Z</td>\n",
       "      <td>UC_54BddY_xCboN2ktKg_yjw</td>\n",
       "      <td>Hydraulic Beanbag</td>\n",
       "      <td>1</td>\n",
       "      <td>2022-06-21T00:00:00Z</td>\n",
       "      <td>Blender|Animation|Animated Video|Blender Anima...</td>\n",
       "      <td>3089272</td>\n",
       "      <td>157048</td>\n",
       "      <td>0</td>\n",
       "      <td>3945</td>\n",
       "      <td>https://i.ytimg.com/vi/--gJDs10ShA/default.jpg</td>\n",
       "      <td>False</td>\n",
       "      <td>False</td>\n",
       "      <td>today was supposed to be my self appointed hed...</td>\n",
       "    </tr>\n",
       "    <tr>\n",
       "      <th>9</th>\n",
       "      <td>--hjHKgm67g</td>\n",
       "      <td>The Third Attempt Making This Table</td>\n",
       "      <td>2022-04-07T19:14:45Z</td>\n",
       "      <td>UC6I0KzAD7uFTL1qzxyunkvA</td>\n",
       "      <td>Blacktail Studio</td>\n",
       "      <td>26</td>\n",
       "      <td>2022-04-13T00:00:00Z</td>\n",
       "      <td>bookmatched guitar top|bookmatched wood|comput...</td>\n",
       "      <td>857931</td>\n",
       "      <td>28461</td>\n",
       "      <td>0</td>\n",
       "      <td>3871</td>\n",
       "      <td>https://i.ytimg.com/vi/--hjHKgm67g/default.jpg</td>\n",
       "      <td>False</td>\n",
       "      <td>False</td>\n",
       "      <td>I tried to make this unique ebonized table twi...</td>\n",
       "    </tr>\n",
       "  </tbody>\n",
       "</table>\n",
       "</div>"
      ],
      "text/plain": [
       "      video_id                                              title  \\\n",
       "0  --14w5SOEUs                 Migos - Avalanche (Official Video)   \n",
       "1  --2O86Z0hsM                           MY TESLA PAYS FOR ITSELF   \n",
       "2  --40TEbZ9Is         Supporting Actress in a Comedy: 73rd Emmys   \n",
       "3  --47FjCWgrU  San Francisco 49ers vs. Arizona Cardinals Game...   \n",
       "4  --5-brQiQFg  Washington Commanders vs. San Francisco 49ers ...   \n",
       "5  --DKkzWVh-E                       Why Retaining Walls Collapse   \n",
       "6  --FmExEAsM8                                IVE 아이브 'ELEVEN' MV   \n",
       "7  --SvHNpSvpk  YoungBoy Never Broke Again - Dead Trollz [Offi...   \n",
       "8  --gJDs10ShA  what happens if you get greedy and try to pull...   \n",
       "9  --hjHKgm67g                The Third Attempt Making This Table   \n",
       "\n",
       "            publishedAt                 channelId                channelTitle  \\\n",
       "0  2021-06-10T16:00:00Z  UCGIelM2Dj3zza3xyV3pL3WQ                   MigosVEVO   \n",
       "1  2022-03-09T23:19:08Z  UCXJEvxZSozjAAqhbMfhIArA                     jf.okay   \n",
       "2  2021-09-20T01:03:32Z  UClBKH8yZRcM4AsRjDVEdjMg          Television Academy   \n",
       "3  2023-12-18T00:21:58Z  UCDVYQ4Zhbm3S2dlz7P1GBDg                         NFL   \n",
       "4  2022-12-25T00:30:17Z  UCDVYQ4Zhbm3S2dlz7P1GBDg                         NFL   \n",
       "5  2021-12-07T13:00:00Z  UCMOqf8ab-42UUQIdVoKwjlQ       Practical Engineering   \n",
       "6  2021-12-01T09:00:03Z  UCYDmx2Sfpnaxg488yBpZIGg                  starshipTV   \n",
       "7  2020-09-11T15:00:00Z  UClW4jraMKz6Qj69lJf-tODA  YoungBoy Never Broke Again   \n",
       "8  2022-06-16T01:11:59Z  UC_54BddY_xCboN2ktKg_yjw           Hydraulic Beanbag   \n",
       "9  2022-04-07T19:14:45Z  UC6I0KzAD7uFTL1qzxyunkvA            Blacktail Studio   \n",
       "\n",
       "   categoryId         trending_date  \\\n",
       "0          10  2021-06-15T00:00:00Z   \n",
       "1          24  2022-03-15T00:00:00Z   \n",
       "2          24  2021-09-25T00:00:00Z   \n",
       "3          17  2023-12-25T00:00:00Z   \n",
       "4          17  2022-12-26T00:00:00Z   \n",
       "5          27  2021-12-11T00:00:00Z   \n",
       "6          10  2021-12-06T00:00:00Z   \n",
       "7          10  2020-09-18T00:00:00Z   \n",
       "8           1  2022-06-21T00:00:00Z   \n",
       "9          26  2022-04-13T00:00:00Z   \n",
       "\n",
       "                                                tags  view_count   likes  \\\n",
       "0  Migos|Avalanche|Quality|Control|Music/Motown|R...     6823249  262692   \n",
       "1                                             [None]      538485   17290   \n",
       "2                                             [None]      682609    8029   \n",
       "3                                             [None]     1940781   22612   \n",
       "4                                             [None]     1280997   14603   \n",
       "5  retaining wall|New Jersey highway|Direct Conne...      623949   29991   \n",
       "6  Kpop|girl group|1theK|Starshiptv|starship|뮤비|티...    31967789  810589   \n",
       "7  YoungBoy Never Broke Again|NBA YoungBoy|YoungB...     5308719  175482   \n",
       "8  Blender|Animation|Animated Video|Blender Anima...     3089272  157048   \n",
       "9  bookmatched guitar top|bookmatched wood|comput...      857931   28461   \n",
       "\n",
       "   dislikes  comment_count                                  thumbnail_link  \\\n",
       "0      4107          16445  https://i.ytimg.com/vi/--14w5SOEUs/default.jpg   \n",
       "1         0           1439  https://i.ytimg.com/vi/--2O86Z0hsM/default.jpg   \n",
       "2       369            723  https://i.ytimg.com/vi/--40TEbZ9Is/default.jpg   \n",
       "3         0           2018  https://i.ytimg.com/vi/--47FjCWgrU/default.jpg   \n",
       "4         0           2078  https://i.ytimg.com/vi/--5-brQiQFg/default.jpg   \n",
       "5       320            998  https://i.ytimg.com/vi/--DKkzWVh-E/default.jpg   \n",
       "6     14252          52092  https://i.ytimg.com/vi/--FmExEAsM8/default.jpg   \n",
       "7      4544          15346  https://i.ytimg.com/vi/--SvHNpSvpk/default.jpg   \n",
       "8         0           3945  https://i.ytimg.com/vi/--gJDs10ShA/default.jpg   \n",
       "9         0           3871  https://i.ytimg.com/vi/--hjHKgm67g/default.jpg   \n",
       "\n",
       "   comments_disabled  ratings_disabled  \\\n",
       "0              False             False   \n",
       "1              False             False   \n",
       "2              False             False   \n",
       "3              False             False   \n",
       "4              False             False   \n",
       "5              False             False   \n",
       "6              False             False   \n",
       "7              False             False   \n",
       "8              False             False   \n",
       "9              False             False   \n",
       "\n",
       "                                         description  \n",
       "0  Watch the the official video for Migos - Avala...  \n",
       "1                                                NaN  \n",
       "2  Hannah Waddingham wins the Emmy for Supporting...  \n",
       "3  Check out our other channels:NFL Mundo https:/...  \n",
       "4  Check out our other channels:NFL Mundo https:/...  \n",
       "5  One of the most important (and innocuous) part...  \n",
       "6  IVE Twitter: https://twitter.com/IVEstarship: ...  \n",
       "7  YoungBoy Never Broke Again – Dead Trollz  ‘TOP...  \n",
       "8  today was supposed to be my self appointed hed...  \n",
       "9  I tried to make this unique ebonized table twi...  "
      ]
     },
     "execution_count": 9,
     "metadata": {},
     "output_type": "execute_result"
    }
   ],
   "source": [
    "dfUnique.head(10)"
   ]
  },
  {
   "cell_type": "code",
   "execution_count": 11,
   "id": "9bbbc7d9",
   "metadata": {},
   "outputs": [],
   "source": [
    "video_counts = (df['video_id'].value_counts())"
   ]
  },
  {
   "cell_type": "code",
   "execution_count": 12,
   "id": "b69afdc8",
   "metadata": {},
   "outputs": [
    {
     "data": {
      "text/plain": [
       "count    47142.000000\n",
       "mean         5.701646\n",
       "std          1.994629\n",
       "min          1.000000\n",
       "25%          5.000000\n",
       "50%          6.000000\n",
       "75%          7.000000\n",
       "max         37.000000\n",
       "Name: count, dtype: float64"
      ]
     },
     "execution_count": 12,
     "metadata": {},
     "output_type": "execute_result"
    }
   ],
   "source": [
    "video_counts.describe()"
   ]
  },
  {
   "cell_type": "code",
   "execution_count": 22,
   "id": "5fbfc2d6",
   "metadata": {},
   "outputs": [
    {
     "name": "stdout",
     "output_type": "stream",
     "text": [
      "545\n"
     ]
    }
   ],
   "source": [
    "print((video_counts == 1).sum())"
   ]
  },
  {
   "cell_type": "code",
   "execution_count": 24,
   "id": "a6c3d1c8",
   "metadata": {},
   "outputs": [
    {
     "data": {
      "text/plain": [
       "(268787, 16)"
      ]
     },
     "execution_count": 24,
     "metadata": {},
     "output_type": "execute_result"
    }
   ],
   "source": [
    "df.shape"
   ]
  },
  {
   "cell_type": "code",
   "execution_count": 28,
   "id": "7e17f473",
   "metadata": {},
   "outputs": [
    {
     "name": "stdout",
     "output_type": "stream",
     "text": [
      "0.17538794658967882\n",
      "0.0020276278242623343\n"
     ]
    }
   ],
   "source": [
    "print(47142/268787) \n",
    "## 17 % are unique videos\n",
    "print(545/268787)\n",
    "##0.2% of videos appear only once"
   ]
  },
  {
   "cell_type": "markdown",
   "id": "e56b9b18",
   "metadata": {},
   "source": [
    "Understanding tags"
   ]
  },
  {
   "cell_type": "code",
   "execution_count": 29,
   "id": "48d4881f",
   "metadata": {},
   "outputs": [
    {
     "name": "stdout",
     "output_type": "stream",
     "text": [
      "0        Migos|Avalanche|Quality|Control|Music/Motown|R...\n",
      "1                                                   [None]\n",
      "2                                                   [None]\n",
      "3                                                   [None]\n",
      "4                                                   [None]\n",
      "                               ...                        \n",
      "47137    Lil Tjay|Steady Calling My Phone|Calling My Ph...\n",
      "47138    NBA|G League|Basketball|game-0022000187|Lakers...\n",
      "47139    MAMAMOO|마마무|WAW|마마무 WAW|MAMAMOO WAW|Where Are ...\n",
      "47140    maxcraft|minecraft maxcraft|100 days minecraft...\n",
      "47141    kurtis conner|commentary|movie review|alpha|fa...\n",
      "Name: tags, Length: 47142, dtype: object\n",
      "count    47142.000000\n",
      "mean        17.792542\n",
      "std         12.475244\n",
      "min          1.000000\n",
      "25%          7.000000\n",
      "50%         17.000000\n",
      "75%         27.000000\n",
      "max         74.000000\n",
      "Name: tag_count, dtype: float64\n",
      "6        Kpop|girl group|1theK|Starshiptv|starship|뮤비|티...\n",
      "10       ABC|Moscow|News|Russia|Tonight|World|assassina...\n",
      "31                                    msnbc|MSNBC|Specials\n",
      "37                                                 #shorts\n",
      "39       Andy Cohen|Interview|Talk|Watch what happens l...\n",
      "                               ...                        \n",
      "47130    Key|Glock|Murder|Millions|(Official|Video)|Pap...\n",
      "47131    samsung|s23|s23 ultra|galaxy s23 ultra|review|...\n",
      "47132                                               [None]\n",
      "47133                           ishowspeed|speed|ksi|fight\n",
      "47139    MAMAMOO|마마무|WAW|마마무 WAW|MAMAMOO WAW|Where Are ...\n",
      "Name: tags, Length: 6290, dtype: object\n",
      "0.1334266683636672\n"
     ]
    }
   ],
   "source": [
    "print(dfUnique['tags']) ## how they look like\n",
    "df['tag_count'] = df['tags'].apply(lambda x: len(x.split('|')))\n",
    "dfUnique['tag_count'] = df['tags'].apply(lambda x: len(x.split('|')))\n",
    "average_tags = dfUnique['tag_count'].mean() \n",
    "print(dfUnique['tag_count'].describe())\n",
    "## tags are user generated, could be fake just to get trending. the mean is 16 tags\n",
    "onetag = dfUnique[dfUnique['tag_count'] == 1]\n",
    "print(onetag['tags']) ## these tags all appear to be none, a default tag?\n",
    "print(onetag.shape[0]/dfUnique.shape[0]) ## 13% of people have none tags, keep that in mind"
   ]
  },
  {
   "cell_type": "code",
   "execution_count": 30,
   "id": "2a061f18",
   "metadata": {},
   "outputs": [],
   "source": [
    "dfUnique['tag_list'] = dfUnique['tags'].apply(lambda x: x.split('|')[:-1])\n",
    "df['tag_list'] = df['tags'].apply(lambda x: x.split('|')[:-1]) ## splitting this tag list up into another column"
   ]
  },
  {
   "cell_type": "code",
   "execution_count": 31,
   "id": "af6b3084",
   "metadata": {},
   "outputs": [],
   "source": [
    "dfUnique['tag_list'] = dfUnique['tag_list'].apply(lambda x: [tag.lower() for tag in x])"
   ]
  },
  {
   "cell_type": "code",
   "execution_count": 32,
   "id": "cce314c4",
   "metadata": {},
   "outputs": [
    {
     "data": {
      "text/plain": [
       "0        [migos, avalanche, quality, control, music/mot...\n",
       "1                                                       []\n",
       "2                                                       []\n",
       "3                                                       []\n",
       "4                                                       []\n",
       "                               ...                        \n",
       "47137    [lil tjay, steady calling my phone, calling my...\n",
       "47138    [nba, g league, basketball, game-0022000187, l...\n",
       "47139    [mamamoo, 마마무, waw, 마마무 waw, mamamoo waw, wher...\n",
       "47140    [maxcraft, minecraft maxcraft, 100 days minecr...\n",
       "47141     [kurtis conner, commentary, movie review, alpha]\n",
       "Name: tag_list, Length: 47142, dtype: object"
      ]
     },
     "execution_count": 32,
     "metadata": {},
     "output_type": "execute_result"
    }
   ],
   "source": [
    "dfUnique['tag_list']"
   ]
  },
  {
   "cell_type": "code",
   "execution_count": 33,
   "id": "02316371",
   "metadata": {},
   "outputs": [],
   "source": [
    "tags_exploded = dfUnique.explode('tag_list')"
   ]
  },
  {
   "cell_type": "code",
   "execution_count": 34,
   "id": "2f70cc6f",
   "metadata": {},
   "outputs": [],
   "source": [
    "top_50_tags = tags_exploded.value_counts().head(50)"
   ]
  },
  {
   "cell_type": "code",
   "execution_count": 35,
   "id": "6704d433",
   "metadata": {},
   "outputs": [
    {
     "name": "stdout",
     "output_type": "stream",
     "text": [
      "[('funny', 14516), ('comedy', 9536), ('minecraft', 8590), ('challenge', 6134), ('gaming', 4862), ('vlog', 4540), ('animation', 3887), ('family friendly', 3755), ('news', 3670), ('fortnite', 3651), ('highlights', 3580), ('how to', 3417), ('football', 3372), ('tiktok', 3358), ('music', 3356), ('sports', 3336), ('rap', 3308), ('Minecraft', 3304), ('gameplay', 3185), ('new', 3072), ('NBA', 3056), ('family', 3052), ('reaction', 2981), ('game', 2900), ('video', 2893), ('hip hop', 2793), ('Records', 2671), ('trailer', 2552), ('Football', 2462), ('Rap', 2352), ('soccer', 2336), ('diy', 2298), ('nintendo', 2176), ('review', 2164), ('science', 2148), ('minecraft challenge', 2112), ('games', 2108), ('fun', 2044), ('Hip Hop', 2036), ('nba', 2035), ('Basketball', 1969), ('minecraft hardcore', 1969), ('food', 1915), ('parody', 1901), ('prank', 1889), ('boxing', 1877), ('video games', 1865), ('pokemon', 1859), ('laugh', 1835), ('fortnite battle royale', 1799)]\n"
     ]
    }
   ],
   "source": [
    "all_tags = [tag for sublist in df['tag_list'] for tag in sublist]\n",
    "tag_counts = Counter(all_tags)\n",
    "\n",
    "# 50 most common tags\n",
    "top_50_tags = tag_counts.most_common(50)\n",
    "print(top_50_tags)"
   ]
  },
  {
   "cell_type": "code",
   "execution_count": 36,
   "id": "f8ee2eca",
   "metadata": {},
   "outputs": [],
   "source": [
    "## the above  good insight into what tags are most commonly used"
   ]
  },
  {
   "cell_type": "markdown",
   "id": "a1bb686a",
   "metadata": {},
   "source": [
    "Understanding Channels"
   ]
  },
  {
   "cell_type": "code",
   "execution_count": 37,
   "id": "9af88b10",
   "metadata": {},
   "outputs": [
    {
     "data": {
      "text/html": [
       "<div>\n",
       "<style scoped>\n",
       "    .dataframe tbody tr th:only-of-type {\n",
       "        vertical-align: middle;\n",
       "    }\n",
       "\n",
       "    .dataframe tbody tr th {\n",
       "        vertical-align: top;\n",
       "    }\n",
       "\n",
       "    .dataframe thead th {\n",
       "        text-align: right;\n",
       "    }\n",
       "</style>\n",
       "<table border=\"1\" class=\"dataframe\">\n",
       "  <thead>\n",
       "    <tr style=\"text-align: right;\">\n",
       "      <th></th>\n",
       "      <th>channelTitle</th>\n",
       "      <th>video_count</th>\n",
       "    </tr>\n",
       "  </thead>\n",
       "  <tbody>\n",
       "    <tr>\n",
       "      <th>1975</th>\n",
       "      <td>NFL</td>\n",
       "      <td>422</td>\n",
       "    </tr>\n",
       "    <tr>\n",
       "      <th>4524</th>\n",
       "      <td>NBA</td>\n",
       "      <td>396</td>\n",
       "    </tr>\n",
       "    <tr>\n",
       "      <th>7270</th>\n",
       "      <td>NBC Sports</td>\n",
       "      <td>167</td>\n",
       "    </tr>\n",
       "    <tr>\n",
       "      <th>2087</th>\n",
       "      <td>CBS Sports Golazo</td>\n",
       "      <td>146</td>\n",
       "    </tr>\n",
       "    <tr>\n",
       "      <th>2088</th>\n",
       "      <td>Champions League on CBS Sports</td>\n",
       "      <td>146</td>\n",
       "    </tr>\n",
       "    <tr>\n",
       "      <th>6238</th>\n",
       "      <td>ESPN</td>\n",
       "      <td>131</td>\n",
       "    </tr>\n",
       "    <tr>\n",
       "      <th>6521</th>\n",
       "      <td>SSundee</td>\n",
       "      <td>128</td>\n",
       "    </tr>\n",
       "    <tr>\n",
       "      <th>7058</th>\n",
       "      <td>SSSniperWolf</td>\n",
       "      <td>117</td>\n",
       "    </tr>\n",
       "    <tr>\n",
       "      <th>587</th>\n",
       "      <td>Big Hit Labels</td>\n",
       "      <td>111</td>\n",
       "    </tr>\n",
       "    <tr>\n",
       "      <th>588</th>\n",
       "      <td>HYBE LABELS</td>\n",
       "      <td>111</td>\n",
       "    </tr>\n",
       "    <tr>\n",
       "      <th>7643</th>\n",
       "      <td>SpaceX</td>\n",
       "      <td>106</td>\n",
       "    </tr>\n",
       "    <tr>\n",
       "      <th>7234</th>\n",
       "      <td>Saturday Night Live</td>\n",
       "      <td>106</td>\n",
       "    </tr>\n",
       "    <tr>\n",
       "      <th>6228</th>\n",
       "      <td>Genshin Impact</td>\n",
       "      <td>105</td>\n",
       "    </tr>\n",
       "    <tr>\n",
       "      <th>7972</th>\n",
       "      <td>UFC</td>\n",
       "      <td>101</td>\n",
       "    </tr>\n",
       "    <tr>\n",
       "      <th>7971</th>\n",
       "      <td>UFC - Ultimate Fighting Championship</td>\n",
       "      <td>101</td>\n",
       "    </tr>\n",
       "    <tr>\n",
       "      <th>6986</th>\n",
       "      <td>The Game Theorists</td>\n",
       "      <td>100</td>\n",
       "    </tr>\n",
       "    <tr>\n",
       "      <th>2361</th>\n",
       "      <td>Nintendo</td>\n",
       "      <td>100</td>\n",
       "    </tr>\n",
       "    <tr>\n",
       "      <th>2360</th>\n",
       "      <td>Nintendo of America</td>\n",
       "      <td>100</td>\n",
       "    </tr>\n",
       "    <tr>\n",
       "      <th>3562</th>\n",
       "      <td>First We Feast</td>\n",
       "      <td>98</td>\n",
       "    </tr>\n",
       "    <tr>\n",
       "      <th>1052</th>\n",
       "      <td>ESPN FC</td>\n",
       "      <td>97</td>\n",
       "    </tr>\n",
       "    <tr>\n",
       "      <th>6575</th>\n",
       "      <td>Fortnite</td>\n",
       "      <td>97</td>\n",
       "    </tr>\n",
       "    <tr>\n",
       "      <th>6881</th>\n",
       "      <td>Ryan Trahan</td>\n",
       "      <td>97</td>\n",
       "    </tr>\n",
       "    <tr>\n",
       "      <th>3089</th>\n",
       "      <td>Skip and Shannon: UNDISPUTED</td>\n",
       "      <td>95</td>\n",
       "    </tr>\n",
       "    <tr>\n",
       "      <th>3090</th>\n",
       "      <td>UNDISPUTED</td>\n",
       "      <td>95</td>\n",
       "    </tr>\n",
       "    <tr>\n",
       "      <th>5217</th>\n",
       "      <td>JYP Entertainment</td>\n",
       "      <td>95</td>\n",
       "    </tr>\n",
       "    <tr>\n",
       "      <th>4223</th>\n",
       "      <td>NBA on TNT</td>\n",
       "      <td>94</td>\n",
       "    </tr>\n",
       "    <tr>\n",
       "      <th>2741</th>\n",
       "      <td>WWE</td>\n",
       "      <td>92</td>\n",
       "    </tr>\n",
       "    <tr>\n",
       "      <th>7014</th>\n",
       "      <td>FOX Soccer</td>\n",
       "      <td>91</td>\n",
       "    </tr>\n",
       "    <tr>\n",
       "      <th>190</th>\n",
       "      <td>Apex Legends</td>\n",
       "      <td>90</td>\n",
       "    </tr>\n",
       "    <tr>\n",
       "      <th>3912</th>\n",
       "      <td>Dude Perfect</td>\n",
       "      <td>90</td>\n",
       "    </tr>\n",
       "    <tr>\n",
       "      <th>1733</th>\n",
       "      <td>FORMULA 1</td>\n",
       "      <td>89</td>\n",
       "    </tr>\n",
       "    <tr>\n",
       "      <th>2126</th>\n",
       "      <td>SMTOWN</td>\n",
       "      <td>88</td>\n",
       "    </tr>\n",
       "    <tr>\n",
       "      <th>3124</th>\n",
       "      <td>BANGTANTV</td>\n",
       "      <td>88</td>\n",
       "    </tr>\n",
       "    <tr>\n",
       "      <th>7910</th>\n",
       "      <td>Marvel Entertainment</td>\n",
       "      <td>87</td>\n",
       "    </tr>\n",
       "    <tr>\n",
       "      <th>676</th>\n",
       "      <td>The Film Theorists</td>\n",
       "      <td>86</td>\n",
       "    </tr>\n",
       "    <tr>\n",
       "      <th>1908</th>\n",
       "      <td>Clash of Clans</td>\n",
       "      <td>85</td>\n",
       "    </tr>\n",
       "    <tr>\n",
       "      <th>2528</th>\n",
       "      <td>The Food Theorists</td>\n",
       "      <td>84</td>\n",
       "    </tr>\n",
       "    <tr>\n",
       "      <th>2556</th>\n",
       "      <td>Veritasium</td>\n",
       "      <td>84</td>\n",
       "    </tr>\n",
       "    <tr>\n",
       "      <th>4641</th>\n",
       "      <td>MrBeast</td>\n",
       "      <td>84</td>\n",
       "    </tr>\n",
       "    <tr>\n",
       "      <th>4533</th>\n",
       "      <td>Netflix</td>\n",
       "      <td>84</td>\n",
       "    </tr>\n",
       "    <tr>\n",
       "      <th>188</th>\n",
       "      <td>beIN SPORTS USA</td>\n",
       "      <td>80</td>\n",
       "    </tr>\n",
       "    <tr>\n",
       "      <th>7865</th>\n",
       "      <td>DAZN USA</td>\n",
       "      <td>78</td>\n",
       "    </tr>\n",
       "    <tr>\n",
       "      <th>7864</th>\n",
       "      <td>DAZN Boxing</td>\n",
       "      <td>78</td>\n",
       "    </tr>\n",
       "    <tr>\n",
       "      <th>2644</th>\n",
       "      <td>MrBeast Gaming</td>\n",
       "      <td>77</td>\n",
       "    </tr>\n",
       "    <tr>\n",
       "      <th>3552</th>\n",
       "      <td>ZHC Crafts</td>\n",
       "      <td>76</td>\n",
       "    </tr>\n",
       "    <tr>\n",
       "      <th>6608</th>\n",
       "      <td>YoungBoy Never Broke Again</td>\n",
       "      <td>75</td>\n",
       "    </tr>\n",
       "    <tr>\n",
       "      <th>1695</th>\n",
       "      <td>Marques Brownlee</td>\n",
       "      <td>75</td>\n",
       "    </tr>\n",
       "    <tr>\n",
       "      <th>7593</th>\n",
       "      <td>videogamedunkey</td>\n",
       "      <td>74</td>\n",
       "    </tr>\n",
       "    <tr>\n",
       "      <th>7149</th>\n",
       "      <td>The Try Guys</td>\n",
       "      <td>74</td>\n",
       "    </tr>\n",
       "    <tr>\n",
       "      <th>733</th>\n",
       "      <td>RDCworld1</td>\n",
       "      <td>74</td>\n",
       "    </tr>\n",
       "  </tbody>\n",
       "</table>\n",
       "</div>"
      ],
      "text/plain": [
       "                              channelTitle  video_count\n",
       "1975                                   NFL          422\n",
       "4524                                   NBA          396\n",
       "7270                            NBC Sports          167\n",
       "2087                     CBS Sports Golazo          146\n",
       "2088        Champions League on CBS Sports          146\n",
       "6238                                  ESPN          131\n",
       "6521                               SSundee          128\n",
       "7058                          SSSniperWolf          117\n",
       "587                         Big Hit Labels          111\n",
       "588                            HYBE LABELS          111\n",
       "7643                                SpaceX          106\n",
       "7234                   Saturday Night Live          106\n",
       "6228                        Genshin Impact          105\n",
       "7972                                   UFC          101\n",
       "7971  UFC - Ultimate Fighting Championship          101\n",
       "6986                    The Game Theorists          100\n",
       "2361                              Nintendo          100\n",
       "2360                   Nintendo of America          100\n",
       "3562                        First We Feast           98\n",
       "1052                               ESPN FC           97\n",
       "6575                              Fortnite           97\n",
       "6881                           Ryan Trahan           97\n",
       "3089          Skip and Shannon: UNDISPUTED           95\n",
       "3090                            UNDISPUTED           95\n",
       "5217                     JYP Entertainment           95\n",
       "4223                            NBA on TNT           94\n",
       "2741                                   WWE           92\n",
       "7014                            FOX Soccer           91\n",
       "190                           Apex Legends           90\n",
       "3912                          Dude Perfect           90\n",
       "1733                             FORMULA 1           89\n",
       "2126                                SMTOWN           88\n",
       "3124                             BANGTANTV           88\n",
       "7910                  Marvel Entertainment           87\n",
       "676                     The Film Theorists           86\n",
       "1908                        Clash of Clans           85\n",
       "2528                    The Food Theorists           84\n",
       "2556                            Veritasium           84\n",
       "4641                               MrBeast           84\n",
       "4533                               Netflix           84\n",
       "188                        beIN SPORTS USA           80\n",
       "7865                              DAZN USA           78\n",
       "7864                           DAZN Boxing           78\n",
       "2644                        MrBeast Gaming           77\n",
       "3552                            ZHC Crafts           76\n",
       "6608            YoungBoy Never Broke Again           75\n",
       "1695                      Marques Brownlee           75\n",
       "7593                       videogamedunkey           74\n",
       "7149                          The Try Guys           74\n",
       "733                              RDCworld1           74"
      ]
     },
     "execution_count": 37,
     "metadata": {},
     "output_type": "execute_result"
    }
   ],
   "source": [
    "channel_counts = dfUnique.groupby('channelId').size().reset_index(name='video_count')\n",
    "channel_counts = channel_counts.merge(dfUnique[['channelId', 'channelTitle']].drop_duplicates(), on='channelId')\n",
    "top_50_channels = channel_counts.sort_values(by='video_count', ascending=False).head(50)\n",
    "top_50_channels[['channelTitle', 'video_count']]"
   ]
  },
  {
   "cell_type": "code",
   "execution_count": 38,
   "id": "f475470e",
   "metadata": {},
   "outputs": [],
   "source": [
    "dfUnique['publishedAt'] = pd.to_datetime(dfUnique['publishedAt'], format='%Y-%m-%dT%H:%M:%SZ')\n",
    "dfUnique['trending_date'] = pd.to_datetime(dfUnique['trending_date'], format='%Y-%m-%dT%H:%M:%SZ')\n",
    "df['publishedAt'] = pd.to_datetime(df['publishedAt'], format='%Y-%m-%dT%H:%M:%SZ')\n",
    "df['trending_date'] = pd.to_datetime(df['trending_date'], format='%Y-%m-%dT%H:%M:%SZ')"
   ]
  },
  {
   "cell_type": "code",
   "execution_count": 39,
   "id": "5bf3fae3",
   "metadata": {},
   "outputs": [],
   "source": [
    "df['days_between'] = (df['trending_date'] - df['publishedAt']).dt.days\n",
    "dfUnique['days_between'] = (dfUnique['trending_date'] - dfUnique['publishedAt']).dt.days"
   ]
  },
  {
   "cell_type": "code",
   "execution_count": 40,
   "id": "9dcaed54",
   "metadata": {},
   "outputs": [
    {
     "data": {
      "text/plain": [
       "count    47142.000000\n",
       "mean         5.235119\n",
       "std          2.002491\n",
       "min         -1.000000\n",
       "25%          4.000000\n",
       "50%          5.000000\n",
       "75%          6.000000\n",
       "max         36.000000\n",
       "Name: days_between, dtype: float64"
      ]
     },
     "execution_count": 40,
     "metadata": {},
     "output_type": "execute_result"
    }
   ],
   "source": [
    "dfUnique['days_between'].describe()"
   ]
  },
  {
   "cell_type": "code",
   "execution_count": 41,
   "id": "a33f3935",
   "metadata": {},
   "outputs": [
    {
     "data": {
      "image/png": "[encoded data removed]",
      "text/plain": [
       "<Figure size 1000x600 with 1 Axes>"
      ]
     },
     "metadata": {},
     "output_type": "display_data"
    }
   ],
   "source": [
    "plt.figure(figsize=(10, 6))\n",
    "plt.hist(df['days_between'], bins=37, edgecolor='black')\n",
    "plt.title('Distribution of Days Between PublishedAt and Trending Date', fontsize=14)\n",
    "plt.xlabel('Days Between', fontsize=12)\n",
    "plt.ylabel('Number of Rows', fontsize=12)\n",
    "plt.show()"
   ]
  },
  {
   "cell_type": "code",
   "execution_count": 42,
   "id": "a328c47a",
   "metadata": {},
   "outputs": [],
   "source": [
    "## looks like most of the entries are within 5 days of posting"
   ]
  },
  {
   "cell_type": "code",
   "execution_count": 43,
   "id": "714a1315",
   "metadata": {},
   "outputs": [
    {
     "data": {
      "image/png": "[encoded data removed]",
      "text/plain": [
       "<Figure size 1000x600 with 1 Axes>"
      ]
     },
     "metadata": {},
     "output_type": "display_data"
    }
   ],
   "source": [
    "plt.figure(figsize=(10, 6))\n",
    "plt.hist(dfUnique['days_between'], bins=37, edgecolor='black')\n",
    "plt.title('Distribution of Days Between PublishedAt and Trending Date for unique videos', fontsize=14)\n",
    "plt.xlabel('Days Between', fontsize=12)\n",
    "plt.ylabel('Number of Rows', fontsize=12)\n",
    "plt.show()"
   ]
  },
  {
   "cell_type": "code",
   "execution_count": 44,
   "id": "2ab4c7e3",
   "metadata": {},
   "outputs": [],
   "source": [
    "##highest view count happens to be right at like 5 days. 4-6 days basically"
   ]
  },
  {
   "cell_type": "code",
   "execution_count": 45,
   "id": "9bc71716",
   "metadata": {},
   "outputs": [],
   "source": [
    "df.drop('dislikes', axis=1, inplace=True)\n",
    "dfUnique.drop('dislikes', axis=1, inplace=True)"
   ]
  },
  {
   "cell_type": "code",
   "execution_count": 46,
   "id": "f93a797b",
   "metadata": {},
   "outputs": [],
   "source": [
    "df.drop('thumbnail_link', axis=1, inplace=True)\n",
    "dfUnique.drop('thumbnail_link', axis=1, inplace=True)"
   ]
  },
  {
   "cell_type": "code",
   "execution_count": 47,
   "id": "27164619",
   "metadata": {},
   "outputs": [],
   "source": [
    "df['ratings_disabled'] = df['ratings_disabled'].astype(int)\n",
    "df['comments_disabled'] = df['comments_disabled'].astype(int)\n",
    "\n",
    "dfUnique['ratings_disabled'] = dfUnique['ratings_disabled'].astype(int)\n",
    "dfUnique['comments_disabled'] = dfUnique['comments_disabled'].astype(int)"
   ]
  },
  {
   "cell_type": "code",
   "execution_count": 48,
   "id": "c2542a26",
   "metadata": {},
   "outputs": [
    {
     "name": "stdout",
     "output_type": "stream",
     "text": [
      "Pearson Correlation:\n",
      "                    ratings_disabled  comments_disabled  view_count  \\\n",
      "ratings_disabled           1.000000           0.212021    0.005496   \n",
      "comments_disabled          0.212021           1.000000    0.000632   \n",
      "view_count                 0.005496           0.000632    1.000000   \n",
      "comment_count             -0.004589          -0.016067    0.469340   \n",
      "\n",
      "                   comment_count  \n",
      "ratings_disabled       -0.004589  \n",
      "comments_disabled      -0.016067  \n",
      "view_count              0.469340  \n",
      "comment_count           1.000000  \n",
      "\n",
      "Spearman Correlation:\n",
      "                    ratings_disabled  comments_disabled  view_count  \\\n",
      "ratings_disabled           1.000000           0.212021   -0.005932   \n",
      "comments_disabled          0.212021           1.000000   -0.016205   \n",
      "view_count                -0.005932          -0.016205    1.000000   \n",
      "comment_count             -0.043334          -0.195815    0.668883   \n",
      "\n",
      "                   comment_count  \n",
      "ratings_disabled       -0.043334  \n",
      "comments_disabled      -0.195815  \n",
      "view_count              0.668883  \n",
      "comment_count           1.000000  \n"
     ]
    }
   ],
   "source": [
    "correlation_view = df[['ratings_disabled', 'comments_disabled', 'view_count', 'comment_count']].corr(method='pearson')\n",
    "correlation_spearman = df[['ratings_disabled', 'comments_disabled', 'view_count', 'comment_count']].corr(method='spearman')\n",
    "print(\"Pearson Correlation:\\n\", correlation_view)\n",
    "print(\"\\nSpearman Correlation:\\n\", correlation_spearman)"
   ]
  },
  {
   "cell_type": "code",
   "execution_count": 49,
   "id": "7ca81401",
   "metadata": {},
   "outputs": [],
   "source": [
    "## pearson correlation and spearman correlation are 2 ciommon correlation measures"
   ]
  },
  {
   "cell_type": "code",
   "execution_count": 50,
   "id": "7de164a6",
   "metadata": {},
   "outputs": [
    {
     "ename": "SyntaxError",
     "evalue": "invalid syntax (3152305013.py, line 1)",
     "output_type": "error",
     "traceback": [
      "\u001b[0;36m  Cell \u001b[0;32mIn[50], line 1\u001b[0;36m\u001b[0m\n\u001b[0;31m    as we can see, the disabling of comments and ratings don't really seem to have an effect on the view count. however, comment count has a great effect still-- so let's keep that and remove the others\u001b[0m\n\u001b[0m    ^\u001b[0m\n\u001b[0;31mSyntaxError\u001b[0m\u001b[0;31m:\u001b[0m invalid syntax\n"
     ]
    }
   ],
   "source": [
    "as we can see, the disabling of comments and ratings don't really seem to have an effect on the view count. however, comment count has a great effect still-- so let's keep that and remove the others"
   ]
  },
  {
   "cell_type": "code",
   "execution_count": 51,
   "id": "b3c87da7",
   "metadata": {},
   "outputs": [],
   "source": [
    "df.drop('ratings_disabled', axis=1, inplace=True)\n",
    "dfUnique.drop('ratings_disabled', axis=1, inplace=True)\n",
    "\n",
    "df.drop('comments_disabled', axis=1, inplace=True)\n",
    "dfUnique.drop('comments_disabled', axis=1, inplace=True)"
   ]
  },
  {
   "cell_type": "code",
   "execution_count": 52,
   "id": "ea47ca24",
   "metadata": {},
   "outputs": [
    {
     "data": {
      "text/plain": [
       "Index(['video_id', 'title', 'publishedAt', 'channelId', 'channelTitle',\n",
       "       'categoryId', 'trending_date', 'tags', 'view_count', 'likes',\n",
       "       'comment_count', 'description', 'tag_count', 'tag_list',\n",
       "       'days_between'],\n",
       "      dtype='object')"
      ]
     },
     "execution_count": 52,
     "metadata": {},
     "output_type": "execute_result"
    }
   ],
   "source": [
    "df.columns"
   ]
  },
  {
   "cell_type": "code",
   "execution_count": 53,
   "id": "119e7caf",
   "metadata": {},
   "outputs": [],
   "source": [
    "df['like_ratio'] = df['likes']/df['view_count']\n",
    "df['comment_ratio'] = df['comment_count']/df['view_count']\n",
    "dfUnique['like_ratio'] = dfUnique['likes']/dfUnique['view_count']\n",
    "dfUnique['comment_ratio'] = dfUnique['comment_count']/dfUnique['view_count']"
   ]
  },
  {
   "cell_type": "code",
   "execution_count": 54,
   "id": "572b6de9",
   "metadata": {},
   "outputs": [
    {
     "data": {
      "text/plain": [
       "0         0.103596\n",
       "1         0.061611\n",
       "2         0.173523\n",
       "3         0.046804\n",
       "4         0.040753\n",
       "            ...   \n",
       "268782    0.006530\n",
       "268783    0.026965\n",
       "268784    0.047990\n",
       "268785    0.079958\n",
       "268786    0.080262\n",
       "Name: like_ratio, Length: 268787, dtype: float64"
      ]
     },
     "execution_count": 54,
     "metadata": {},
     "output_type": "execute_result"
    }
   ],
   "source": [
    "df['like_ratio']"
   ]
  },
  {
   "cell_type": "code",
   "execution_count": 55,
   "id": "668af890",
   "metadata": {},
   "outputs": [],
   "source": [
    "df['like_ratio'] = df['like_ratio'].replace([np.inf, -np.inf], np.nan)\n",
    "df['comment_ratio'] = df['comment_ratio'].replace([np.inf, -np.inf], np.nan)\n",
    "\n",
    "dfUnique['like_ratio'] = dfUnique['like_ratio'].replace([np.inf, -np.inf], np.nan)\n",
    "dfUnique['comment_ratio'] = dfUnique['comment_ratio'].replace([np.inf, -np.inf], np.nan)"
   ]
  },
  {
   "cell_type": "code",
   "execution_count": 56,
   "id": "a7f3b3b0",
   "metadata": {},
   "outputs": [],
   "source": [
    "##let's visualize the relevance of like_count and comment_count"
   ]
  },
  {
   "cell_type": "code",
   "execution_count": 57,
   "id": "de7471d9",
   "metadata": {},
   "outputs": [],
   "source": [
    "df_lc =  df.dropna(subset=['like_ratio', 'comment_ratio'])\n",
    "df_ulc =  dfUnique.dropna(subset=['like_ratio', 'comment_ratio'])"
   ]
  },
  {
   "cell_type": "code",
   "execution_count": 58,
   "id": "7f9b10ad",
   "metadata": {},
   "outputs": [
    {
     "data": {
      "image/png": "[encoded data removed]",
      "text/plain": [
       "<Figure size 1400x600 with 2 Axes>"
      ]
     },
     "metadata": {},
     "output_type": "display_data"
    }
   ],
   "source": [
    "plt.figure(figsize=(14, 6))\n",
    "\n",
    "plt.subplot(1, 2, 1)\n",
    "plt.hist(df_lc['like_ratio'], bins=50, edgecolor='black')\n",
    "plt.title('Distribution of Like Ratios')\n",
    "plt.xlabel('Like Ratio')\n",
    "plt.ylabel('Number of Videos')\n",
    "\n",
    "plt.subplot(1, 2, 2)\n",
    "plt.hist(df_ulc['comment_ratio'], bins=50, edgecolor='black')\n",
    "plt.title('Distribution of Comment Ratios')\n",
    "plt.xlabel('Comment Ratio')\n",
    "plt.ylabel('Number of Videos')\n",
    "\n",
    "plt.tight_layout()\n",
    "plt.show()"
   ]
  },
  {
   "cell_type": "code",
   "execution_count": 59,
   "id": "c99928aa",
   "metadata": {},
   "outputs": [
    {
     "name": "stdout",
     "output_type": "stream",
     "text": [
      "Pearson Correlation:\n",
      "                like_ratio  comment_ratio  comment_count     likes  view_count\n",
      "like_ratio       1.000000       0.397553       0.075805  0.210867   -0.021805\n",
      "comment_ratio    0.397553       1.000000       0.238413  0.102149   -0.019629\n",
      "comment_count    0.075805       0.238413       1.000000  0.685399    0.402247\n",
      "likes            0.210867       0.102149       0.685399  1.000000    0.627792\n",
      "view_count      -0.021805      -0.019629       0.402247  0.627792    1.000000\n",
      "\n",
      "Spearman Correlation:\n",
      "                like_ratio  comment_ratio  comment_count     likes  view_count\n",
      "like_ratio       1.000000       0.475750       0.312076  0.557670   -0.020350\n",
      "comment_ratio    0.475750       1.000000       0.519042  0.095660   -0.226291\n",
      "comment_count    0.312076       0.519042       1.000000  0.727022    0.651364\n",
      "likes            0.557670       0.095660       0.727022  1.000000    0.771007\n",
      "view_count      -0.020350      -0.226291       0.651364  0.771007    1.000000\n"
     ]
    }
   ],
   "source": [
    "correlation_view = dfUnique[['like_ratio', 'comment_ratio', 'comment_count', 'likes', 'view_count']].corr(method='pearson')\n",
    "correlation_spearman = dfUnique[['like_ratio', 'comment_ratio', 'comment_count', 'likes', 'view_count']].corr(method='spearman')\n",
    "\n",
    "# Display the results\n",
    "print(\"Pearson Correlation:\\n\", correlation_view)\n",
    "print(\"\\nSpearman Correlation:\\n\", correlation_spearman)\n"
   ]
  },
  {
   "cell_type": "code",
   "execution_count": 60,
   "id": "0830d58f",
   "metadata": {},
   "outputs": [],
   "source": [
    "## this is weird.... seems like comments and likes ratios don't have a lot of effect, yet the comment_count and likes do.."
   ]
  },
  {
   "cell_type": "code",
   "execution_count": 61,
   "id": "57ecbfe1",
   "metadata": {},
   "outputs": [],
   "source": [
    "category_mapping = {0: 'Film & Animation',\n",
    "                   1: 'Autos & Vehicles',\n",
    "                   2: 'Music',\n",
    "                   3: 'Pets & Animals',\n",
    "                   4: 'Sports',\n",
    "                   5: 'Short Movies',\n",
    "                   6: 'Travel & Events',\n",
    "                   7: 'Gaming',\n",
    "                   8: 'Videoblogging',\n",
    "                   9: \"People & Blogs\",\n",
    "                   10: 'Comedy',\n",
    "                   11: 'Entertainment',\n",
    "                   12: 'News & Politics',\n",
    "                   13: 'Howto & Style',\n",
    "                   14: 'Education',\n",
    "                   15: 'Science & Technology',\n",
    "                   16: 'Nonprofits & Activism',\n",
    "                   17: 'Movies',\n",
    "                   18: 'Anime/Animation',\n",
    "                   19: 'Action/Adventure',\n",
    "                   20: 'Classics',\n",
    "                   21: 'Comedy',\n",
    "                   22: 'Documentary',\n",
    "                   23: 'Drama',\n",
    "                   24: 'Family',\n",
    "                   25: 'Foreign',\n",
    "                   26: 'Horror',\n",
    "                   27: 'Sci-Fi/Fantasy',\n",
    "                   28: 'Thriller',\n",
    "                   29: 'Shorts',\n",
    "                   30: 'Shows',\n",
    "                   31: 'Trailers'}\n",
    "## pulled straight from the kaggle json file"
   ]
  },
  {
   "cell_type": "code",
   "execution_count": 62,
   "id": "311fb1b3",
   "metadata": {},
   "outputs": [],
   "source": [
    "df['category'] = df['categoryId'].map(category_mapping)\n",
    "dfUnique['category'] = dfUnique['categoryId'].map(category_mapping)"
   ]
  },
  {
   "cell_type": "code",
   "execution_count": 63,
   "id": "1d60da2d",
   "metadata": {},
   "outputs": [],
   "source": [
    "df = pd.get_dummies(df, columns=['category'], prefix='cat', drop_first=True)\n",
    "dfUnique = pd.get_dummies(dfUnique, columns=['category'], prefix='cat', drop_first=True)"
   ]
  },
  {
   "cell_type": "code",
   "execution_count": 64,
   "id": "1e12396c",
   "metadata": {},
   "outputs": [
    {
     "data": {
      "text/plain": [
       "Index(['video_id', 'title', 'publishedAt', 'channelId', 'channelTitle',\n",
       "       'categoryId', 'trending_date', 'tags', 'view_count', 'likes',\n",
       "       'comment_count', 'description', 'tag_count', 'tag_list', 'days_between',\n",
       "       'like_ratio', 'comment_ratio', 'cat_Autos & Vehicles', 'cat_Classics',\n",
       "       'cat_Comedy', 'cat_Documentary', 'cat_Drama', 'cat_Family',\n",
       "       'cat_Foreign', 'cat_Horror', 'cat_Movies', 'cat_Music',\n",
       "       'cat_Sci-Fi/Fantasy', 'cat_Science & Technology', 'cat_Shorts',\n",
       "       'cat_Thriller'],\n",
       "      dtype='object')"
      ]
     },
     "execution_count": 64,
     "metadata": {},
     "output_type": "execute_result"
    }
   ],
   "source": [
    "df.columns"
   ]
  },
  {
   "cell_type": "code",
   "execution_count": 65,
   "id": "fa8d6d16",
   "metadata": {},
   "outputs": [],
   "source": [
    "category_columns = [col for col in dfUnique.columns if col.startswith('cat_')]\n",
    "category_view_counts = {}\n",
    "for category in category_columns:\n",
    "    category_view_counts[category] = (dfUnique[category] * dfUnique['view_count']).sum()\n",
    "category_view_counts = dict(sorted(category_view_counts.items(), key=lambda item: item[1], reverse=True))"
   ]
  },
  {
   "cell_type": "code",
   "execution_count": 66,
   "id": "87aacb6f",
   "metadata": {},
   "outputs": [
    {
     "data": {
      "image/png": "[encoded data removed]",
      "text/plain": [
       "<Figure size 1200x600 with 1 Axes>"
      ]
     },
     "metadata": {},
     "output_type": "display_data"
    }
   ],
   "source": [
    "plt.figure(figsize=(12, 6))\n",
    "plt.bar(category_view_counts.keys(), category_view_counts.values(), color='skyblue', edgecolor='black')\n",
    "\n",
    "plt.title('Total View Count by Category', fontsize=14)\n",
    "plt.xlabel('Category', fontsize=12)\n",
    "plt.ylabel('Total View Count', fontsize=12)\n",
    "\n",
    "plt.xticks(rotation=45, ha='right')\n",
    "plt.tight_layout()\n",
    "plt.show()"
   ]
  },
  {
   "cell_type": "code",
   "execution_count": 67,
   "id": "06eb5507",
   "metadata": {},
   "outputs": [
    {
     "name": "stdout",
     "output_type": "stream",
     "text": [
      "0.17538794658967882\n"
     ]
    }
   ],
   "source": [
    "print((len(dfUnique['tag_count'] == 0)/ df.shape[0])) ## 17% of things don't have tags -- considerable amount"
   ]
  },
  {
   "cell_type": "code",
   "execution_count": 68,
   "id": "d4742255",
   "metadata": {},
   "outputs": [
    {
     "name": "stdout",
     "output_type": "stream",
     "text": [
      "2020-08-03 21:51:14\n",
      "2024-04-14 10:00:53\n"
     ]
    }
   ],
   "source": [
    "min_date = dfUnique['publishedAt'].min()\n",
    "max_date = dfUnique['publishedAt'].max()\n",
    "print(min_date)\n",
    "print(max_date)"
   ]
  },
  {
   "cell_type": "code",
   "execution_count": 70,
   "id": "908655ff",
   "metadata": {},
   "outputs": [],
   "source": [
    "## let's divide the data into relevant time columns\n",
    "df['year'] = df['publishedAt'].dt.year\n",
    "df['month'] = df['publishedAt'].dt.month\n",
    "df['year_month'] = df['publishedAt'].dt.to_period('M')\n",
    "\n",
    "dfUnique['year'] = dfUnique['publishedAt'].dt.year\n",
    "dfUnique['month'] = dfUnique['publishedAt'].dt.month\n",
    "dfUnique['year_month'] = dfUnique['publishedAt'].dt.to_period('M')"
   ]
  },
  {
   "cell_type": "code",
   "execution_count": 71,
   "id": "f87a50f0",
   "metadata": {},
   "outputs": [],
   "source": [
    "def get_season(month):\n",
    "    if month in [12, 1, 2]:\n",
    "        return 'Winter'\n",
    "    elif month in [3, 4, 5]:\n",
    "        return 'Spring'\n",
    "    elif month in [6, 7, 8]:\n",
    "        return 'Summer'\n",
    "    else:\n",
    "        return 'Fall'"
   ]
  },
  {
   "cell_type": "code",
   "execution_count": 72,
   "id": "13192c1e",
   "metadata": {},
   "outputs": [],
   "source": [
    "def get_season(month):\n",
    "    if month in [12, 1, 2]:\n",
    "        return 'Winter'\n",
    "    elif month in [3, 4, 5]:\n",
    "        return 'Spring'\n",
    "    elif month in [6, 7, 8]:\n",
    "        return 'Summer'\n",
    "    else:\n",
    "        return 'Fall'"
   ]
  },
  {
   "cell_type": "code",
   "execution_count": 73,
   "id": "8ac89e58",
   "metadata": {},
   "outputs": [],
   "source": [
    "df['season'] = df['month'].apply(get_season)\n",
    "dfUnique['season'] = dfUnique['month'].apply(get_season)"
   ]
  },
  {
   "cell_type": "code",
   "execution_count": 74,
   "id": "c10f8bb5",
   "metadata": {},
   "outputs": [
    {
     "data": {
      "text/plain": [
       "0         Summer\n",
       "1         Summer\n",
       "2         Summer\n",
       "3         Summer\n",
       "4         Summer\n",
       "           ...  \n",
       "268782    Spring\n",
       "268783    Spring\n",
       "268784    Spring\n",
       "268785    Spring\n",
       "268786    Spring\n",
       "Name: season, Length: 268787, dtype: object"
      ]
     },
     "execution_count": 74,
     "metadata": {},
     "output_type": "execute_result"
    }
   ],
   "source": [
    "df['season']"
   ]
  },
  {
   "cell_type": "code",
   "execution_count": 75,
   "id": "e18d14a5",
   "metadata": {},
   "outputs": [
    {
     "data": {
      "text/plain": [
       "0                    I ASKED HER TO BE MY GIRLFRIEND...\n",
       "1     Apex Legends | Stories from the Outlands – “Th...\n",
       "2     I left youtube for a month and THIS is what ha...\n",
       "3     XXL 2020 Freshman Class Revealed - Official An...\n",
       "4     Ultimate DIY Home Movie Theater for The LaBran...\n",
       "5     I Haven't Been Honest About My Injury.. Here's...\n",
       "6                              OUR FIRST FAMILY INTRO!!\n",
       "7                                    CGP Grey was WRONG\n",
       "8     SURPRISING MY DAD WITH HIS DREAM TRUCK!! | Lou...\n",
       "9     Ovi x Natanael Cano x Aleman x Big Soto - Veng...\n",
       "10                   i don't know what im doing anymore\n",
       "11                       Try Not To Laugh Challenge #51\n",
       "12    Rainbow Six Siege: Operation Shadow Legacy Rev...\n",
       "13     Lil Yachty & Future - Pardon Me (Official Video)\n",
       "14    When Our Generation Gets Old and Hears a Throw...\n",
       "15                 Ten Minutes with Tyler Cameron | Q&A\n",
       "16    Kylie Jenner Reacts To 'WAP' Music Video Backlash\n",
       "17                              Our Farm Got Destroyed.\n",
       "18                                       Time to Talk..\n",
       "19                            ITZY “Not Shy” M/V TEASER\n",
       "Name: title, dtype: object"
      ]
     },
     "execution_count": 75,
     "metadata": {},
     "output_type": "execute_result"
    }
   ],
   "source": [
    "df['title'][0:20]"
   ]
  },
  {
   "cell_type": "code",
   "execution_count": 87,
   "id": "d2597a4d",
   "metadata": {},
   "outputs": [],
   "source": [
    "import spacy\n",
    "import pytextrank\n",
    "import en_core_web_sm\n",
    "import nltk"
   ]
  },
  {
   "cell_type": "code",
   "execution_count": 102,
   "id": "c5411e30",
   "metadata": {},
   "outputs": [
    {
     "data": {
      "text/plain": [
       "<pytextrank.base.BaseTextRankFactory at 0x38a6d0710>"
      ]
     },
     "execution_count": 102,
     "metadata": {},
     "output_type": "execute_result"
    }
   ],
   "source": [
    "spacy_nlp = spacy.load(\"en_core_web_sm\")\n",
    "spacy_nlp.add_pipe(\"textrank\")"
   ]
  },
  {
   "cell_type": "code",
   "execution_count": 89,
   "id": "e95dfe88",
   "metadata": {},
   "outputs": [],
   "source": [
    "testing_text = \"TextRank is a keyword extraction algorithm based on PageRank and has been widely used in natural language processing tasks.\""
   ]
  },
  {
   "cell_type": "code",
   "execution_count": 90,
   "id": "69e052bc",
   "metadata": {},
   "outputs": [
    {
     "name": "stdout",
     "output_type": "stream",
     "text": [
      "natural language processing tasks\n",
      "PageRank\n",
      "a keyword extraction algorithm\n",
      "TextRank\n"
     ]
    }
   ],
   "source": [
    "doc = spacy_nlp(testing_text)\n",
    "for phrase in doc._.phrases[:10]:\n",
    "    print(phrase.text)"
   ]
  },
  {
   "cell_type": "code",
   "execution_count": 91,
   "id": "ba4f052f",
   "metadata": {},
   "outputs": [
    {
     "name": "stdout",
     "output_type": "stream",
     "text": [
      "Kendall Jenner\n",
      "Kylie Jenner\n",
      "Cardi B\n",
      "Kanye West\n",
      "Los Angeles\n",
      "KylieJennerKim Kardashian\n",
      "WAP\n",
      "The Stallion WAP music video\n",
      "cameo\n",
      "Cardi\n"
     ]
    }
   ],
   "source": [
    "doc = spacy_nlp(\"Kylie Jenner dissed over cameo in Cardi B and Megan The Stallion WAP music video and she reacts. Plus, Kendall Jenner is getting roasted on TikTok at the moment. #KendallJenner #WAP #KylieJennerKim Kardashian was spotted getting off a private jet when landing back in Los Angeles on July 28 after visiting her husband Kanye West and having a tearful conversation with him in a car.\")\n",
    "for phrase in doc._.phrases[:10]:\n",
    "    print(phrase.text)"
   ]
  },
  {
   "cell_type": "code",
   "execution_count": 151,
   "id": "5f2b8f94",
   "metadata": {},
   "outputs": [],
   "source": [
    "## above funciton took way too long to run, trying to optimize by leveraging spacy's batch processing \n",
    "## to process multiple rows\n",
    "# Disable unnecessary components for faster processing\n",
    "#spacy_nlp = spacy.load(\"en_core_web_sm\", disable=['ner', 'parser', 'tagger'])\n",
    "\n",
    "def get_keywords_batch(texts):\n",
    "    docs = list(spacy_nlp.pipe(texts, batch_size=32))\n",
    "    keywords_list = []\n",
    "    for doc in docs:\n",
    "        keywords = [phrase.text for phrase in doc._.phrases[:10]]\n",
    "        keywords_list.append(keywords)\n",
    "    return keywords_list"
   ]
  },
  {
   "cell_type": "code",
   "execution_count": 152,
   "id": "9ce31efd",
   "metadata": {},
   "outputs": [],
   "source": [
    "df['tag_list'] = dfUnique['tags'].apply(lambda x: x.split('|')[:-1])\n",
    "df['tag_count'] = df['tag_list'].apply(lambda x: len(x) if isinstance(x, list) else 0)"
   ]
  },
  {
   "cell_type": "code",
   "execution_count": 193,
   "id": "7bc3bfbb",
   "metadata": {},
   "outputs": [],
   "source": [
    "dfUnique['tag_list'] = dfUnique['tags'].apply(lambda x: x.split('|')[:-1])\n",
    "dfUnique['tag_count'] = df['tag_list'].apply(lambda x: len(x) if isinstance(x, list) else 0)"
   ]
  },
  {
   "cell_type": "code",
   "execution_count": 195,
   "id": "de68d1cb",
   "metadata": {},
   "outputs": [
    {
     "name": "stdout",
     "output_type": "stream",
     "text": [
      "234424\n",
      "12779\n"
     ]
    }
   ],
   "source": [
    "print((df['tag_count'] < 5).sum())\n",
    "print((dfUnique['tag_count'] < 5).sum())"
   ]
  },
  {
   "cell_type": "code",
   "execution_count": 196,
   "id": "c8d5f483",
   "metadata": {},
   "outputs": [],
   "source": [
    "def update_tags_for_low_count_rows(df, min_tags=2):\n",
    "    mask = df['tag_count'] < min_tags\n",
    "\n",
    "    if mask.any():\n",
    "        new_keywords = get_keywords_batch(df[mask]['title'].tolist())\n",
    "\n",
    "        if df['tag_list'].dtype != 'object':\n",
    "            df['tag_list'] = df['tag_list'].astype('object')\n",
    "            \n",
    "        df.loc[mask, 'tag_list'] = pd.Series(new_keywords, index=df[mask].index)\n",
    "        df.loc[mask, 'tag_count'] = [len(tags) for tags in new_keywords]\n",
    "    \n",
    "    return df"
   ]
  },
  {
   "cell_type": "code",
   "execution_count": 197,
   "id": "87254f54",
   "metadata": {},
   "outputs": [],
   "source": [
    "df = update_tags_for_low_count_rows(df)\n",
    "dfUnique = update_tags_for_low_count_rows(dfUnique)"
   ]
  },
  {
   "cell_type": "code",
   "execution_count": 198,
   "id": "33e8068e",
   "metadata": {},
   "outputs": [
    {
     "name": "stdout",
     "output_type": "stream",
     "text": [
      "172582\n"
     ]
    }
   ],
   "source": [
    "print((df['tag_count'] < 5).sum())"
   ]
  },
  {
   "cell_type": "code",
   "execution_count": 199,
   "id": "7267c2f6",
   "metadata": {},
   "outputs": [],
   "source": [
    "CACHE_FILE = \"pytrends_cache.pkl\""
   ]
  },
  {
   "cell_type": "code",
   "execution_count": 279,
   "id": "bd8ab975",
   "metadata": {},
   "outputs": [],
   "source": [
    "from pytrends.request import TrendReq\n",
    "pytrends = TrendReq(hl='en-US', tz=360)\n"
   ]
  },
  {
   "cell_type": "code",
   "execution_count": 209,
   "id": "147f4a50",
   "metadata": {},
   "outputs": [],
   "source": [
    "import pickle"
   ]
  },
  {
   "cell_type": "code",
   "execution_count": 281,
   "id": "2f6ce9fc",
   "metadata": {},
   "outputs": [],
   "source": [
    "pytrends = TrendReq(hl='en-US', tz=360)\n",
    "\n",
    "# Cache location\n",
    "CACHE_FILE = \"pytrends_cache.pkl\"\n",
    "\n",
    "# Load or initialize cache\n",
    "if os.path.exists(CACHE_FILE):\n",
    "    with open(CACHE_FILE, 'rb') as f:\n",
    "        trends_cache = pickle.load(f)\n",
    "else:\n",
    "    trends_cache = {}\n",
    "\n",
    "# Function to save cache\n",
    "def save_cache():\n",
    "    with open(CACHE_FILE, 'wb') as f:\n",
    "        pickle.dump(trends_cache, f)"
   ]
  },
  {
   "cell_type": "code",
   "execution_count": null,
   "id": "9fdc2dc1",
   "metadata": {},
   "outputs": [],
   "source": [
    "def get_trend_score(keywords):\n",
    "    \"\"\"\n",
    "    Fetch Pytrends interest scores for a list of keywords for the past week on YouTube. Cache results.\n",
    "    :param keywords: List of strings (keywords/tags)\n",
    "    :return: Dictionary of keyword scores\n",
    "    \"\"\"\n",
    "    global trends_cache\n",
    "    \n",
    "    # Join keywords into a single query\n",
    "    query = ','.join(keywords)\n",
    "    \n",
    "    # Check if cached\n",
    "    if query in trends_cache:\n",
    "        return trends_cache[query]\n",
    "    \n",
    "    # Fetch trends data\n",
    "    try:\n",
    "        pytrends.build_payload(keywords, timeframe='now 7-d', gprop='youtube')\n",
    "        data = pytrends.interest_over_time()\n",
    "        if not data.empty:\n",
    "            weighted_score = (\n",
    "                (data > 90).sum(axis=0).sum() * 3 +  # High weight for >90\n",
    "                ((data > 50) & (data <= 90)).sum(axis=0).sum() * 2 +  # Moderate weight\n",
    "                (data <= 50).sum(axis=0).sum() * 1  # Low weight\n",
    "            )\n",
    "            return weighted_score\n",
    "        else:\n",
    "            return 0\n",
    "    except Exception as e:\n",
    "        print(f\"Error fetching trends data for {keywords}: {e}\")\n",
    "        return 0\n",
    "\n",
    "    # Cache the result\n",
    "    trends_cache[query] = score\n",
    "    save_cache()\n",
    "    \n",
    "    return score\n"
   ]
  },
  {
   "cell_type": "code",
   "execution_count": null,
   "id": "ac9294f7",
   "metadata": {},
   "outputs": [],
   "source": [
    "def compute_pytrends_features(df):\n",
    "    \"\"\"\n",
    "    Compute Pytrends scores for the tag_list of each row in a DataFrame.\n",
    "    :param df: Pandas DataFrame with 'tag_list' column\n",
    "    :return: Updated DataFrame with 'pytrends_score' column\n",
    "    \"\"\"\n",
    "    df['pytrends_score'] = df['tag_list'].apply(lambda tags: get_trend_score(tags))\n",
    "    return df\n",
    "\n"
   ]
  },
  {
   "cell_type": "code",
   "execution_count": 313,
   "id": "ef740ecc",
   "metadata": {},
   "outputs": [],
   "source": [
    "dfSubset = df.head(40).copy()"
   ]
  },
  {
   "cell_type": "code",
   "execution_count": 314,
   "id": "cfef114d",
   "metadata": {},
   "outputs": [],
   "source": [
    "# Apply to DataFrame\n",
    "dfSubset = compute_pytrends_features(dfSubset)"
   ]
  },
  {
   "cell_type": "code",
   "execution_count": 315,
   "id": "c1c01812",
   "metadata": {},
   "outputs": [
    {
     "data": {
      "text/plain": [
       "0     0.000000\n",
       "1     0.000000\n",
       "2     0.000000\n",
       "3     1.076923\n",
       "4     0.000000\n",
       "5     0.000000\n",
       "6     0.000000\n",
       "7     0.000000\n",
       "8     0.000000\n",
       "9     0.000000\n",
       "10    0.000000\n",
       "11    0.000000\n",
       "12    0.000000\n",
       "13    0.000000\n",
       "14    1.041420\n",
       "15    0.000000\n",
       "16    0.721893\n",
       "17    0.000000\n",
       "18    0.000000\n",
       "19    0.000000\n",
       "20    0.000000\n",
       "21    0.000000\n",
       "22    0.000000\n",
       "23    0.000000\n",
       "24    0.000000\n",
       "25    0.000000\n",
       "26    0.000000\n",
       "27    0.000000\n",
       "28    0.000000\n",
       "29    0.000000\n",
       "30    0.000000\n",
       "31    0.591716\n",
       "32    0.000000\n",
       "33    0.591716\n",
       "34    0.000000\n",
       "35    0.000000\n",
       "36    0.000000\n",
       "37    0.000000\n",
       "38    0.000000\n",
       "39    0.000000\n",
       "Name: pytrends_score, dtype: float64"
      ]
     },
     "execution_count": 315,
     "metadata": {},
     "output_type": "execute_result"
    }
   ],
   "source": [
    "dfSubset['pytrends_score']"
   ]
  },
  {
   "cell_type": "code",
   "execution_count": null,
   "id": "a71217e0",
   "metadata": {},
   "outputs": [],
   "source": [
    "dfUnique  = compute_pytrends_features(dfUnique)"
   ]
  },
  {
   "cell_type": "code",
   "execution_count": null,
   "id": "7b7549f0",
   "metadata": {},
   "outputs": [],
   "source": [
    "dfUnique['pytrends_score']"
   ]
  },
  {
   "cell_type": "code",
   "execution_count": 327,
   "id": "dae8b6fe",
   "metadata": {},
   "outputs": [],
   "source": [
    "df['max_view_count'] = df.groupby('video_id')['view_count'].transform('max')"
   ]
  },
  {
   "cell_type": "code",
   "execution_count": 365,
   "id": "c171e64f",
   "metadata": {},
   "outputs": [],
   "source": [
    "df12 = df[df['days_between'].isin([1, 2])]"
   ]
  },
  {
   "cell_type": "code",
   "execution_count": 480,
   "id": "751d08e8",
   "metadata": {},
   "outputs": [],
   "source": [
    "X = df12.pivot_table(index='video_id', columns='days_between', values='view_count', aggfunc='first')"
   ]
  },
  {
   "cell_type": "code",
   "execution_count": 481,
   "id": "9673fae3",
   "metadata": {},
   "outputs": [
    {
     "data": {
      "text/html": [
       "<div>\n",
       "<style scoped>\n",
       "    .dataframe tbody tr th:only-of-type {\n",
       "        vertical-align: middle;\n",
       "    }\n",
       "\n",
       "    .dataframe tbody tr th {\n",
       "        vertical-align: top;\n",
       "    }\n",
       "\n",
       "    .dataframe thead th {\n",
       "        text-align: right;\n",
       "    }\n",
       "</style>\n",
       "<table border=\"1\" class=\"dataframe\">\n",
       "  <thead>\n",
       "    <tr style=\"text-align: right;\">\n",
       "      <th>days_between</th>\n",
       "      <th>1</th>\n",
       "      <th>2</th>\n",
       "    </tr>\n",
       "    <tr>\n",
       "      <th>video_id</th>\n",
       "      <th></th>\n",
       "      <th></th>\n",
       "    </tr>\n",
       "  </thead>\n",
       "  <tbody>\n",
       "    <tr>\n",
       "      <th>--14w5SOEUs</th>\n",
       "      <td>3317372.0</td>\n",
       "      <td>4690242.0</td>\n",
       "    </tr>\n",
       "    <tr>\n",
       "      <th>--2O86Z0hsM</th>\n",
       "      <td>466980.0</td>\n",
       "      <td>NaN</td>\n",
       "    </tr>\n",
       "    <tr>\n",
       "      <th>--40TEbZ9Is</th>\n",
       "      <td>596317.0</td>\n",
       "      <td>638046.0</td>\n",
       "    </tr>\n",
       "    <tr>\n",
       "      <th>--47FjCWgrU</th>\n",
       "      <td>1758484.0</td>\n",
       "      <td>1829323.0</td>\n",
       "    </tr>\n",
       "    <tr>\n",
       "      <th>--DKkzWVh-E</th>\n",
       "      <td>402839.0</td>\n",
       "      <td>511186.0</td>\n",
       "    </tr>\n",
       "    <tr>\n",
       "      <th>...</th>\n",
       "      <td>...</td>\n",
       "      <td>...</td>\n",
       "    </tr>\n",
       "    <tr>\n",
       "      <th>zzd4ydafGR0</th>\n",
       "      <td>6133086.0</td>\n",
       "      <td>7424687.0</td>\n",
       "    </tr>\n",
       "    <tr>\n",
       "      <th>zziBybeSAtw</th>\n",
       "      <td>2598512.0</td>\n",
       "      <td>NaN</td>\n",
       "    </tr>\n",
       "    <tr>\n",
       "      <th>zzk09ESX7e0</th>\n",
       "      <td>3340184.0</td>\n",
       "      <td>5671761.0</td>\n",
       "    </tr>\n",
       "    <tr>\n",
       "      <th>zzsIqPVv2Q4</th>\n",
       "      <td>1908378.0</td>\n",
       "      <td>2428879.0</td>\n",
       "    </tr>\n",
       "    <tr>\n",
       "      <th>zzvtP3jMIME</th>\n",
       "      <td>1454854.0</td>\n",
       "      <td>1748217.0</td>\n",
       "    </tr>\n",
       "  </tbody>\n",
       "</table>\n",
       "<p>45791 rows × 2 columns</p>\n",
       "</div>"
      ],
      "text/plain": [
       "days_between          1          2\n",
       "video_id                          \n",
       "--14w5SOEUs   3317372.0  4690242.0\n",
       "--2O86Z0hsM    466980.0        NaN\n",
       "--40TEbZ9Is    596317.0   638046.0\n",
       "--47FjCWgrU   1758484.0  1829323.0\n",
       "--DKkzWVh-E    402839.0   511186.0\n",
       "...                 ...        ...\n",
       "zzd4ydafGR0   6133086.0  7424687.0\n",
       "zziBybeSAtw   2598512.0        NaN\n",
       "zzk09ESX7e0   3340184.0  5671761.0\n",
       "zzsIqPVv2Q4   1908378.0  2428879.0\n",
       "zzvtP3jMIME   1454854.0  1748217.0\n",
       "\n",
       "[45791 rows x 2 columns]"
      ]
     },
     "execution_count": 481,
     "metadata": {},
     "output_type": "execute_result"
    }
   ],
   "source": [
    "X"
   ]
  },
  {
   "cell_type": "code",
   "execution_count": 482,
   "id": "052e5e3a",
   "metadata": {},
   "outputs": [
    {
     "name": "stdout",
     "output_type": "stream",
     "text": [
      "1.1912050236513607\n"
     ]
    }
   ],
   "source": [
    "non_nan_day_1_2 = X.dropna(subset=[1, 2])\n",
    "rate_of_change = non_nan_day_1_2[2] / non_nan_day_1_2[1]\n",
    "average_rate_of_change = rate_of_change.mean()\n",
    "print(average_rate_of_change)"
   ]
  },
  {
   "cell_type": "code",
   "execution_count": 483,
   "id": "7de8c84a",
   "metadata": {},
   "outputs": [],
   "source": [
    "X[2] = X.apply(lambda row: row[1] * average_rate_of_change if np.isnan(row[2]) else row[2], axis=1)"
   ]
  },
  {
   "cell_type": "code",
   "execution_count": 484,
   "id": "6f424fd4",
   "metadata": {},
   "outputs": [
    {
     "data": {
      "text/html": [
       "<div>\n",
       "<style scoped>\n",
       "    .dataframe tbody tr th:only-of-type {\n",
       "        vertical-align: middle;\n",
       "    }\n",
       "\n",
       "    .dataframe tbody tr th {\n",
       "        vertical-align: top;\n",
       "    }\n",
       "\n",
       "    .dataframe thead th {\n",
       "        text-align: right;\n",
       "    }\n",
       "</style>\n",
       "<table border=\"1\" class=\"dataframe\">\n",
       "  <thead>\n",
       "    <tr style=\"text-align: right;\">\n",
       "      <th>days_between</th>\n",
       "      <th>1</th>\n",
       "      <th>2</th>\n",
       "    </tr>\n",
       "    <tr>\n",
       "      <th>video_id</th>\n",
       "      <th></th>\n",
       "      <th></th>\n",
       "    </tr>\n",
       "  </thead>\n",
       "  <tbody>\n",
       "    <tr>\n",
       "      <th>--14w5SOEUs</th>\n",
       "      <td>3317372.0</td>\n",
       "      <td>4.690242e+06</td>\n",
       "    </tr>\n",
       "    <tr>\n",
       "      <th>--2O86Z0hsM</th>\n",
       "      <td>466980.0</td>\n",
       "      <td>5.562689e+05</td>\n",
       "    </tr>\n",
       "    <tr>\n",
       "      <th>--40TEbZ9Is</th>\n",
       "      <td>596317.0</td>\n",
       "      <td>6.380460e+05</td>\n",
       "    </tr>\n",
       "    <tr>\n",
       "      <th>--47FjCWgrU</th>\n",
       "      <td>1758484.0</td>\n",
       "      <td>1.829323e+06</td>\n",
       "    </tr>\n",
       "    <tr>\n",
       "      <th>--DKkzWVh-E</th>\n",
       "      <td>402839.0</td>\n",
       "      <td>5.111860e+05</td>\n",
       "    </tr>\n",
       "    <tr>\n",
       "      <th>...</th>\n",
       "      <td>...</td>\n",
       "      <td>...</td>\n",
       "    </tr>\n",
       "    <tr>\n",
       "      <th>zzd4ydafGR0</th>\n",
       "      <td>6133086.0</td>\n",
       "      <td>7.424687e+06</td>\n",
       "    </tr>\n",
       "    <tr>\n",
       "      <th>zziBybeSAtw</th>\n",
       "      <td>2598512.0</td>\n",
       "      <td>3.095361e+06</td>\n",
       "    </tr>\n",
       "    <tr>\n",
       "      <th>zzk09ESX7e0</th>\n",
       "      <td>3340184.0</td>\n",
       "      <td>5.671761e+06</td>\n",
       "    </tr>\n",
       "    <tr>\n",
       "      <th>zzsIqPVv2Q4</th>\n",
       "      <td>1908378.0</td>\n",
       "      <td>2.428879e+06</td>\n",
       "    </tr>\n",
       "    <tr>\n",
       "      <th>zzvtP3jMIME</th>\n",
       "      <td>1454854.0</td>\n",
       "      <td>1.748217e+06</td>\n",
       "    </tr>\n",
       "  </tbody>\n",
       "</table>\n",
       "<p>45791 rows × 2 columns</p>\n",
       "</div>"
      ],
      "text/plain": [
       "days_between          1             2\n",
       "video_id                             \n",
       "--14w5SOEUs   3317372.0  4.690242e+06\n",
       "--2O86Z0hsM    466980.0  5.562689e+05\n",
       "--40TEbZ9Is    596317.0  6.380460e+05\n",
       "--47FjCWgrU   1758484.0  1.829323e+06\n",
       "--DKkzWVh-E    402839.0  5.111860e+05\n",
       "...                 ...           ...\n",
       "zzd4ydafGR0   6133086.0  7.424687e+06\n",
       "zziBybeSAtw   2598512.0  3.095361e+06\n",
       "zzk09ESX7e0   3340184.0  5.671761e+06\n",
       "zzsIqPVv2Q4   1908378.0  2.428879e+06\n",
       "zzvtP3jMIME   1454854.0  1.748217e+06\n",
       "\n",
       "[45791 rows x 2 columns]"
      ]
     },
     "execution_count": 484,
     "metadata": {},
     "output_type": "execute_result"
    }
   ],
   "source": [
    "X"
   ]
  },
  {
   "cell_type": "code",
   "execution_count": 485,
   "id": "9a94c875",
   "metadata": {},
   "outputs": [
    {
     "data": {
      "text/plain": [
       "Index(['video_id', 'title', 'publishedAt', 'channelId', 'channelTitle',\n",
       "       'categoryId', 'trending_date', 'tags', 'view_count', 'likes',\n",
       "       'comment_count', 'description', 'tag_count', 'tag_list', 'days_between',\n",
       "       'like_ratio', 'comment_ratio', 'cat_Autos & Vehicles', 'cat_Classics',\n",
       "       'cat_Comedy', 'cat_Documentary', 'cat_Drama', 'cat_Family',\n",
       "       'cat_Foreign', 'cat_Horror', 'cat_Movies', 'cat_Music',\n",
       "       'cat_Sci-Fi/Fantasy', 'cat_Science & Technology', 'cat_Shorts',\n",
       "       'cat_Thriller', 'year', 'month', 'year_month', 'season', 'keywords',\n",
       "       'max_view_count'],\n",
       "      dtype='object')"
      ]
     },
     "execution_count": 485,
     "metadata": {},
     "output_type": "execute_result"
    }
   ],
   "source": [
    "df.columns"
   ]
  },
  {
   "cell_type": "code",
   "execution_count": 486,
   "id": "153dcb3f",
   "metadata": {},
   "outputs": [],
   "source": [
    "metadata = df.drop_duplicates(subset='video_id')[['video_id', 'channelTitle', 'view_count', 'likes',\n",
    "       'comment_count', 'tag_count', 'tag_list', 'cat_Autos & Vehicles', 'cat_Classics',\n",
    "       'cat_Comedy', 'cat_Documentary', 'cat_Drama', 'cat_Family',\n",
    "       'cat_Foreign', 'cat_Horror', 'cat_Movies', 'cat_Music',\n",
    "       'cat_Sci-Fi/Fantasy', 'cat_Science & Technology', 'cat_Shorts',\n",
    "       'cat_Thriller', 'year', 'month', 'year_month', 'season',\n",
    "       'max_view_count']]"
   ]
  },
  {
   "cell_type": "code",
   "execution_count": 487,
   "id": "72d9a601",
   "metadata": {
    "scrolled": true
   },
   "outputs": [],
   "source": [
    "X = pd.merge(X, metadata, on='video_id', how='left')"
   ]
  },
  {
   "cell_type": "code",
   "execution_count": 488,
   "id": "016a321d",
   "metadata": {},
   "outputs": [
    {
     "data": {
      "text/plain": [
       "Index([                'video_id',                          1,\n",
       "                                2,             'channelTitle',\n",
       "                     'view_count',                    'likes',\n",
       "                  'comment_count',                'tag_count',\n",
       "                       'tag_list',     'cat_Autos & Vehicles',\n",
       "                   'cat_Classics',               'cat_Comedy',\n",
       "                'cat_Documentary',                'cat_Drama',\n",
       "                     'cat_Family',              'cat_Foreign',\n",
       "                     'cat_Horror',               'cat_Movies',\n",
       "                      'cat_Music',       'cat_Sci-Fi/Fantasy',\n",
       "       'cat_Science & Technology',               'cat_Shorts',\n",
       "                   'cat_Thriller',                     'year',\n",
       "                          'month',               'year_month',\n",
       "                         'season',           'max_view_count'],\n",
       "      dtype='object')"
      ]
     },
     "execution_count": 488,
     "metadata": {},
     "output_type": "execute_result"
    }
   ],
   "source": [
    "X.columns"
   ]
  },
  {
   "cell_type": "code",
   "execution_count": 489,
   "id": "4b445d48",
   "metadata": {},
   "outputs": [],
   "source": [
    "y = X['max_view_count']"
   ]
  },
  {
   "cell_type": "code",
   "execution_count": 490,
   "id": "f005fe65",
   "metadata": {},
   "outputs": [
    {
     "data": {
      "text/plain": [
       "0         6823249\n",
       "1          538485\n",
       "2          682609\n",
       "3         1940781\n",
       "4          623949\n",
       "           ...   \n",
       "45786    13974461\n",
       "45787     2598512\n",
       "45788     9389223\n",
       "45789     3079200\n",
       "45790     2306803\n",
       "Name: max_view_count, Length: 45791, dtype: int64"
      ]
     },
     "execution_count": 490,
     "metadata": {},
     "output_type": "execute_result"
    }
   ],
   "source": [
    "y"
   ]
  },
  {
   "cell_type": "code",
   "execution_count": 491,
   "id": "5281f255",
   "metadata": {},
   "outputs": [],
   "source": [
    "X.drop('max_view_count', axis=1, inplace=True)"
   ]
  },
  {
   "cell_type": "code",
   "execution_count": 492,
   "id": "b9a08a96",
   "metadata": {
    "scrolled": true
   },
   "outputs": [
    {
     "data": {
      "text/html": [
       "<div>\n",
       "<style scoped>\n",
       "    .dataframe tbody tr th:only-of-type {\n",
       "        vertical-align: middle;\n",
       "    }\n",
       "\n",
       "    .dataframe tbody tr th {\n",
       "        vertical-align: top;\n",
       "    }\n",
       "\n",
       "    .dataframe thead th {\n",
       "        text-align: right;\n",
       "    }\n",
       "</style>\n",
       "<table border=\"1\" class=\"dataframe\">\n",
       "  <thead>\n",
       "    <tr style=\"text-align: right;\">\n",
       "      <th></th>\n",
       "      <th>video_id</th>\n",
       "      <th>1</th>\n",
       "      <th>2</th>\n",
       "      <th>channelTitle</th>\n",
       "      <th>view_count</th>\n",
       "      <th>likes</th>\n",
       "      <th>comment_count</th>\n",
       "      <th>tag_count</th>\n",
       "      <th>tag_list</th>\n",
       "      <th>cat_Autos &amp; Vehicles</th>\n",
       "      <th>...</th>\n",
       "      <th>cat_Movies</th>\n",
       "      <th>cat_Music</th>\n",
       "      <th>cat_Sci-Fi/Fantasy</th>\n",
       "      <th>cat_Science &amp; Technology</th>\n",
       "      <th>cat_Shorts</th>\n",
       "      <th>cat_Thriller</th>\n",
       "      <th>year</th>\n",
       "      <th>month</th>\n",
       "      <th>year_month</th>\n",
       "      <th>season</th>\n",
       "    </tr>\n",
       "  </thead>\n",
       "  <tbody>\n",
       "    <tr>\n",
       "      <th>0</th>\n",
       "      <td>--14w5SOEUs</td>\n",
       "      <td>3317372.0</td>\n",
       "      <td>4.690242e+06</td>\n",
       "      <td>4634</td>\n",
       "      <td>1076217</td>\n",
       "      <td>122830</td>\n",
       "      <td>9539</td>\n",
       "      <td>1</td>\n",
       "      <td>[Migos - Avalanche]</td>\n",
       "      <td>0</td>\n",
       "      <td>...</td>\n",
       "      <td>0</td>\n",
       "      <td>0</td>\n",
       "      <td>0</td>\n",
       "      <td>0</td>\n",
       "      <td>0</td>\n",
       "      <td>0</td>\n",
       "      <td>2021</td>\n",
       "      <td>6</td>\n",
       "      <td>2021-06</td>\n",
       "      <td>Summer</td>\n",
       "    </tr>\n",
       "    <tr>\n",
       "      <th>1</th>\n",
       "      <td>--2O86Z0hsM</td>\n",
       "      <td>466980.0</td>\n",
       "      <td>5.562689e+05</td>\n",
       "      <td>8255</td>\n",
       "      <td>466980</td>\n",
       "      <td>16481</td>\n",
       "      <td>1278</td>\n",
       "      <td>2</td>\n",
       "      <td>[ITSELF, MY TESLA]</td>\n",
       "      <td>0</td>\n",
       "      <td>...</td>\n",
       "      <td>0</td>\n",
       "      <td>0</td>\n",
       "      <td>0</td>\n",
       "      <td>0</td>\n",
       "      <td>0</td>\n",
       "      <td>0</td>\n",
       "      <td>2022</td>\n",
       "      <td>3</td>\n",
       "      <td>2022-03</td>\n",
       "      <td>Spring</td>\n",
       "    </tr>\n",
       "    <tr>\n",
       "      <th>2</th>\n",
       "      <td>--40TEbZ9Is</td>\n",
       "      <td>596317.0</td>\n",
       "      <td>6.380460e+05</td>\n",
       "      <td>6808</td>\n",
       "      <td>527742</td>\n",
       "      <td>6299</td>\n",
       "      <td>586</td>\n",
       "      <td>4</td>\n",
       "      <td>[Supporting Actress, 73rd, Actress, a Comedy]</td>\n",
       "      <td>0</td>\n",
       "      <td>...</td>\n",
       "      <td>0</td>\n",
       "      <td>0</td>\n",
       "      <td>0</td>\n",
       "      <td>0</td>\n",
       "      <td>0</td>\n",
       "      <td>0</td>\n",
       "      <td>2021</td>\n",
       "      <td>9</td>\n",
       "      <td>2021-09</td>\n",
       "      <td>Fall</td>\n",
       "    </tr>\n",
       "    <tr>\n",
       "      <th>3</th>\n",
       "      <td>--47FjCWgrU</td>\n",
       "      <td>1758484.0</td>\n",
       "      <td>1.829323e+06</td>\n",
       "      <td>4906</td>\n",
       "      <td>1635672</td>\n",
       "      <td>20234</td>\n",
       "      <td>1834</td>\n",
       "      <td>5</td>\n",
       "      <td>[Arizona Cardinals Game Highlights, San Franci...</td>\n",
       "      <td>0</td>\n",
       "      <td>...</td>\n",
       "      <td>1</td>\n",
       "      <td>0</td>\n",
       "      <td>0</td>\n",
       "      <td>0</td>\n",
       "      <td>0</td>\n",
       "      <td>0</td>\n",
       "      <td>2023</td>\n",
       "      <td>12</td>\n",
       "      <td>2023-12</td>\n",
       "      <td>Winter</td>\n",
       "    </tr>\n",
       "    <tr>\n",
       "      <th>4</th>\n",
       "      <td>--DKkzWVh-E</td>\n",
       "      <td>402839.0</td>\n",
       "      <td>5.111860e+05</td>\n",
       "      <td>5556</td>\n",
       "      <td>320130</td>\n",
       "      <td>18445</td>\n",
       "      <td>612</td>\n",
       "      <td>1</td>\n",
       "      <td>[Why Retaining Walls Collapse]</td>\n",
       "      <td>0</td>\n",
       "      <td>...</td>\n",
       "      <td>0</td>\n",
       "      <td>0</td>\n",
       "      <td>1</td>\n",
       "      <td>0</td>\n",
       "      <td>0</td>\n",
       "      <td>0</td>\n",
       "      <td>2021</td>\n",
       "      <td>12</td>\n",
       "      <td>2021-12</td>\n",
       "      <td>Winter</td>\n",
       "    </tr>\n",
       "    <tr>\n",
       "      <th>...</th>\n",
       "      <td>...</td>\n",
       "      <td>...</td>\n",
       "      <td>...</td>\n",
       "      <td>...</td>\n",
       "      <td>...</td>\n",
       "      <td>...</td>\n",
       "      <td>...</td>\n",
       "      <td>...</td>\n",
       "      <td>...</td>\n",
       "      <td>...</td>\n",
       "      <td>...</td>\n",
       "      <td>...</td>\n",
       "      <td>...</td>\n",
       "      <td>...</td>\n",
       "      <td>...</td>\n",
       "      <td>...</td>\n",
       "      <td>...</td>\n",
       "      <td>...</td>\n",
       "      <td>...</td>\n",
       "      <td>...</td>\n",
       "      <td>...</td>\n",
       "    </tr>\n",
       "    <tr>\n",
       "      <th>45786</th>\n",
       "      <td>zzd4ydafGR0</td>\n",
       "      <td>6133086.0</td>\n",
       "      <td>7.424687e+06</td>\n",
       "      <td>4148</td>\n",
       "      <td>1466173</td>\n",
       "      <td>326042</td>\n",
       "      <td>34993</td>\n",
       "      <td>38</td>\n",
       "      <td>[sleepy hallow, winners circle, drill music, d...</td>\n",
       "      <td>0</td>\n",
       "      <td>...</td>\n",
       "      <td>0</td>\n",
       "      <td>0</td>\n",
       "      <td>0</td>\n",
       "      <td>0</td>\n",
       "      <td>0</td>\n",
       "      <td>0</td>\n",
       "      <td>2021</td>\n",
       "      <td>2</td>\n",
       "      <td>2021-02</td>\n",
       "      <td>Winter</td>\n",
       "    </tr>\n",
       "    <tr>\n",
       "      <th>45787</th>\n",
       "      <td>zziBybeSAtw</td>\n",
       "      <td>2598512.0</td>\n",
       "      <td>3.095361e+06</td>\n",
       "      <td>4869</td>\n",
       "      <td>2284787</td>\n",
       "      <td>18919</td>\n",
       "      <td>2735</td>\n",
       "      <td>18</td>\n",
       "      <td>[Neon, New Agent, VALORANT Episode 4, Episode ...</td>\n",
       "      <td>0</td>\n",
       "      <td>...</td>\n",
       "      <td>1</td>\n",
       "      <td>0</td>\n",
       "      <td>0</td>\n",
       "      <td>0</td>\n",
       "      <td>0</td>\n",
       "      <td>0</td>\n",
       "      <td>2021</td>\n",
       "      <td>1</td>\n",
       "      <td>2021-01</td>\n",
       "      <td>Winter</td>\n",
       "    </tr>\n",
       "    <tr>\n",
       "      <th>45788</th>\n",
       "      <td>zzk09ESX7e0</td>\n",
       "      <td>3340184.0</td>\n",
       "      <td>5.671761e+06</td>\n",
       "      <td>4317</td>\n",
       "      <td>1325906</td>\n",
       "      <td>313962</td>\n",
       "      <td>43991</td>\n",
       "      <td>4</td>\n",
       "      <td>[MAMAMOO, [MV] 마마무, (MAMAMOO, We]</td>\n",
       "      <td>0</td>\n",
       "      <td>...</td>\n",
       "      <td>0</td>\n",
       "      <td>0</td>\n",
       "      <td>0</td>\n",
       "      <td>0</td>\n",
       "      <td>0</td>\n",
       "      <td>0</td>\n",
       "      <td>2021</td>\n",
       "      <td>6</td>\n",
       "      <td>2021-06</td>\n",
       "      <td>Summer</td>\n",
       "    </tr>\n",
       "    <tr>\n",
       "      <th>45789</th>\n",
       "      <td>zzsIqPVv2Q4</td>\n",
       "      <td>1908378.0</td>\n",
       "      <td>2.428879e+06</td>\n",
       "      <td>4546</td>\n",
       "      <td>1908378</td>\n",
       "      <td>52137</td>\n",
       "      <td>1705</td>\n",
       "      <td>4</td>\n",
       "      <td>[HARDCORE Minecraft, 100 DAYS, a SLIME, I]</td>\n",
       "      <td>0</td>\n",
       "      <td>...</td>\n",
       "      <td>0</td>\n",
       "      <td>0</td>\n",
       "      <td>0</td>\n",
       "      <td>0</td>\n",
       "      <td>0</td>\n",
       "      <td>0</td>\n",
       "      <td>2022</td>\n",
       "      <td>4</td>\n",
       "      <td>2022-04</td>\n",
       "      <td>Spring</td>\n",
       "    </tr>\n",
       "    <tr>\n",
       "      <th>45790</th>\n",
       "      <td>zzvtP3jMIME</td>\n",
       "      <td>1454854.0</td>\n",
       "      <td>1.748217e+06</td>\n",
       "      <td>3921</td>\n",
       "      <td>1454854</td>\n",
       "      <td>125125</td>\n",
       "      <td>5979</td>\n",
       "      <td>3</td>\n",
       "      <td>[the Worst Movie, the Most Disliked Streaming ...</td>\n",
       "      <td>0</td>\n",
       "      <td>...</td>\n",
       "      <td>0</td>\n",
       "      <td>0</td>\n",
       "      <td>0</td>\n",
       "      <td>0</td>\n",
       "      <td>0</td>\n",
       "      <td>0</td>\n",
       "      <td>2023</td>\n",
       "      <td>8</td>\n",
       "      <td>2023-08</td>\n",
       "      <td>Summer</td>\n",
       "    </tr>\n",
       "  </tbody>\n",
       "</table>\n",
       "<p>45791 rows × 27 columns</p>\n",
       "</div>"
      ],
      "text/plain": [
       "          video_id          1             2  channelTitle  view_count   likes  \\\n",
       "0      --14w5SOEUs  3317372.0  4.690242e+06          4634     1076217  122830   \n",
       "1      --2O86Z0hsM   466980.0  5.562689e+05          8255      466980   16481   \n",
       "2      --40TEbZ9Is   596317.0  6.380460e+05          6808      527742    6299   \n",
       "3      --47FjCWgrU  1758484.0  1.829323e+06          4906     1635672   20234   \n",
       "4      --DKkzWVh-E   402839.0  5.111860e+05          5556      320130   18445   \n",
       "...            ...        ...           ...           ...         ...     ...   \n",
       "45786  zzd4ydafGR0  6133086.0  7.424687e+06          4148     1466173  326042   \n",
       "45787  zziBybeSAtw  2598512.0  3.095361e+06          4869     2284787   18919   \n",
       "45788  zzk09ESX7e0  3340184.0  5.671761e+06          4317     1325906  313962   \n",
       "45789  zzsIqPVv2Q4  1908378.0  2.428879e+06          4546     1908378   52137   \n",
       "45790  zzvtP3jMIME  1454854.0  1.748217e+06          3921     1454854  125125   \n",
       "\n",
       "       comment_count  tag_count  \\\n",
       "0               9539          1   \n",
       "1               1278          2   \n",
       "2                586          4   \n",
       "3               1834          5   \n",
       "4                612          1   \n",
       "...              ...        ...   \n",
       "45786          34993         38   \n",
       "45787           2735         18   \n",
       "45788          43991          4   \n",
       "45789           1705          4   \n",
       "45790           5979          3   \n",
       "\n",
       "                                                tag_list  \\\n",
       "0                                    [Migos - Avalanche]   \n",
       "1                                     [ITSELF, MY TESLA]   \n",
       "2          [Supporting Actress, 73rd, Actress, a Comedy]   \n",
       "3      [Arizona Cardinals Game Highlights, San Franci...   \n",
       "4                         [Why Retaining Walls Collapse]   \n",
       "...                                                  ...   \n",
       "45786  [sleepy hallow, winners circle, drill music, d...   \n",
       "45787  [Neon, New Agent, VALORANT Episode 4, Episode ...   \n",
       "45788                  [MAMAMOO, [MV] 마마무, (MAMAMOO, We]   \n",
       "45789         [HARDCORE Minecraft, 100 DAYS, a SLIME, I]   \n",
       "45790  [the Worst Movie, the Most Disliked Streaming ...   \n",
       "\n",
       "       cat_Autos & Vehicles  ...  cat_Movies  cat_Music  cat_Sci-Fi/Fantasy  \\\n",
       "0                         0  ...           0          0                   0   \n",
       "1                         0  ...           0          0                   0   \n",
       "2                         0  ...           0          0                   0   \n",
       "3                         0  ...           1          0                   0   \n",
       "4                         0  ...           0          0                   1   \n",
       "...                     ...  ...         ...        ...                 ...   \n",
       "45786                     0  ...           0          0                   0   \n",
       "45787                     0  ...           1          0                   0   \n",
       "45788                     0  ...           0          0                   0   \n",
       "45789                     0  ...           0          0                   0   \n",
       "45790                     0  ...           0          0                   0   \n",
       "\n",
       "       cat_Science & Technology  cat_Shorts  cat_Thriller  year  month  \\\n",
       "0                             0           0             0  2021      6   \n",
       "1                             0           0             0  2022      3   \n",
       "2                             0           0             0  2021      9   \n",
       "3                             0           0             0  2023     12   \n",
       "4                             0           0             0  2021     12   \n",
       "...                         ...         ...           ...   ...    ...   \n",
       "45786                         0           0             0  2021      2   \n",
       "45787                         0           0             0  2021      1   \n",
       "45788                         0           0             0  2021      6   \n",
       "45789                         0           0             0  2022      4   \n",
       "45790                         0           0             0  2023      8   \n",
       "\n",
       "       year_month  season  \n",
       "0         2021-06  Summer  \n",
       "1         2022-03  Spring  \n",
       "2         2021-09    Fall  \n",
       "3         2023-12  Winter  \n",
       "4         2021-12  Winter  \n",
       "...           ...     ...  \n",
       "45786     2021-02  Winter  \n",
       "45787     2021-01  Winter  \n",
       "45788     2021-06  Summer  \n",
       "45789     2022-04  Spring  \n",
       "45790     2023-08  Summer  \n",
       "\n",
       "[45791 rows x 27 columns]"
      ]
     },
     "execution_count": 492,
     "metadata": {},
     "output_type": "execute_result"
    }
   ],
   "source": [
    "\n",
    "X"
   ]
  },
  {
   "cell_type": "code",
   "execution_count": 493,
   "id": "cf363cad",
   "metadata": {},
   "outputs": [],
   "source": [
    "X.rename(columns={'1': 'day_1', '2': 'day_2'}, inplace=True)"
   ]
  },
  {
   "cell_type": "code",
   "execution_count": 494,
   "id": "c304f145",
   "metadata": {
    "scrolled": true
   },
   "outputs": [
    {
     "data": {
      "text/plain": [
       "Index([                'video_id',                          1,\n",
       "                                2,             'channelTitle',\n",
       "                     'view_count',                    'likes',\n",
       "                  'comment_count',                'tag_count',\n",
       "                       'tag_list',     'cat_Autos & Vehicles',\n",
       "                   'cat_Classics',               'cat_Comedy',\n",
       "                'cat_Documentary',                'cat_Drama',\n",
       "                     'cat_Family',              'cat_Foreign',\n",
       "                     'cat_Horror',               'cat_Movies',\n",
       "                      'cat_Music',       'cat_Sci-Fi/Fantasy',\n",
       "       'cat_Science & Technology',               'cat_Shorts',\n",
       "                   'cat_Thriller',                     'year',\n",
       "                          'month',               'year_month',\n",
       "                         'season'],\n",
       "      dtype='object')"
      ]
     },
     "execution_count": 494,
     "metadata": {},
     "output_type": "execute_result"
    }
   ],
   "source": [
    "X.columns"
   ]
  },
  {
   "cell_type": "code",
   "execution_count": 509,
   "id": "e3951a33",
   "metadata": {},
   "outputs": [],
   "source": [
    "#X.drop('video_id', axis=1, inplace=True)\n",
    "X.drop('tag_list', axis=1, inplace=True)"
   ]
  },
  {
   "cell_type": "code",
   "execution_count": 496,
   "id": "2333d87a",
   "metadata": {},
   "outputs": [],
   "source": [
    "bool_cols = X.select_dtypes('bool').columns.tolist()\n",
    "bool_cols\n",
    "X[bool_cols] = X[bool_cols].astype(int)"
   ]
  },
  {
   "cell_type": "code",
   "execution_count": 318,
   "id": "54510292",
   "metadata": {},
   "outputs": [],
   "source": [
    "### gradient boosting"
   ]
  },
  {
   "cell_type": "code",
   "execution_count": 497,
   "id": "f7d38fe0",
   "metadata": {},
   "outputs": [],
   "source": [
    "X = pd.get_dummies(X, columns=['season'], drop_first=True)"
   ]
  },
  {
   "cell_type": "code",
   "execution_count": 498,
   "id": "c0c2ac97",
   "metadata": {},
   "outputs": [],
   "source": [
    "X['season_Spring'] = X['season_Spring'].astype(int)\n",
    "X['season_Summer'] = X['season_Summer'].astype(int)\n",
    "X['season_Winter'] = X['season_Winter'].astype(int)"
   ]
  },
  {
   "cell_type": "code",
   "execution_count": 499,
   "id": "2b3afc8b",
   "metadata": {},
   "outputs": [],
   "source": [
    "from sklearn.preprocessing import LabelEncoder\n",
    "encoder = LabelEncoder()\n",
    "X['channelTitle'] = encoder.fit_transform(X['channelTitle'])\n",
    "X['year_month'] = encoder.fit_transform(X['year_month'])"
   ]
  },
  {
   "cell_type": "code",
   "execution_count": 534,
   "id": "a4561104",
   "metadata": {},
   "outputs": [],
   "source": [
    "X['channelCount'] = dfUnique['channelTitle'].value_counts()"
   ]
  },
  {
   "cell_type": "code",
   "execution_count": 501,
   "id": "1c830b77",
   "metadata": {},
   "outputs": [
    {
     "data": {
      "text/plain": [
       "0         6823249\n",
       "1          538485\n",
       "2          682609\n",
       "3         1940781\n",
       "4          623949\n",
       "           ...   \n",
       "45786    13974461\n",
       "45787     2598512\n",
       "45788     9389223\n",
       "45789     3079200\n",
       "45790     2306803\n",
       "Name: max_view_count, Length: 45791, dtype: int64"
      ]
     },
     "execution_count": 501,
     "metadata": {},
     "output_type": "execute_result"
    }
   ],
   "source": [
    "y"
   ]
  },
  {
   "cell_type": "code",
   "execution_count": 566,
   "id": "eb3b6e55",
   "metadata": {},
   "outputs": [],
   "source": [
    "y2 = np.log(y + 1e-10)"
   ]
  },
  {
   "cell_type": "code",
   "execution_count": 567,
   "id": "3daab47e",
   "metadata": {},
   "outputs": [
    {
     "data": {
      "text/plain": [
       "0        15.735846\n",
       "1        13.196515\n",
       "2        13.433678\n",
       "3        14.478601\n",
       "4        13.343824\n",
       "           ...    \n",
       "45786    16.452742\n",
       "45787    14.770450\n",
       "45788    16.055073\n",
       "45789    14.940180\n",
       "45790    14.651373\n",
       "Name: max_view_count, Length: 45791, dtype: float64"
      ]
     },
     "execution_count": 567,
     "metadata": {},
     "output_type": "execute_result"
    }
   ],
   "source": [
    "y2"
   ]
  },
  {
   "cell_type": "code",
   "execution_count": 320,
   "id": "d7ee491a",
   "metadata": {},
   "outputs": [],
   "source": [
    "import lightgbm as lgb\n",
    "import xgboost as xgb"
   ]
  },
  {
   "cell_type": "code",
   "execution_count": 322,
   "id": "eecd2b5e",
   "metadata": {},
   "outputs": [],
   "source": [
    "import timeit\n",
    "import neptune"
   ]
  },
  {
   "cell_type": "code",
   "execution_count": 324,
   "id": "aa34f3e8",
   "metadata": {},
   "outputs": [],
   "source": [
    "from sklearn.model_selection import train_test_split # type: ignore\n",
    "from sklearn.metrics import roc_auc_score"
   ]
  },
  {
   "cell_type": "code",
   "execution_count": 326,
   "id": "02baeb48",
   "metadata": {},
   "outputs": [],
   "source": [
    "import warnings\n",
    "import os\n",
    "from dotenv import load_dotenv"
   ]
  },
  {
   "cell_type": "code",
   "execution_count": 583,
   "id": "375edfed",
   "metadata": {},
   "outputs": [],
   "source": [
    "from sklearn.preprocessing import StandardScaler"
   ]
  },
  {
   "cell_type": "code",
   "execution_count": 543,
   "id": "76517698",
   "metadata": {},
   "outputs": [],
   "source": [
    "#X.drop('channelTitle', axis=1, inplace=True)\n",
    "X.columns = X.columns.astype(str)"
   ]
  },
  {
   "cell_type": "code",
   "execution_count": 585,
   "id": "ff0457c8",
   "metadata": {},
   "outputs": [
    {
     "name": "stderr",
     "output_type": "stream",
     "text": [
      "/Users/rishita/anaconda3/envs/google_env/lib/python3.12/site-packages/sklearn/utils/extmath.py:1137: RuntimeWarning: invalid value encountered in divide\n",
      "  updated_mean = (last_sum + new_sum) / updated_sample_count\n",
      "/Users/rishita/anaconda3/envs/google_env/lib/python3.12/site-packages/sklearn/utils/extmath.py:1142: RuntimeWarning: invalid value encountered in divide\n",
      "  T = new_sum / new_sample_count\n",
      "/Users/rishita/anaconda3/envs/google_env/lib/python3.12/site-packages/sklearn/utils/extmath.py:1162: RuntimeWarning: invalid value encountered in divide\n",
      "  new_unnormalized_variance -= correction**2 / new_sample_count\n"
     ]
    }
   ],
   "source": [
    "scaler = StandardScaler()\n",
    "X_scaled = scaler.fit_transform(X)\n",
    "X_train, X_test, y_train, y_test = train_test_split(X_scaled, y, test_size=0.33, random_state=1234)"
   ]
  },
  {
   "cell_type": "code",
   "execution_count": 586,
   "id": "38167fdc",
   "metadata": {},
   "outputs": [],
   "source": [
    "dtrain_reg = xgb.DMatrix(X_train, y_train, enable_categorical=True)\n"
   ]
  },
  {
   "cell_type": "code",
   "execution_count": 587,
   "id": "d1c26f0f",
   "metadata": {},
   "outputs": [],
   "source": [
    "dtest_reg = xgb.DMatrix(X_test, y_test, enable_categorical=True)"
   ]
  },
  {
   "cell_type": "code",
   "execution_count": 578,
   "id": "371916d7",
   "metadata": {},
   "outputs": [],
   "source": [
    "param_grid = {\n",
    "    'n_estimators': [50, 100, 200],\n",
    "    'max_depth': [3, 5, 7],\n",
    "    'learning_rate': [0.01, 0.1, 0.2],\n",
    "    'subsample': [0.8, 1.0],\n",
    "    'colsample_bytree': [0.8, 1.0],\n",
    "}"
   ]
  },
  {
   "cell_type": "code",
   "execution_count": 588,
   "id": "6571b2f7",
   "metadata": {},
   "outputs": [
    {
     "name": "stderr",
     "output_type": "stream",
     "text": [
      "/Users/rishita/anaconda3/envs/google_env/lib/python3.12/site-packages/xgboost/core.py:158: UserWarning: [18:32:20] WARNING: /Users/runner/work/xgboost/xgboost/src/objective/regression_obj.cu:227: reg:linear is now deprecated in favor of reg:squarederror.\n",
      "  warnings.warn(smsg, UserWarning)\n"
     ]
    }
   ],
   "source": [
    "param = {\"booster\":\"gblinear\", \"objective\":\"reg:linear\"} \n",
    "  \n",
    "xgb_r = xgb.train(params = param, dtrain = dtrain_reg, num_boost_round = 10) \n",
    "pred = xgb_r.predict(dtest_reg) "
   ]
  },
  {
   "cell_type": "code",
   "execution_count": 577,
   "id": "f099a085",
   "metadata": {},
   "outputs": [],
   "source": [
    "from sklearn.metrics import root_mean_squared_error\n",
    "from sklearn.metrics import r2_score\n",
    "from sklearn.model_selection import GridSearchCV"
   ]
  },
  {
   "cell_type": "code",
   "execution_count": 589,
   "id": "4f21de4f",
   "metadata": {},
   "outputs": [
    {
     "name": "stdout",
     "output_type": "stream",
     "text": [
      "0.8178551197052002\n"
     ]
    }
   ],
   "source": [
    "r2 = r2_score(y_test, pred)\n",
    "print(r2)"
   ]
  },
  {
   "cell_type": "code",
   "execution_count": 576,
   "id": "9d98273e",
   "metadata": {},
   "outputs": [
    {
     "name": "stdout",
     "output_type": "stream",
     "text": [
      "RMSE :  1.121741\n"
     ]
    }
   ],
   "source": [
    "rmse = root_mean_squared_error(y_test, pred)\n",
    "print(\"RMSE : % f\" %(rmse)) "
   ]
  },
  {
   "cell_type": "code",
   "execution_count": null,
   "id": "3b5149ff",
   "metadata": {},
   "outputs": [],
   "source": []
  }
 ],
 "metadata": {
  "kernelspec": {
   "display_name": "Python google_env",
   "language": "python",
   "name": "google_env"
  },
  "language_info": {
   "codemirror_mode": {
    "name": "ipython",
    "version": 3
   },
   "file_extension": ".py",
   "mimetype": "text/x-python",
   "name": "python",
   "nbconvert_exporter": "python",
   "pygments_lexer": "ipython3",
   "version": "3.12.7"
  }
 },
 "nbformat": 4,
 "nbformat_minor": 5
}
