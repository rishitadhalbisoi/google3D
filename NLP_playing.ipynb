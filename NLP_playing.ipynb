{
 "cells": [
  {
   "cell_type": "code",
   "execution_count": 48,
   "id": "8cb6b3f0",
   "metadata": {},
   "outputs": [],
   "source": [
    "## imports\n",
    "import pandas as pd\n",
    "import numpy as np\n",
    "import os\n",
    "import matplotlib.pyplot as plt\n",
    "import seaborn as sns\n",
    "import re"
   ]
  },
  {
   "cell_type": "code",
   "execution_count": 2,
   "id": "75ea56d3",
   "metadata": {},
   "outputs": [],
   "source": [
    "filename = os.path.join(os.getcwd(), \"US_youtube_trending_data.csv\")\n",
    "df = pd.read_csv(filename, header=0)"
   ]
  },
  {
   "cell_type": "code",
   "execution_count": 3,
   "id": "42658dc8",
   "metadata": {},
   "outputs": [
    {
     "data": {
      "text/html": [
       "<div>\n",
       "<style scoped>\n",
       "    .dataframe tbody tr th:only-of-type {\n",
       "        vertical-align: middle;\n",
       "    }\n",
       "\n",
       "    .dataframe tbody tr th {\n",
       "        vertical-align: top;\n",
       "    }\n",
       "\n",
       "    .dataframe thead th {\n",
       "        text-align: right;\n",
       "    }\n",
       "</style>\n",
       "<table border=\"1\" class=\"dataframe\">\n",
       "  <thead>\n",
       "    <tr style=\"text-align: right;\">\n",
       "      <th></th>\n",
       "      <th>video_id</th>\n",
       "      <th>title</th>\n",
       "      <th>publishedAt</th>\n",
       "      <th>channelId</th>\n",
       "      <th>channelTitle</th>\n",
       "      <th>categoryId</th>\n",
       "      <th>trending_date</th>\n",
       "      <th>tags</th>\n",
       "      <th>view_count</th>\n",
       "      <th>likes</th>\n",
       "      <th>dislikes</th>\n",
       "      <th>comment_count</th>\n",
       "      <th>thumbnail_link</th>\n",
       "      <th>comments_disabled</th>\n",
       "      <th>ratings_disabled</th>\n",
       "      <th>description</th>\n",
       "    </tr>\n",
       "  </thead>\n",
       "  <tbody>\n",
       "    <tr>\n",
       "      <th>0</th>\n",
       "      <td>3C66w5Z0ixs</td>\n",
       "      <td>I ASKED HER TO BE MY GIRLFRIEND...</td>\n",
       "      <td>2020-08-11T19:20:14Z</td>\n",
       "      <td>UCvtRTOMP2TqYqu51xNrqAzg</td>\n",
       "      <td>Brawadis</td>\n",
       "      <td>22</td>\n",
       "      <td>2020-08-12T00:00:00Z</td>\n",
       "      <td>brawadis|prank|basketball|skits|ghost|funny vi...</td>\n",
       "      <td>1514614</td>\n",
       "      <td>156908</td>\n",
       "      <td>5855</td>\n",
       "      <td>35313</td>\n",
       "      <td>https://i.ytimg.com/vi/3C66w5Z0ixs/default.jpg</td>\n",
       "      <td>False</td>\n",
       "      <td>False</td>\n",
       "      <td>SUBSCRIBE to BRAWADIS ▶ http://bit.ly/Subscrib...</td>\n",
       "    </tr>\n",
       "    <tr>\n",
       "      <th>1</th>\n",
       "      <td>M9Pmf9AB4Mo</td>\n",
       "      <td>Apex Legends | Stories from the Outlands – “Th...</td>\n",
       "      <td>2020-08-11T17:00:10Z</td>\n",
       "      <td>UC0ZV6M2THA81QT9hrVWJG3A</td>\n",
       "      <td>Apex Legends</td>\n",
       "      <td>20</td>\n",
       "      <td>2020-08-12T00:00:00Z</td>\n",
       "      <td>Apex Legends|Apex Legends characters|new Apex ...</td>\n",
       "      <td>2381688</td>\n",
       "      <td>146739</td>\n",
       "      <td>2794</td>\n",
       "      <td>16549</td>\n",
       "      <td>https://i.ytimg.com/vi/M9Pmf9AB4Mo/default.jpg</td>\n",
       "      <td>False</td>\n",
       "      <td>False</td>\n",
       "      <td>While running her own modding shop, Ramya Pare...</td>\n",
       "    </tr>\n",
       "    <tr>\n",
       "      <th>2</th>\n",
       "      <td>J78aPJ3VyNs</td>\n",
       "      <td>I left youtube for a month and THIS is what ha...</td>\n",
       "      <td>2020-08-11T16:34:06Z</td>\n",
       "      <td>UCYzPXprvl5Y-Sf0g4vX-m6g</td>\n",
       "      <td>jacksepticeye</td>\n",
       "      <td>24</td>\n",
       "      <td>2020-08-12T00:00:00Z</td>\n",
       "      <td>jacksepticeye|funny|funny meme|memes|jacksepti...</td>\n",
       "      <td>2038853</td>\n",
       "      <td>353787</td>\n",
       "      <td>2628</td>\n",
       "      <td>40221</td>\n",
       "      <td>https://i.ytimg.com/vi/J78aPJ3VyNs/default.jpg</td>\n",
       "      <td>False</td>\n",
       "      <td>False</td>\n",
       "      <td>I left youtube for a month and this is what ha...</td>\n",
       "    </tr>\n",
       "    <tr>\n",
       "      <th>3</th>\n",
       "      <td>kXLn3HkpjaA</td>\n",
       "      <td>XXL 2020 Freshman Class Revealed - Official An...</td>\n",
       "      <td>2020-08-11T16:38:55Z</td>\n",
       "      <td>UCbg_UMjlHJg_19SZckaKajg</td>\n",
       "      <td>XXL</td>\n",
       "      <td>10</td>\n",
       "      <td>2020-08-12T00:00:00Z</td>\n",
       "      <td>xxl freshman|xxl freshmen|2020 xxl freshman|20...</td>\n",
       "      <td>496771</td>\n",
       "      <td>23251</td>\n",
       "      <td>1856</td>\n",
       "      <td>7647</td>\n",
       "      <td>https://i.ytimg.com/vi/kXLn3HkpjaA/default.jpg</td>\n",
       "      <td>False</td>\n",
       "      <td>False</td>\n",
       "      <td>Subscribe to XXL → http://bit.ly/subscribe-xxl...</td>\n",
       "    </tr>\n",
       "    <tr>\n",
       "      <th>4</th>\n",
       "      <td>VIUo6yapDbc</td>\n",
       "      <td>Ultimate DIY Home Movie Theater for The LaBran...</td>\n",
       "      <td>2020-08-11T15:10:05Z</td>\n",
       "      <td>UCDVPcEbVLQgLZX0Rt6jo34A</td>\n",
       "      <td>Mr. Kate</td>\n",
       "      <td>26</td>\n",
       "      <td>2020-08-12T00:00:00Z</td>\n",
       "      <td>The LaBrant Family|DIY|Interior Design|Makeove...</td>\n",
       "      <td>1123889</td>\n",
       "      <td>45802</td>\n",
       "      <td>964</td>\n",
       "      <td>2196</td>\n",
       "      <td>https://i.ytimg.com/vi/VIUo6yapDbc/default.jpg</td>\n",
       "      <td>False</td>\n",
       "      <td>False</td>\n",
       "      <td>Transforming The LaBrant Family's empty white ...</td>\n",
       "    </tr>\n",
       "  </tbody>\n",
       "</table>\n",
       "</div>"
      ],
      "text/plain": [
       "      video_id                                              title  \\\n",
       "0  3C66w5Z0ixs                 I ASKED HER TO BE MY GIRLFRIEND...   \n",
       "1  M9Pmf9AB4Mo  Apex Legends | Stories from the Outlands – “Th...   \n",
       "2  J78aPJ3VyNs  I left youtube for a month and THIS is what ha...   \n",
       "3  kXLn3HkpjaA  XXL 2020 Freshman Class Revealed - Official An...   \n",
       "4  VIUo6yapDbc  Ultimate DIY Home Movie Theater for The LaBran...   \n",
       "\n",
       "            publishedAt                 channelId   channelTitle  categoryId  \\\n",
       "0  2020-08-11T19:20:14Z  UCvtRTOMP2TqYqu51xNrqAzg       Brawadis          22   \n",
       "1  2020-08-11T17:00:10Z  UC0ZV6M2THA81QT9hrVWJG3A   Apex Legends          20   \n",
       "2  2020-08-11T16:34:06Z  UCYzPXprvl5Y-Sf0g4vX-m6g  jacksepticeye          24   \n",
       "3  2020-08-11T16:38:55Z  UCbg_UMjlHJg_19SZckaKajg            XXL          10   \n",
       "4  2020-08-11T15:10:05Z  UCDVPcEbVLQgLZX0Rt6jo34A       Mr. Kate          26   \n",
       "\n",
       "          trending_date                                               tags  \\\n",
       "0  2020-08-12T00:00:00Z  brawadis|prank|basketball|skits|ghost|funny vi...   \n",
       "1  2020-08-12T00:00:00Z  Apex Legends|Apex Legends characters|new Apex ...   \n",
       "2  2020-08-12T00:00:00Z  jacksepticeye|funny|funny meme|memes|jacksepti...   \n",
       "3  2020-08-12T00:00:00Z  xxl freshman|xxl freshmen|2020 xxl freshman|20...   \n",
       "4  2020-08-12T00:00:00Z  The LaBrant Family|DIY|Interior Design|Makeove...   \n",
       "\n",
       "   view_count   likes  dislikes  comment_count  \\\n",
       "0     1514614  156908      5855          35313   \n",
       "1     2381688  146739      2794          16549   \n",
       "2     2038853  353787      2628          40221   \n",
       "3      496771   23251      1856           7647   \n",
       "4     1123889   45802       964           2196   \n",
       "\n",
       "                                   thumbnail_link  comments_disabled  \\\n",
       "0  https://i.ytimg.com/vi/3C66w5Z0ixs/default.jpg              False   \n",
       "1  https://i.ytimg.com/vi/M9Pmf9AB4Mo/default.jpg              False   \n",
       "2  https://i.ytimg.com/vi/J78aPJ3VyNs/default.jpg              False   \n",
       "3  https://i.ytimg.com/vi/kXLn3HkpjaA/default.jpg              False   \n",
       "4  https://i.ytimg.com/vi/VIUo6yapDbc/default.jpg              False   \n",
       "\n",
       "   ratings_disabled                                        description  \n",
       "0             False  SUBSCRIBE to BRAWADIS ▶ http://bit.ly/Subscrib...  \n",
       "1             False  While running her own modding shop, Ramya Pare...  \n",
       "2             False  I left youtube for a month and this is what ha...  \n",
       "3             False  Subscribe to XXL → http://bit.ly/subscribe-xxl...  \n",
       "4             False  Transforming The LaBrant Family's empty white ...  "
      ]
     },
     "execution_count": 3,
     "metadata": {},
     "output_type": "execute_result"
    }
   ],
   "source": [
    "df.head()"
   ]
  },
  {
   "cell_type": "code",
   "execution_count": 12,
   "id": "b1bc1319",
   "metadata": {},
   "outputs": [
    {
     "data": {
      "text/plain": [
       "\"Transforming The LaBrant Family's empty white room into a dramatic custom home movie theater. A portion of this video was sponsored by NortonLifeLock. Time to help protect your home title with Norton 360 with LifeLock Ultimate Plus. #NoPryingEyes Go to https://bit.ly/3iio4um to learn more or visit http://www.facebook.com/LifeLock & http://www.youtube.com/LifeLock    + SUBSCRIBE to our channel!: http://bit.ly/mrkateyoutube+ FOLLOW us on Instagram!: http://www.instagram.com/mrkate and http://www.instagram.com/joeyzehr+ SUBSCRIBE to the LaBrant Fam's channel: https://www.youtube.com/channel/UC4-CH0epzZpD_ARhxCx6LaQWATCH The LaBrant Fam's Nursery Makeover Here: https://www.youtube.com/watch?v=ZhoRLt42AmsWATCH how this collab all started here: https://youtu.be/Xi_F4TKJE5Y#INTERIORDESIGN #HOMETHEATER #MAKEOVER #MRKATE #THELABRANTFAMPIN PICS FROM OUR BLOG!: https://mrkate.com/2020/08/11/ultimate-diy-home-movie-theater-for-the-labrant-family/_________________________Instagram: http://www.instagram.com/mrkate and http://www.instagram.com/joeyzehrTik Tok: @mrkate Snapchat: MrKateTwitter: http://www.twitter.com/mrkateFacebook: http://www.facebook.com/mrkatedotcomPinterest: http://www.pinterest.com/mrkate/Become a member for exclusive VLOGS, LIVE CHATS, EMOJIS, BADGES and DISCOUNT CODES: https://www.youtube.com/channel/UCDVPcEbVLQgLZX0Rt6jo34A/join  _________________________Shop the entire video!: Chaise Lounge: https://bit.ly/3kzL1vlSofa: https://bit.ly/3fNAMQrSideboard: https://bit.ly/33R36yT Wallpaper: https://bit.ly/2DWAdpWWoven Poufs: https://bit.ly/39muMwe Curtains: https://amzn.to/3fIUf4B Nesting Black Tables: https://amzn.to/3fNje70 Sconces (similar): https://amzn.to/3fFPTeE Popcorn Machine (similar): https://bit.ly/2PGUS47 Drink Table: https://bit.ly/3gXUj1G Throw Blanket: https://bit.ly/3gOgV4N Terracotta Pillow: https://bit.ly/3eSXiGZ Jam Velvet Pillows: https://amzn.to/3ktNlnD Burgundy Velvet Pillows: https://amzn.to/3aekTRE Taupe Velvet Pillows: https://amzn.to/3kzIW2b Movie Clap Board: https://amzn.to/33Q1mpA Ticket Shadow Box: https://amzn.to/2XPHijs Popcorn Bags: https://amzn.to/3iymKDN _________________________Creative Credit: Audio Tracks - Epidemic Sound: http://share.epidemicsound.com/rGjgCA Mr. Kate ProductionExecutive Producers: Kate Albrecht and Joey ZehrSupervising Producer: AJ TeslerProducer: Annie O'RourkeCamera: Marco BottiglieriArt Department: Leo Martinez, Gabriel Gonzalez, Kenny NogueiraPA: Amy PattersonEdited by: Vianne Robitaille\""
      ]
     },
     "execution_count": 12,
     "metadata": {},
     "output_type": "execute_result"
    }
   ],
   "source": [
    "df['description'][4]"
   ]
  },
  {
   "cell_type": "markdown",
   "id": "fe91bcfa",
   "metadata": {},
   "source": [
    "now, attempt to clean and reduce descriptions. remove all the links and social media account promotion"
   ]
  },
  {
   "cell_type": "code",
   "execution_count": 39,
   "id": "3110f951",
   "metadata": {},
   "outputs": [],
   "source": [
    "## function to clean description\n",
    "def clean_description(text):\n",
    "    if isinstance(text, str): ## only run if non-nan since sub will fail \n",
    "        text = re.sub(r'http\\S+', '', text)\n",
    "        text = re.sub(r'(instagram|twitter|facebook|snapchat|tik tok):\\s*\\S+', '', text, flags=re.IGNORECASE)\n",
    "        text = re.sub(r'\\s+', ' ', text).strip() ## extra spaces-- may need to take out?\n",
    "    return text\n"
   ]
  },
  {
   "cell_type": "code",
   "execution_count": 40,
   "id": "1a5cc744",
   "metadata": {},
   "outputs": [],
   "source": [
    "##df.dtypes['description']\n",
    "df['cleaned_description'] = df['description'].apply(clean_description)"
   ]
  },
  {
   "cell_type": "code",
   "execution_count": 41,
   "id": "3fc9ab4b",
   "metadata": {},
   "outputs": [
    {
     "name": "stdout",
     "output_type": "stream",
     "text": [
      "Transforming The LaBrant Family's empty white room into a dramatic custom home movie theater. A portion of this video was sponsored by NortonLifeLock. Time to help protect your home title with Norton 360 with LifeLock Ultimate Plus. #NoPryingEyes Go to to learn more or visit & + SUBSCRIBE to our channel!: FOLLOW us on Instagram!: and SUBSCRIBE to the LaBrant Fam's channel: The LaBrant Fam's Nursery Makeover Here: how this collab all started here: #HOMETHEATER #MAKEOVER #MRKATE #THELABRANTFAMPIN PICS FROM OUR BLOG!: and Tok: @mrkate a member for exclusive VLOGS, LIVE CHATS, EMOJIS, BADGES and DISCOUNT CODES: _________________________Shop the entire video!: Chaise Lounge: Wallpaper: Poufs: Curtains: Nesting Black Tables: Sconces (similar): Popcorn Machine (similar): Drink Table: Throw Blanket: Terracotta Pillow: Jam Velvet Pillows: Burgundy Velvet Pillows: Taupe Velvet Pillows: Movie Clap Board: Ticket Shadow Box: Popcorn Bags: _________________________Creative Credit: Audio Tracks - Epidemic Sound: Mr. Kate ProductionExecutive Producers: Kate Albrecht and Joey ZehrSupervising Producer: AJ TeslerProducer: Annie O'RourkeCamera: Marco BottiglieriArt Department: Leo Martinez, Gabriel Gonzalez, Kenny NogueiraPA: Amy PattersonEdited by: Vianne Robitaille\n"
     ]
    }
   ],
   "source": [
    "print(df['cleaned_description'][4])\n",
    "## good enough? don't want to remove social media name of app in case that's the topic of saying "
   ]
  },
  {
   "cell_type": "code",
   "execution_count": 44,
   "id": "8c33e843",
   "metadata": {},
   "outputs": [
    {
     "name": "stdout",
     "output_type": "stream",
     "text": [
      "ssend love to my sponsor; for a super Limited Time! Go to https://NordVPN.com/casey or use code CASEY to get 70% off a 3 year plan plus 1 additional month free. NORD also brings you security tools like NordPass password manager.  which is great.  if this is something you need you should do get it.  thanks for being. agood sponsor NOrd!!  https://NordPass.comMusic Taylor Galford; https://taylorgalford.bandcamp.com/and GurtyBeats.com https://soundcloud.com/gurtybeats\n",
      "cleaned: \n",
      "ssend love to my sponsor; for a super Limited Time! Go to or use code CASEY to get 70% off a 3 year plan plus 1 additional month free. NORD also brings you security tools like NordPass password manager. which is great. if this is something you need you should do get it. thanks for being. agood sponsor NOrd!! Taylor Galford; GurtyBeats.com\n"
     ]
    }
   ],
   "source": [
    "##let's look at some more descriptions\n",
    "print(df['description'][10])\n",
    "print('cleaned: ')\n",
    "print(df['cleaned_description'][10])"
   ]
  },
  {
   "cell_type": "code",
   "execution_count": 56,
   "id": "ace19539",
   "metadata": {},
   "outputs": [
    {
     "name": "stderr",
     "output_type": "stream",
     "text": [
      "/Users/rishita/anaconda3/lib/python3.11/site-packages/spacy/util.py:910: UserWarning: [W095] Model 'en_core_web_sm' (3.1.0) was trained with spaCy v3.1.0 and may not be 100% compatible with the current version (3.7.6). If you see errors or degraded performance, download a newer compatible model or retrain your custom model with the current spaCy version. For more details and available updates, run: python -m spacy validate\n",
      "  warnings.warn(warn_msg)\n"
     ]
    }
   ],
   "source": [
    "import spacy\n",
    "import pytextrank\n",
    "import en_core_web_sm\n",
    "import nltk"
   ]
  },
  {
   "cell_type": "code",
   "execution_count": 57,
   "id": "9743ba81",
   "metadata": {},
   "outputs": [
    {
     "data": {
      "text/plain": [
       "<pytextrank.base.BaseTextRankFactory at 0x2abb71b90>"
      ]
     },
     "execution_count": 57,
     "metadata": {},
     "output_type": "execute_result"
    }
   ],
   "source": [
    "spacy_nlp = spacy.load(\"en_core_web_sm\")\n",
    "spacy_nlp.add_pipe(\"textrank\")"
   ]
  },
  {
   "cell_type": "code",
   "execution_count": 58,
   "id": "8767a393",
   "metadata": {},
   "outputs": [],
   "source": [
    "testing_text = \"TextRank is a keyword extraction algorithm based on PageRank and has been widely used in natural language processing tasks.\""
   ]
  },
  {
   "cell_type": "code",
   "execution_count": 59,
   "id": "06c0b54c",
   "metadata": {},
   "outputs": [
    {
     "name": "stdout",
     "output_type": "stream",
     "text": [
      "natural language processing tasks\n",
      "PageRank\n",
      "TextRank\n",
      "a keyword extraction\n"
     ]
    }
   ],
   "source": [
    "doc = spacy_nlp(testing_text)\n",
    "for phrase in doc._.phrases[:10]:\n",
    "    print(phrase.text)"
   ]
  },
  {
   "cell_type": "code",
   "execution_count": 62,
   "id": "f17f8158",
   "metadata": {},
   "outputs": [
    {
     "name": "stdout",
     "output_type": "stream",
     "text": [
      "Kendall Jenner\n",
      "Kylie Jenner\n",
      "Cardi B\n",
      "Kanye West\n",
      "Los Angeles\n",
      "#KylieJennerKim Kardashian\n",
      "cameo\n",
      "Megan\n",
      "The Stallion WAP music video\n",
      "July\n"
     ]
    }
   ],
   "source": [
    "doc = spacy_nlp(\"Kylie Jenner dissed over cameo in Cardi B and Megan The Stallion WAP music video and she reacts. Plus, Kendall Jenner is getting roasted on TikTok at the moment. #KendallJenner #WAP #KylieJennerKim Kardashian was spotted getting off a private jet when landing back in Los Angeles on July 28 after visiting her husband Kanye West and having a tearful conversation with him in a car.\")\n",
    "for phrase in doc._.phrases[:10]:\n",
    "    print(phrase.text)"
   ]
  },
  {
   "cell_type": "markdown",
   "id": "30c65893",
   "metadata": {},
   "source": [
    "the work above is keyword extraction from the description. reading documentation on understanding what textrank is:\n",
    "- textrank algo assigns a score to each keyword within a document, reflecting its significance based on word relationships\n",
    "- output takes the form of a table\n",
    "- keyword: extracted keyword phrase containing multiple words potentially\n",
    "- document number: where keyword is found\n",
    "- score: numerical value representing keyword's importance within document\n",
    "- algorithm prioritizes keywords that frequently co-occur or are connected to other high-scoring keywords. technique goes beyond word frequence and looks at thematically relevant terms\n",
    "how can we finetune the parameters?\n",
    "- co-occurence window size: defines range of surrounding words considered when establishing word relationsips. larger window = broaded context, but more noise whereas smaller window might miss out on thematic connections\n",
    "- iteration num: determines how many times the algo refines keyword scores\n",
    "- decay factor: influence of a word's co-occurring words on its score. higher decay factor reduces impact of distant neighbors, emphasizes closer connections\n",
    "text rank is better than TF-IDF when it comes to themes, instead of just frequent words"
   ]
  },
  {
   "cell_type": "code",
   "execution_count": 105,
   "id": "55af7116",
   "metadata": {},
   "outputs": [
    {
     "data": {
      "text/plain": [
       "<pytextrank.base.BaseTextRankFactory at 0x304eecf50>"
      ]
     },
     "execution_count": 105,
     "metadata": {},
     "output_type": "execute_result"
    }
   ],
   "source": [
    "spacy_nlp = spacy.load(\"en_core_web_sm\")\n",
    "spacy_nlp.add_pipe(\"textrank\")"
   ]
  },
  {
   "cell_type": "code",
   "execution_count": 106,
   "id": "0142963a",
   "metadata": {},
   "outputs": [],
   "source": [
    "## define a function for keyword extraction on the text columns of our dataset\n",
    "def get_keywords(input_text):\n",
    "    top_phrases = [] ## default empty for nan\n",
    "    if isinstance(input_text, str): ## only run if non-nan since sub will fail \n",
    "        keyworded = spacy_nlp(input_text)\n",
    "        top_phrases = [phrase.text for phrase in keyworded._.phrases[:10]] \n",
    "    return top_phrases\n",
    "    "
   ]
  },
  {
   "cell_type": "code",
   "execution_count": 108,
   "id": "04a24647",
   "metadata": {},
   "outputs": [],
   "source": [
    "## above funciton took way too long to run, trying to optimize by leveraging spacy's batch processing \n",
    "## to process multiple rows\n",
    "# Disable unnecessary components for faster processing\n",
    "#spacy_nlp = spacy.load(\"en_core_web_sm\", disable=['ner', 'parser', 'tagger'])\n",
    "\n",
    "def get_keywords_batch(texts):\n",
    "    docs = list(spacy_nlp.pipe(texts, batch_size=32))\n",
    "    keywords_list = []\n",
    "    for doc in docs:\n",
    "        keywords = [phrase.text for phrase in doc._.phrases[:10]]\n",
    "        keywords_list.append(keywords)\n",
    "    return keywords_list"
   ]
  },
  {
   "cell_type": "code",
   "execution_count": 134,
   "id": "fc8a0b69",
   "metadata": {},
   "outputs": [],
   "source": [
    "testdf = df[0:1000]"
   ]
  },
  {
   "cell_type": "code",
   "execution_count": 135,
   "id": "22a84d1d",
   "metadata": {},
   "outputs": [
    {
     "name": "stderr",
     "output_type": "stream",
     "text": [
      "/var/folders/wy/16vl1s6x6_l_1vpc63p7jwpr0000gn/T/ipykernel_47682/2947429108.py:1: SettingWithCopyWarning: \n",
      "A value is trying to be set on a copy of a slice from a DataFrame.\n",
      "Try using .loc[row_indexer,col_indexer] = value instead\n",
      "\n",
      "See the caveats in the documentation: https://pandas.pydata.org/pandas-docs/stable/user_guide/indexing.html#returning-a-view-versus-a-copy\n",
      "  testdf['description_keywords'] = get_keywords_batch(testdf['cleaned_description'].fillna(''))\n"
     ]
    }
   ],
   "source": [
    "testdf['description_keywords'] = get_keywords_batch(testdf['cleaned_description'].fillna(''))"
   ]
  },
  {
   "cell_type": "code",
   "execution_count": 136,
   "id": "7227d19e",
   "metadata": {},
   "outputs": [
    {
     "name": "stdout",
     "output_type": "stream",
     "text": [
      "While running her own modding shop, Ramya Parekh (aka Rampart) built her rep in underground gauntlet circuits. But success has a way of making enemies. Good thing she knows how to use all those fancy weapons she’s upgraded… Apex Legends™ is a free-to-play battle royale game where legendary characters battle for glory, fame, and fortune on the fringes of the Frontier. Play for free now on Xbox One, PS4, and Origin for PC. Learn more about Apex Legends Season 6 – Boosted: Check out our YouTube channel: us on on #ApexSeasonSix #ApexLegends\n",
      "keywords:\n",
      "['Apex Legends Season', 'Apex Legends', 'Ramya Parekh', 'underground gauntlet circuits', 'Xbox One', 'legendary characters', 'Good thing', 'Apex Legends Season 6', 'Rampart', 'fame']\n"
     ]
    }
   ],
   "source": [
    "print(testdf['cleaned_description'][1])\n",
    "print('keywords:')\n",
    "print(testdf['description_keywords'][1])"
   ]
  },
  {
   "cell_type": "code",
   "execution_count": 137,
   "id": "f63dddd2",
   "metadata": {},
   "outputs": [
    {
     "name": "stderr",
     "output_type": "stream",
     "text": [
      "/var/folders/wy/16vl1s6x6_l_1vpc63p7jwpr0000gn/T/ipykernel_47682/1176669580.py:2: SettingWithCopyWarning: \n",
      "A value is trying to be set on a copy of a slice from a DataFrame.\n",
      "Try using .loc[row_indexer,col_indexer] = value instead\n",
      "\n",
      "See the caveats in the documentation: https://pandas.pydata.org/pandas-docs/stable/user_guide/indexing.html#returning-a-view-versus-a-copy\n",
      "  testdf['month'] = pd.to_datetime(testdf['trending_date']).dt.month ## extracting month\n"
     ]
    }
   ],
   "source": [
    "df['month'] = pd.to_datetime(df['trending_date']).dt.month ## extracting month\n",
    "testdf['month'] = pd.to_datetime(testdf['trending_date']).dt.month ## extracting month"
   ]
  },
  {
   "cell_type": "code",
   "execution_count": 138,
   "id": "4c3d47ca",
   "metadata": {},
   "outputs": [
    {
     "name": "stderr",
     "output_type": "stream",
     "text": [
      "/var/folders/wy/16vl1s6x6_l_1vpc63p7jwpr0000gn/T/ipykernel_47682/753551830.py:2: SettingWithCopyWarning: \n",
      "A value is trying to be set on a copy of a slice from a DataFrame.\n",
      "Try using .loc[row_indexer,col_indexer] = value instead\n",
      "\n",
      "See the caveats in the documentation: https://pandas.pydata.org/pandas-docs/stable/user_guide/indexing.html#returning-a-view-versus-a-copy\n",
      "  testdf['year'] = pd.to_datetime(testdf['trending_date']).dt.year ## extracting year\n"
     ]
    }
   ],
   "source": [
    "df['year'] = pd.to_datetime(df['trending_date']).dt.year ## extracting year\n",
    "testdf['year'] = pd.to_datetime(testdf['trending_date']).dt.year ## extracting year"
   ]
  },
  {
   "cell_type": "code",
   "execution_count": 139,
   "id": "c55ebd15",
   "metadata": {},
   "outputs": [
    {
     "name": "stderr",
     "output_type": "stream",
     "text": [
      "/var/folders/wy/16vl1s6x6_l_1vpc63p7jwpr0000gn/T/ipykernel_47682/2279391466.py:1: UserWarning: Converting to PeriodArray/Index representation will drop timezone information.\n",
      "  df['year_month'] = pd.to_datetime(df['trending_date']).dt.to_period('M')\n",
      "/var/folders/wy/16vl1s6x6_l_1vpc63p7jwpr0000gn/T/ipykernel_47682/2279391466.py:2: UserWarning: Converting to PeriodArray/Index representation will drop timezone information.\n",
      "  testdf['year_month'] = pd.to_datetime(testdf['trending_date']).dt.to_period('M')\n",
      "/var/folders/wy/16vl1s6x6_l_1vpc63p7jwpr0000gn/T/ipykernel_47682/2279391466.py:2: SettingWithCopyWarning: \n",
      "A value is trying to be set on a copy of a slice from a DataFrame.\n",
      "Try using .loc[row_indexer,col_indexer] = value instead\n",
      "\n",
      "See the caveats in the documentation: https://pandas.pydata.org/pandas-docs/stable/user_guide/indexing.html#returning-a-view-versus-a-copy\n",
      "  testdf['year_month'] = pd.to_datetime(testdf['trending_date']).dt.to_period('M')\n"
     ]
    }
   ],
   "source": [
    "df['year_month'] = pd.to_datetime(df['trending_date']).dt.to_period('M')\n",
    "testdf['year_month'] = pd.to_datetime(testdf['trending_date']).dt.to_period('M')"
   ]
  },
  {
   "cell_type": "code",
   "execution_count": 147,
   "id": "6327db43",
   "metadata": {},
   "outputs": [],
   "source": [
    "grouped_dates = testdf.groupby('year_month')"
   ]
  },
  {
   "cell_type": "code",
   "execution_count": 148,
   "id": "19a2cfae",
   "metadata": {},
   "outputs": [
    {
     "data": {
      "text/html": [
       "<div>\n",
       "<style scoped>\n",
       "    .dataframe tbody tr th:only-of-type {\n",
       "        vertical-align: middle;\n",
       "    }\n",
       "\n",
       "    .dataframe tbody tr th {\n",
       "        vertical-align: top;\n",
       "    }\n",
       "\n",
       "    .dataframe thead th {\n",
       "        text-align: right;\n",
       "    }\n",
       "</style>\n",
       "<table border=\"1\" class=\"dataframe\">\n",
       "  <thead>\n",
       "    <tr style=\"text-align: right;\">\n",
       "      <th></th>\n",
       "      <th>video_id</th>\n",
       "      <th>title</th>\n",
       "      <th>publishedAt</th>\n",
       "      <th>channelId</th>\n",
       "      <th>channelTitle</th>\n",
       "      <th>categoryId</th>\n",
       "      <th>trending_date</th>\n",
       "      <th>tags</th>\n",
       "      <th>view_count</th>\n",
       "      <th>likes</th>\n",
       "      <th>...</th>\n",
       "      <th>comment_count</th>\n",
       "      <th>thumbnail_link</th>\n",
       "      <th>comments_disabled</th>\n",
       "      <th>ratings_disabled</th>\n",
       "      <th>description</th>\n",
       "      <th>cleaned_description</th>\n",
       "      <th>description_keywords</th>\n",
       "      <th>month</th>\n",
       "      <th>year</th>\n",
       "      <th>year_month</th>\n",
       "    </tr>\n",
       "  </thead>\n",
       "  <tbody>\n",
       "    <tr>\n",
       "      <th>0</th>\n",
       "      <td>3C66w5Z0ixs</td>\n",
       "      <td>I ASKED HER TO BE MY GIRLFRIEND...</td>\n",
       "      <td>2020-08-11T19:20:14Z</td>\n",
       "      <td>UCvtRTOMP2TqYqu51xNrqAzg</td>\n",
       "      <td>Brawadis</td>\n",
       "      <td>22</td>\n",
       "      <td>2020-08-12T00:00:00Z</td>\n",
       "      <td>brawadis|prank|basketball|skits|ghost|funny vi...</td>\n",
       "      <td>1514614</td>\n",
       "      <td>156908</td>\n",
       "      <td>...</td>\n",
       "      <td>35313</td>\n",
       "      <td>https://i.ytimg.com/vi/3C66w5Z0ixs/default.jpg</td>\n",
       "      <td>False</td>\n",
       "      <td>False</td>\n",
       "      <td>SUBSCRIBE to BRAWADIS ▶ http://bit.ly/Subscrib...</td>\n",
       "      <td>SUBSCRIBE to BRAWADIS ▶ FOLLOW ME ON SOCIAL ▶ ...</td>\n",
       "      <td>[dope vlogs, BRAWADIS ▶, FOLLOW ME, Brandon Aw...</td>\n",
       "      <td>8</td>\n",
       "      <td>2020</td>\n",
       "      <td>2020-08</td>\n",
       "    </tr>\n",
       "    <tr>\n",
       "      <th>1</th>\n",
       "      <td>M9Pmf9AB4Mo</td>\n",
       "      <td>Apex Legends | Stories from the Outlands – “Th...</td>\n",
       "      <td>2020-08-11T17:00:10Z</td>\n",
       "      <td>UC0ZV6M2THA81QT9hrVWJG3A</td>\n",
       "      <td>Apex Legends</td>\n",
       "      <td>20</td>\n",
       "      <td>2020-08-12T00:00:00Z</td>\n",
       "      <td>Apex Legends|Apex Legends characters|new Apex ...</td>\n",
       "      <td>2381688</td>\n",
       "      <td>146739</td>\n",
       "      <td>...</td>\n",
       "      <td>16549</td>\n",
       "      <td>https://i.ytimg.com/vi/M9Pmf9AB4Mo/default.jpg</td>\n",
       "      <td>False</td>\n",
       "      <td>False</td>\n",
       "      <td>While running her own modding shop, Ramya Pare...</td>\n",
       "      <td>While running her own modding shop, Ramya Pare...</td>\n",
       "      <td>[Apex Legends Season, Apex Legends, Ramya Pare...</td>\n",
       "      <td>8</td>\n",
       "      <td>2020</td>\n",
       "      <td>2020-08</td>\n",
       "    </tr>\n",
       "    <tr>\n",
       "      <th>2</th>\n",
       "      <td>J78aPJ3VyNs</td>\n",
       "      <td>I left youtube for a month and THIS is what ha...</td>\n",
       "      <td>2020-08-11T16:34:06Z</td>\n",
       "      <td>UCYzPXprvl5Y-Sf0g4vX-m6g</td>\n",
       "      <td>jacksepticeye</td>\n",
       "      <td>24</td>\n",
       "      <td>2020-08-12T00:00:00Z</td>\n",
       "      <td>jacksepticeye|funny|funny meme|memes|jacksepti...</td>\n",
       "      <td>2038853</td>\n",
       "      <td>353787</td>\n",
       "      <td>...</td>\n",
       "      <td>40221</td>\n",
       "      <td>https://i.ytimg.com/vi/J78aPJ3VyNs/default.jpg</td>\n",
       "      <td>False</td>\n",
       "      <td>False</td>\n",
       "      <td>I left youtube for a month and this is what ha...</td>\n",
       "      <td>I left youtube for a month and this is what ha...</td>\n",
       "      <td>[MEMES ►, Funniest Home Videos, youtube, the s...</td>\n",
       "      <td>8</td>\n",
       "      <td>2020</td>\n",
       "      <td>2020-08</td>\n",
       "    </tr>\n",
       "    <tr>\n",
       "      <th>3</th>\n",
       "      <td>kXLn3HkpjaA</td>\n",
       "      <td>XXL 2020 Freshman Class Revealed - Official An...</td>\n",
       "      <td>2020-08-11T16:38:55Z</td>\n",
       "      <td>UCbg_UMjlHJg_19SZckaKajg</td>\n",
       "      <td>XXL</td>\n",
       "      <td>10</td>\n",
       "      <td>2020-08-12T00:00:00Z</td>\n",
       "      <td>xxl freshman|xxl freshmen|2020 xxl freshman|20...</td>\n",
       "      <td>496771</td>\n",
       "      <td>23251</td>\n",
       "      <td>...</td>\n",
       "      <td>7647</td>\n",
       "      <td>https://i.ytimg.com/vi/kXLn3HkpjaA/default.jpg</td>\n",
       "      <td>False</td>\n",
       "      <td>False</td>\n",
       "      <td>Subscribe to XXL → http://bit.ly/subscribe-xxl...</td>\n",
       "      <td>Subscribe to XXL → XXL presents the 2020 XXL F...</td>\n",
       "      <td>[XXL Freshman, XXL, Neeko Baby, Lil Keed, Baby...</td>\n",
       "      <td>8</td>\n",
       "      <td>2020</td>\n",
       "      <td>2020-08</td>\n",
       "    </tr>\n",
       "    <tr>\n",
       "      <th>4</th>\n",
       "      <td>VIUo6yapDbc</td>\n",
       "      <td>Ultimate DIY Home Movie Theater for The LaBran...</td>\n",
       "      <td>2020-08-11T15:10:05Z</td>\n",
       "      <td>UCDVPcEbVLQgLZX0Rt6jo34A</td>\n",
       "      <td>Mr. Kate</td>\n",
       "      <td>26</td>\n",
       "      <td>2020-08-12T00:00:00Z</td>\n",
       "      <td>The LaBrant Family|DIY|Interior Design|Makeove...</td>\n",
       "      <td>1123889</td>\n",
       "      <td>45802</td>\n",
       "      <td>...</td>\n",
       "      <td>2196</td>\n",
       "      <td>https://i.ytimg.com/vi/VIUo6yapDbc/default.jpg</td>\n",
       "      <td>False</td>\n",
       "      <td>False</td>\n",
       "      <td>Transforming The LaBrant Family's empty white ...</td>\n",
       "      <td>Transforming The LaBrant Family's empty white ...</td>\n",
       "      <td>[_, _Creative Credit, Jam Velvet Pillows, Marc...</td>\n",
       "      <td>8</td>\n",
       "      <td>2020</td>\n",
       "      <td>2020-08</td>\n",
       "    </tr>\n",
       "    <tr>\n",
       "      <th>...</th>\n",
       "      <td>...</td>\n",
       "      <td>...</td>\n",
       "      <td>...</td>\n",
       "      <td>...</td>\n",
       "      <td>...</td>\n",
       "      <td>...</td>\n",
       "      <td>...</td>\n",
       "      <td>...</td>\n",
       "      <td>...</td>\n",
       "      <td>...</td>\n",
       "      <td>...</td>\n",
       "      <td>...</td>\n",
       "      <td>...</td>\n",
       "      <td>...</td>\n",
       "      <td>...</td>\n",
       "      <td>...</td>\n",
       "      <td>...</td>\n",
       "      <td>...</td>\n",
       "      <td>...</td>\n",
       "      <td>...</td>\n",
       "      <td>...</td>\n",
       "    </tr>\n",
       "    <tr>\n",
       "      <th>495</th>\n",
       "      <td>N5KpIE2tz8M</td>\n",
       "      <td>Tom MacDonald - GRAVESTONES ALBUM</td>\n",
       "      <td>2020-08-10T15:58:26Z</td>\n",
       "      <td>UCElGBUWDCa05jRzc2PfmGqQ</td>\n",
       "      <td>Tom MacDonald</td>\n",
       "      <td>10</td>\n",
       "      <td>2020-08-14T00:00:00Z</td>\n",
       "      <td>Eminem|MGK|Token|NF|Hopsin|Machine Gun Kelly|M...</td>\n",
       "      <td>594150</td>\n",
       "      <td>39997</td>\n",
       "      <td>...</td>\n",
       "      <td>5286</td>\n",
       "      <td>https://i.ytimg.com/vi/N5KpIE2tz8M/default.jpg</td>\n",
       "      <td>False</td>\n",
       "      <td>False</td>\n",
       "      <td>2 NEW ALBUMS Gravestones &amp; Flowers For The Dea...</td>\n",
       "      <td>2 NEW ALBUMS Gravestones &amp; Flowers For The Dea...</td>\n",
       "      <td>[CONNECT W/ TOM MACDONALD, David Chappell, Nov...</td>\n",
       "      <td>8</td>\n",
       "      <td>2020</td>\n",
       "      <td>2020-08</td>\n",
       "    </tr>\n",
       "    <tr>\n",
       "      <th>496</th>\n",
       "      <td>aG8QsfDisdg</td>\n",
       "      <td>Hundreds of looters target stores downtown, ac...</td>\n",
       "      <td>2020-08-11T00:19:12Z</td>\n",
       "      <td>UCDrLGkZTcNCshOLiKi5NtEw</td>\n",
       "      <td>WGN News</td>\n",
       "      <td>25</td>\n",
       "      <td>2020-08-14T00:00:00Z</td>\n",
       "      <td>video|news|wgntv news|wgntv chicago|Chicago|un...</td>\n",
       "      <td>379909</td>\n",
       "      <td>3797</td>\n",
       "      <td>...</td>\n",
       "      <td>5135</td>\n",
       "      <td>https://i.ytimg.com/vi/aG8QsfDisdg/default.jpg</td>\n",
       "      <td>False</td>\n",
       "      <td>False</td>\n",
       "      <td>Hundreds of looters targeted businesses in the...</td>\n",
       "      <td>Hundreds of looters targeted businesses in the...</td>\n",
       "      <td>[River North, early Monday, late Sunday, busin...</td>\n",
       "      <td>8</td>\n",
       "      <td>2020</td>\n",
       "      <td>2020-08</td>\n",
       "    </tr>\n",
       "    <tr>\n",
       "      <th>497</th>\n",
       "      <td>lIgtAxmA800</td>\n",
       "      <td>Lil Mosey - Top Gone (ft. Lunay) [Official Mus...</td>\n",
       "      <td>2020-08-10T16:00:10Z</td>\n",
       "      <td>UCblix-YUgJKKSQeL_Jp1SIg</td>\n",
       "      <td>LilMoseyVEVO</td>\n",
       "      <td>10</td>\n",
       "      <td>2020-08-14T00:00:00Z</td>\n",
       "      <td>Lil|Mosey|Lunay|Top|Gone|Mogul|Vision/Intersco...</td>\n",
       "      <td>2496791</td>\n",
       "      <td>99797</td>\n",
       "      <td>...</td>\n",
       "      <td>4966</td>\n",
       "      <td>https://i.ytimg.com/vi/lIgtAxmA800/default.jpg</td>\n",
       "      <td>False</td>\n",
       "      <td>False</td>\n",
       "      <td>Lil Mosey - Top Gone (ft. Lunay)Listen: https:...</td>\n",
       "      <td>Lil Mosey - Top Gone (ft. Lunay)Listen: Music:...</td>\n",
       "      <td>[Lil Mosey, Top Gone, Interscope Records, Luna...</td>\n",
       "      <td>8</td>\n",
       "      <td>2020</td>\n",
       "      <td>2020-08</td>\n",
       "    </tr>\n",
       "    <tr>\n",
       "      <th>498</th>\n",
       "      <td>Tujt4APHPzo</td>\n",
       "      <td>FIRST DAY IN THE NEW HOUSE! Ellie and Jared Mo...</td>\n",
       "      <td>2020-08-11T13:00:29Z</td>\n",
       "      <td>UCYv8VkKxvmfYIRbowQALwCw</td>\n",
       "      <td>Ellie and Jared</td>\n",
       "      <td>22</td>\n",
       "      <td>2020-08-14T00:00:00Z</td>\n",
       "      <td>family life|life vlog|family vlog|ellie and ja...</td>\n",
       "      <td>268852</td>\n",
       "      <td>10564</td>\n",
       "      <td>...</td>\n",
       "      <td>0</td>\n",
       "      <td>https://i.ytimg.com/vi/Tujt4APHPzo/default.jpg</td>\n",
       "      <td>True</td>\n",
       "      <td>False</td>\n",
       "      <td>Come with us as we move into our new home! It ...</td>\n",
       "      <td>Come with us as we move into our new home! It ...</td>\n",
       "      <td>[Jared Mecham PO BOX, code ELLIEANDJARED Subsc...</td>\n",
       "      <td>8</td>\n",
       "      <td>2020</td>\n",
       "      <td>2020-08</td>\n",
       "    </tr>\n",
       "    <tr>\n",
       "      <th>499</th>\n",
       "      <td>6IN4ZcZAUbA</td>\n",
       "      <td>The global coffee crisis is coming</td>\n",
       "      <td>2020-08-10T12:00:03Z</td>\n",
       "      <td>UCLXo7UDZvByw2ixzpQCufnA</td>\n",
       "      <td>Vox</td>\n",
       "      <td>25</td>\n",
       "      <td>2020-08-14T00:00:00Z</td>\n",
       "      <td>Vox.com|vox|explain|explainer|colombia|climate...</td>\n",
       "      <td>1403618</td>\n",
       "      <td>50522</td>\n",
       "      <td>...</td>\n",
       "      <td>5698</td>\n",
       "      <td>https://i.ytimg.com/vi/6IN4ZcZAUbA/default.jpg</td>\n",
       "      <td>False</td>\n",
       "      <td>False</td>\n",
       "      <td>It's becoming harder and harder to grow. Becom...</td>\n",
       "      <td>It's becoming harder and harder to grow. Becom...</td>\n",
       "      <td>[growing coffee, Arabica coffee, Natalie Lambe...</td>\n",
       "      <td>8</td>\n",
       "      <td>2020</td>\n",
       "      <td>2020-08</td>\n",
       "    </tr>\n",
       "  </tbody>\n",
       "</table>\n",
       "<p>500 rows × 21 columns</p>\n",
       "</div>"
      ],
      "text/plain": [
       "        video_id                                              title  \\\n",
       "0    3C66w5Z0ixs                 I ASKED HER TO BE MY GIRLFRIEND...   \n",
       "1    M9Pmf9AB4Mo  Apex Legends | Stories from the Outlands – “Th...   \n",
       "2    J78aPJ3VyNs  I left youtube for a month and THIS is what ha...   \n",
       "3    kXLn3HkpjaA  XXL 2020 Freshman Class Revealed - Official An...   \n",
       "4    VIUo6yapDbc  Ultimate DIY Home Movie Theater for The LaBran...   \n",
       "..           ...                                                ...   \n",
       "495  N5KpIE2tz8M                  Tom MacDonald - GRAVESTONES ALBUM   \n",
       "496  aG8QsfDisdg  Hundreds of looters target stores downtown, ac...   \n",
       "497  lIgtAxmA800  Lil Mosey - Top Gone (ft. Lunay) [Official Mus...   \n",
       "498  Tujt4APHPzo  FIRST DAY IN THE NEW HOUSE! Ellie and Jared Mo...   \n",
       "499  6IN4ZcZAUbA                 The global coffee crisis is coming   \n",
       "\n",
       "              publishedAt                 channelId     channelTitle  \\\n",
       "0    2020-08-11T19:20:14Z  UCvtRTOMP2TqYqu51xNrqAzg         Brawadis   \n",
       "1    2020-08-11T17:00:10Z  UC0ZV6M2THA81QT9hrVWJG3A     Apex Legends   \n",
       "2    2020-08-11T16:34:06Z  UCYzPXprvl5Y-Sf0g4vX-m6g    jacksepticeye   \n",
       "3    2020-08-11T16:38:55Z  UCbg_UMjlHJg_19SZckaKajg              XXL   \n",
       "4    2020-08-11T15:10:05Z  UCDVPcEbVLQgLZX0Rt6jo34A         Mr. Kate   \n",
       "..                    ...                       ...              ...   \n",
       "495  2020-08-10T15:58:26Z  UCElGBUWDCa05jRzc2PfmGqQ    Tom MacDonald   \n",
       "496  2020-08-11T00:19:12Z  UCDrLGkZTcNCshOLiKi5NtEw         WGN News   \n",
       "497  2020-08-10T16:00:10Z  UCblix-YUgJKKSQeL_Jp1SIg     LilMoseyVEVO   \n",
       "498  2020-08-11T13:00:29Z  UCYv8VkKxvmfYIRbowQALwCw  Ellie and Jared   \n",
       "499  2020-08-10T12:00:03Z  UCLXo7UDZvByw2ixzpQCufnA              Vox   \n",
       "\n",
       "     categoryId         trending_date  \\\n",
       "0            22  2020-08-12T00:00:00Z   \n",
       "1            20  2020-08-12T00:00:00Z   \n",
       "2            24  2020-08-12T00:00:00Z   \n",
       "3            10  2020-08-12T00:00:00Z   \n",
       "4            26  2020-08-12T00:00:00Z   \n",
       "..          ...                   ...   \n",
       "495          10  2020-08-14T00:00:00Z   \n",
       "496          25  2020-08-14T00:00:00Z   \n",
       "497          10  2020-08-14T00:00:00Z   \n",
       "498          22  2020-08-14T00:00:00Z   \n",
       "499          25  2020-08-14T00:00:00Z   \n",
       "\n",
       "                                                  tags  view_count   likes  \\\n",
       "0    brawadis|prank|basketball|skits|ghost|funny vi...     1514614  156908   \n",
       "1    Apex Legends|Apex Legends characters|new Apex ...     2381688  146739   \n",
       "2    jacksepticeye|funny|funny meme|memes|jacksepti...     2038853  353787   \n",
       "3    xxl freshman|xxl freshmen|2020 xxl freshman|20...      496771   23251   \n",
       "4    The LaBrant Family|DIY|Interior Design|Makeove...     1123889   45802   \n",
       "..                                                 ...         ...     ...   \n",
       "495  Eminem|MGK|Token|NF|Hopsin|Machine Gun Kelly|M...      594150   39997   \n",
       "496  video|news|wgntv news|wgntv chicago|Chicago|un...      379909    3797   \n",
       "497  Lil|Mosey|Lunay|Top|Gone|Mogul|Vision/Intersco...     2496791   99797   \n",
       "498  family life|life vlog|family vlog|ellie and ja...      268852   10564   \n",
       "499  Vox.com|vox|explain|explainer|colombia|climate...     1403618   50522   \n",
       "\n",
       "     ...  comment_count                                  thumbnail_link  \\\n",
       "0    ...          35313  https://i.ytimg.com/vi/3C66w5Z0ixs/default.jpg   \n",
       "1    ...          16549  https://i.ytimg.com/vi/M9Pmf9AB4Mo/default.jpg   \n",
       "2    ...          40221  https://i.ytimg.com/vi/J78aPJ3VyNs/default.jpg   \n",
       "3    ...           7647  https://i.ytimg.com/vi/kXLn3HkpjaA/default.jpg   \n",
       "4    ...           2196  https://i.ytimg.com/vi/VIUo6yapDbc/default.jpg   \n",
       "..   ...            ...                                             ...   \n",
       "495  ...           5286  https://i.ytimg.com/vi/N5KpIE2tz8M/default.jpg   \n",
       "496  ...           5135  https://i.ytimg.com/vi/aG8QsfDisdg/default.jpg   \n",
       "497  ...           4966  https://i.ytimg.com/vi/lIgtAxmA800/default.jpg   \n",
       "498  ...              0  https://i.ytimg.com/vi/Tujt4APHPzo/default.jpg   \n",
       "499  ...           5698  https://i.ytimg.com/vi/6IN4ZcZAUbA/default.jpg   \n",
       "\n",
       "    comments_disabled  ratings_disabled  \\\n",
       "0               False             False   \n",
       "1               False             False   \n",
       "2               False             False   \n",
       "3               False             False   \n",
       "4               False             False   \n",
       "..                ...               ...   \n",
       "495             False             False   \n",
       "496             False             False   \n",
       "497             False             False   \n",
       "498              True             False   \n",
       "499             False             False   \n",
       "\n",
       "                                           description  \\\n",
       "0    SUBSCRIBE to BRAWADIS ▶ http://bit.ly/Subscrib...   \n",
       "1    While running her own modding shop, Ramya Pare...   \n",
       "2    I left youtube for a month and this is what ha...   \n",
       "3    Subscribe to XXL → http://bit.ly/subscribe-xxl...   \n",
       "4    Transforming The LaBrant Family's empty white ...   \n",
       "..                                                 ...   \n",
       "495  2 NEW ALBUMS Gravestones & Flowers For The Dea...   \n",
       "496  Hundreds of looters targeted businesses in the...   \n",
       "497  Lil Mosey - Top Gone (ft. Lunay)Listen: https:...   \n",
       "498  Come with us as we move into our new home! It ...   \n",
       "499  It's becoming harder and harder to grow. Becom...   \n",
       "\n",
       "                                   cleaned_description  \\\n",
       "0    SUBSCRIBE to BRAWADIS ▶ FOLLOW ME ON SOCIAL ▶ ...   \n",
       "1    While running her own modding shop, Ramya Pare...   \n",
       "2    I left youtube for a month and this is what ha...   \n",
       "3    Subscribe to XXL → XXL presents the 2020 XXL F...   \n",
       "4    Transforming The LaBrant Family's empty white ...   \n",
       "..                                                 ...   \n",
       "495  2 NEW ALBUMS Gravestones & Flowers For The Dea...   \n",
       "496  Hundreds of looters targeted businesses in the...   \n",
       "497  Lil Mosey - Top Gone (ft. Lunay)Listen: Music:...   \n",
       "498  Come with us as we move into our new home! It ...   \n",
       "499  It's becoming harder and harder to grow. Becom...   \n",
       "\n",
       "                                  description_keywords month  year  year_month  \n",
       "0    [dope vlogs, BRAWADIS ▶, FOLLOW ME, Brandon Aw...     8  2020     2020-08  \n",
       "1    [Apex Legends Season, Apex Legends, Ramya Pare...     8  2020     2020-08  \n",
       "2    [MEMES ►, Funniest Home Videos, youtube, the s...     8  2020     2020-08  \n",
       "3    [XXL Freshman, XXL, Neeko Baby, Lil Keed, Baby...     8  2020     2020-08  \n",
       "4    [_, _Creative Credit, Jam Velvet Pillows, Marc...     8  2020     2020-08  \n",
       "..                                                 ...   ...   ...         ...  \n",
       "495  [CONNECT W/ TOM MACDONALD, David Chappell, Nov...     8  2020     2020-08  \n",
       "496  [River North, early Monday, late Sunday, busin...     8  2020     2020-08  \n",
       "497  [Lil Mosey, Top Gone, Interscope Records, Luna...     8  2020     2020-08  \n",
       "498  [Jared Mecham PO BOX, code ELLIEANDJARED Subsc...     8  2020     2020-08  \n",
       "499  [growing coffee, Arabica coffee, Natalie Lambe...     8  2020     2020-08  \n",
       "\n",
       "[500 rows x 21 columns]"
      ]
     },
     "execution_count": 148,
     "metadata": {},
     "output_type": "execute_result"
    }
   ],
   "source": [
    "testdf.head(500)\n",
    "## all of these are from same year and month"
   ]
  },
  {
   "cell_type": "code",
   "execution_count": 149,
   "id": "485dd655",
   "metadata": {},
   "outputs": [],
   "source": [
    "from collections import Counter"
   ]
  },
  {
   "cell_type": "code",
   "execution_count": 150,
   "id": "1c646f63",
   "metadata": {},
   "outputs": [],
   "source": [
    "def get_top_keywords(group):\n",
    "    ## get all the keywords based on month and year group\n",
    "    all_keywords = [keyword for keywords_list in group['description_keywords'] for keyword in keywords_list]\n",
    "    \n",
    "    # get frequency count for all the keywords in group\n",
    "    keyword_counts = Counter(all_keywords)\n",
    "    \n",
    "    # top 10\n",
    "    return keyword_counts.most_common(20)"
   ]
  },
  {
   "cell_type": "code",
   "execution_count": 151,
   "id": "b6ee05fb",
   "metadata": {},
   "outputs": [],
   "source": [
    "top_keywords_per_month = grouped_dates.apply(get_top_keywords)"
   ]
  },
  {
   "cell_type": "code",
   "execution_count": 157,
   "id": "7468f72a",
   "metadata": {},
   "outputs": [
    {
     "data": {
      "text/plain": [
       "[('YouTube', 49),\n",
       " ('►', 44),\n",
       " ('I', 39),\n",
       " ('NBA', 36),\n",
       " ('Music', 29),\n",
       " ('2020', 29),\n",
       " ('SUBSCRIBE', 29),\n",
       " ('US', 27),\n",
       " ('#', 27),\n",
       " ('you', 21),\n",
       " ('August', 18),\n",
       " ('first', 17),\n",
       " ('Subscribe', 17),\n",
       " ('IG', 16),\n",
       " ('Cardi B', 15),\n",
       " ('us', 15),\n",
       " ('ME', 14),\n",
       " ('more official content', 14),\n",
       " ('we', 14),\n",
       " ('Rod Wave', 12)]"
      ]
     },
     "execution_count": 157,
     "metadata": {},
     "output_type": "execute_result"
    }
   ],
   "source": [
    "top_keywords_per_month[0]"
   ]
  },
  {
   "cell_type": "code",
   "execution_count": null,
   "id": "e991f8e3",
   "metadata": {},
   "outputs": [],
   "source": []
  }
 ],
 "metadata": {
  "kernelspec": {
   "display_name": "Python 3 (ipykernel)",
   "language": "python",
   "name": "python3"
  },
  "language_info": {
   "codemirror_mode": {
    "name": "ipython",
    "version": 3
   },
   "file_extension": ".py",
   "mimetype": "text/x-python",
   "name": "python",
   "nbconvert_exporter": "python",
   "pygments_lexer": "ipython3",
   "version": "3.11.4"
  }
 },
 "nbformat": 4,
 "nbformat_minor": 5
}
