{
 "cells": [
  {
   "cell_type": "code",
   "execution_count": 1,
   "id": "dc56968b",
   "metadata": {},
   "outputs": [],
   "source": [
    "import pandas as pd\n",
    "import numpy as np\n",
    "import os\n",
    "import matplotlib.pyplot as plt\n",
    "import seaborn as sns"
   ]
  },
  {
   "cell_type": "code",
   "execution_count": 3,
   "id": "5f644a13",
   "metadata": {},
   "outputs": [],
   "source": [
    "filename = os.path.join(os.getcwd(), \"US_youtube_trending_data.csv\")\n",
    "df = pd.read_csv(filename, header=0)"
   ]
  },
  {
   "cell_type": "code",
   "execution_count": 4,
   "id": "1556a71c",
   "metadata": {},
   "outputs": [
    {
     "data": {
      "text/html": [
       "<div>\n",
       "<style scoped>\n",
       "    .dataframe tbody tr th:only-of-type {\n",
       "        vertical-align: middle;\n",
       "    }\n",
       "\n",
       "    .dataframe tbody tr th {\n",
       "        vertical-align: top;\n",
       "    }\n",
       "\n",
       "    .dataframe thead th {\n",
       "        text-align: right;\n",
       "    }\n",
       "</style>\n",
       "<table border=\"1\" class=\"dataframe\">\n",
       "  <thead>\n",
       "    <tr style=\"text-align: right;\">\n",
       "      <th></th>\n",
       "      <th>video_id</th>\n",
       "      <th>title</th>\n",
       "      <th>publishedAt</th>\n",
       "      <th>channelId</th>\n",
       "      <th>channelTitle</th>\n",
       "      <th>categoryId</th>\n",
       "      <th>trending_date</th>\n",
       "      <th>tags</th>\n",
       "      <th>view_count</th>\n",
       "      <th>likes</th>\n",
       "      <th>dislikes</th>\n",
       "      <th>comment_count</th>\n",
       "      <th>thumbnail_link</th>\n",
       "      <th>comments_disabled</th>\n",
       "      <th>ratings_disabled</th>\n",
       "      <th>description</th>\n",
       "    </tr>\n",
       "  </thead>\n",
       "  <tbody>\n",
       "    <tr>\n",
       "      <th>0</th>\n",
       "      <td>3C66w5Z0ixs</td>\n",
       "      <td>I ASKED HER TO BE MY GIRLFRIEND...</td>\n",
       "      <td>2020-08-11T19:20:14Z</td>\n",
       "      <td>UCvtRTOMP2TqYqu51xNrqAzg</td>\n",
       "      <td>Brawadis</td>\n",
       "      <td>22</td>\n",
       "      <td>2020-08-12T00:00:00Z</td>\n",
       "      <td>brawadis|prank|basketball|skits|ghost|funny vi...</td>\n",
       "      <td>1514614</td>\n",
       "      <td>156908</td>\n",
       "      <td>5855</td>\n",
       "      <td>35313</td>\n",
       "      <td>https://i.ytimg.com/vi/3C66w5Z0ixs/default.jpg</td>\n",
       "      <td>False</td>\n",
       "      <td>False</td>\n",
       "      <td>SUBSCRIBE to BRAWADIS ▶ http://bit.ly/Subscrib...</td>\n",
       "    </tr>\n",
       "    <tr>\n",
       "      <th>1</th>\n",
       "      <td>M9Pmf9AB4Mo</td>\n",
       "      <td>Apex Legends | Stories from the Outlands – “Th...</td>\n",
       "      <td>2020-08-11T17:00:10Z</td>\n",
       "      <td>UC0ZV6M2THA81QT9hrVWJG3A</td>\n",
       "      <td>Apex Legends</td>\n",
       "      <td>20</td>\n",
       "      <td>2020-08-12T00:00:00Z</td>\n",
       "      <td>Apex Legends|Apex Legends characters|new Apex ...</td>\n",
       "      <td>2381688</td>\n",
       "      <td>146739</td>\n",
       "      <td>2794</td>\n",
       "      <td>16549</td>\n",
       "      <td>https://i.ytimg.com/vi/M9Pmf9AB4Mo/default.jpg</td>\n",
       "      <td>False</td>\n",
       "      <td>False</td>\n",
       "      <td>While running her own modding shop, Ramya Pare...</td>\n",
       "    </tr>\n",
       "    <tr>\n",
       "      <th>2</th>\n",
       "      <td>J78aPJ3VyNs</td>\n",
       "      <td>I left youtube for a month and THIS is what ha...</td>\n",
       "      <td>2020-08-11T16:34:06Z</td>\n",
       "      <td>UCYzPXprvl5Y-Sf0g4vX-m6g</td>\n",
       "      <td>jacksepticeye</td>\n",
       "      <td>24</td>\n",
       "      <td>2020-08-12T00:00:00Z</td>\n",
       "      <td>jacksepticeye|funny|funny meme|memes|jacksepti...</td>\n",
       "      <td>2038853</td>\n",
       "      <td>353787</td>\n",
       "      <td>2628</td>\n",
       "      <td>40221</td>\n",
       "      <td>https://i.ytimg.com/vi/J78aPJ3VyNs/default.jpg</td>\n",
       "      <td>False</td>\n",
       "      <td>False</td>\n",
       "      <td>I left youtube for a month and this is what ha...</td>\n",
       "    </tr>\n",
       "    <tr>\n",
       "      <th>3</th>\n",
       "      <td>kXLn3HkpjaA</td>\n",
       "      <td>XXL 2020 Freshman Class Revealed - Official An...</td>\n",
       "      <td>2020-08-11T16:38:55Z</td>\n",
       "      <td>UCbg_UMjlHJg_19SZckaKajg</td>\n",
       "      <td>XXL</td>\n",
       "      <td>10</td>\n",
       "      <td>2020-08-12T00:00:00Z</td>\n",
       "      <td>xxl freshman|xxl freshmen|2020 xxl freshman|20...</td>\n",
       "      <td>496771</td>\n",
       "      <td>23251</td>\n",
       "      <td>1856</td>\n",
       "      <td>7647</td>\n",
       "      <td>https://i.ytimg.com/vi/kXLn3HkpjaA/default.jpg</td>\n",
       "      <td>False</td>\n",
       "      <td>False</td>\n",
       "      <td>Subscribe to XXL → http://bit.ly/subscribe-xxl...</td>\n",
       "    </tr>\n",
       "    <tr>\n",
       "      <th>4</th>\n",
       "      <td>VIUo6yapDbc</td>\n",
       "      <td>Ultimate DIY Home Movie Theater for The LaBran...</td>\n",
       "      <td>2020-08-11T15:10:05Z</td>\n",
       "      <td>UCDVPcEbVLQgLZX0Rt6jo34A</td>\n",
       "      <td>Mr. Kate</td>\n",
       "      <td>26</td>\n",
       "      <td>2020-08-12T00:00:00Z</td>\n",
       "      <td>The LaBrant Family|DIY|Interior Design|Makeove...</td>\n",
       "      <td>1123889</td>\n",
       "      <td>45802</td>\n",
       "      <td>964</td>\n",
       "      <td>2196</td>\n",
       "      <td>https://i.ytimg.com/vi/VIUo6yapDbc/default.jpg</td>\n",
       "      <td>False</td>\n",
       "      <td>False</td>\n",
       "      <td>Transforming The LaBrant Family's empty white ...</td>\n",
       "    </tr>\n",
       "  </tbody>\n",
       "</table>\n",
       "</div>"
      ],
      "text/plain": [
       "      video_id                                              title  \\\n",
       "0  3C66w5Z0ixs                 I ASKED HER TO BE MY GIRLFRIEND...   \n",
       "1  M9Pmf9AB4Mo  Apex Legends | Stories from the Outlands – “Th...   \n",
       "2  J78aPJ3VyNs  I left youtube for a month and THIS is what ha...   \n",
       "3  kXLn3HkpjaA  XXL 2020 Freshman Class Revealed - Official An...   \n",
       "4  VIUo6yapDbc  Ultimate DIY Home Movie Theater for The LaBran...   \n",
       "\n",
       "            publishedAt                 channelId   channelTitle  categoryId  \\\n",
       "0  2020-08-11T19:20:14Z  UCvtRTOMP2TqYqu51xNrqAzg       Brawadis          22   \n",
       "1  2020-08-11T17:00:10Z  UC0ZV6M2THA81QT9hrVWJG3A   Apex Legends          20   \n",
       "2  2020-08-11T16:34:06Z  UCYzPXprvl5Y-Sf0g4vX-m6g  jacksepticeye          24   \n",
       "3  2020-08-11T16:38:55Z  UCbg_UMjlHJg_19SZckaKajg            XXL          10   \n",
       "4  2020-08-11T15:10:05Z  UCDVPcEbVLQgLZX0Rt6jo34A       Mr. Kate          26   \n",
       "\n",
       "          trending_date                                               tags  \\\n",
       "0  2020-08-12T00:00:00Z  brawadis|prank|basketball|skits|ghost|funny vi...   \n",
       "1  2020-08-12T00:00:00Z  Apex Legends|Apex Legends characters|new Apex ...   \n",
       "2  2020-08-12T00:00:00Z  jacksepticeye|funny|funny meme|memes|jacksepti...   \n",
       "3  2020-08-12T00:00:00Z  xxl freshman|xxl freshmen|2020 xxl freshman|20...   \n",
       "4  2020-08-12T00:00:00Z  The LaBrant Family|DIY|Interior Design|Makeove...   \n",
       "\n",
       "   view_count   likes  dislikes  comment_count  \\\n",
       "0     1514614  156908      5855          35313   \n",
       "1     2381688  146739      2794          16549   \n",
       "2     2038853  353787      2628          40221   \n",
       "3      496771   23251      1856           7647   \n",
       "4     1123889   45802       964           2196   \n",
       "\n",
       "                                   thumbnail_link  comments_disabled  \\\n",
       "0  https://i.ytimg.com/vi/3C66w5Z0ixs/default.jpg              False   \n",
       "1  https://i.ytimg.com/vi/M9Pmf9AB4Mo/default.jpg              False   \n",
       "2  https://i.ytimg.com/vi/J78aPJ3VyNs/default.jpg              False   \n",
       "3  https://i.ytimg.com/vi/kXLn3HkpjaA/default.jpg              False   \n",
       "4  https://i.ytimg.com/vi/VIUo6yapDbc/default.jpg              False   \n",
       "\n",
       "   ratings_disabled                                        description  \n",
       "0             False  SUBSCRIBE to BRAWADIS ▶ http://bit.ly/Subscrib...  \n",
       "1             False  While running her own modding shop, Ramya Pare...  \n",
       "2             False  I left youtube for a month and this is what ha...  \n",
       "3             False  Subscribe to XXL → http://bit.ly/subscribe-xxl...  \n",
       "4             False  Transforming The LaBrant Family's empty white ...  "
      ]
     },
     "execution_count": 4,
     "metadata": {},
     "output_type": "execute_result"
    }
   ],
   "source": [
    "df.head()"
   ]
  },
  {
   "cell_type": "code",
   "execution_count": 7,
   "id": "90b21ddd",
   "metadata": {},
   "outputs": [
    {
     "name": "stdout",
     "output_type": "stream",
     "text": [
      "(268787, 16)\n"
     ]
    }
   ],
   "source": [
    "print(df.shape)"
   ]
  },
  {
   "cell_type": "code",
   "execution_count": 8,
   "id": "a33a65d9",
   "metadata": {},
   "outputs": [
    {
     "name": "stdout",
     "output_type": "stream",
     "text": [
      "Index(['video_id', 'title', 'publishedAt', 'channelId', 'channelTitle',\n",
      "       'categoryId', 'trending_date', 'tags', 'view_count', 'likes',\n",
      "       'dislikes', 'comment_count', 'thumbnail_link', 'comments_disabled',\n",
      "       'ratings_disabled', 'description'],\n",
      "      dtype='object')\n"
     ]
    }
   ],
   "source": [
    "print(df.columns)"
   ]
  },
  {
   "cell_type": "code",
   "execution_count": 17,
   "id": "d4032363",
   "metadata": {},
   "outputs": [
    {
     "name": "stdout",
     "output_type": "stream",
     "text": [
      "8302\n"
     ]
    }
   ],
   "source": [
    "print(df['channelId'].nunique())"
   ]
  },
  {
   "cell_type": "code",
   "execution_count": 18,
   "id": "487d7df9",
   "metadata": {},
   "outputs": [
    {
     "name": "stdout",
     "output_type": "stream",
     "text": [
      "0         brawadis|prank|basketball|skits|ghost|funny vi...\n",
      "1         Apex Legends|Apex Legends characters|new Apex ...\n",
      "2         jacksepticeye|funny|funny meme|memes|jacksepti...\n",
      "3         xxl freshman|xxl freshmen|2020 xxl freshman|20...\n",
      "4         The LaBrant Family|DIY|Interior Design|Makeove...\n",
      "                                ...                        \n",
      "268782    morning-news|Eclipses|travel|travel news|weath...\n",
      "268783                                               [None]\n",
      "268784            japan|cdawgva|abroad in japan|trash taste\n",
      "268785    gym|youtube|bodybuilder|powerlifter|vlog|vlogg...\n",
      "268786    meta runner|glitch productions|funny|video gam...\n",
      "Name: tags, Length: 268787, dtype: object\n"
     ]
    }
   ],
   "source": [
    "print(df['tags'])"
   ]
  },
  {
   "cell_type": "code",
   "execution_count": 21,
   "id": "6f93d249",
   "metadata": {},
   "outputs": [
    {
     "data": {
      "text/plain": [
       "count    2.687870e+05\n",
       "mean     2.734467e+06\n",
       "std      9.794087e+06\n",
       "min      0.000000e+00\n",
       "25%      4.725410e+05\n",
       "50%      9.368710e+05\n",
       "75%      2.106178e+06\n",
       "max      1.407644e+09\n",
       "Name: view_count, dtype: float64"
      ]
     },
     "execution_count": 21,
     "metadata": {},
     "output_type": "execute_result"
    }
   ],
   "source": [
    "df['view_count'].describe()"
   ]
  },
  {
   "cell_type": "code",
   "execution_count": 23,
   "id": "daff62a4",
   "metadata": {},
   "outputs": [
    {
     "data": {
      "text/plain": [
       "(0.0, 936871.0)"
      ]
     },
     "execution_count": 23,
     "metadata": {},
     "output_type": "execute_result"
    },
    {
     "data": {
      "image/png": "[encoded data removed]",
      "text/plain": [
       "<Figure size 640x480 with 1 Axes>"
      ]
     },
     "metadata": {},
     "output_type": "display_data"
    }
   ],
   "source": [
    "sns.histplot(data=df, x=df['view_count'])\n",
    "plt.xlim(0, 9.368710e+05)"
   ]
  },
  {
   "cell_type": "code",
   "execution_count": 31,
   "id": "45441721",
   "metadata": {},
   "outputs": [
    {
     "data": {
      "text/plain": [
       "(936871.0, 200000000.0)"
      ]
     },
     "execution_count": 31,
     "metadata": {},
     "output_type": "execute_result"
    },
    {
     "data": {
      "image/png": "[encoded data removed]",
      "text/plain": [
       "<Figure size 640x480 with 1 Axes>"
      ]
     },
     "metadata": {},
     "output_type": "display_data"
    }
   ],
   "source": [
    "sns.histplot(data=df, x=df['view_count'])\n",
    "plt.xlim(9.368710e+05, 0.2e+09)"
   ]
  },
  {
   "cell_type": "code",
   "execution_count": 33,
   "id": "b71d611f",
   "metadata": {},
   "outputs": [
    {
     "data": {
      "text/html": [
       "<div>\n",
       "<style scoped>\n",
       "    .dataframe tbody tr th:only-of-type {\n",
       "        vertical-align: middle;\n",
       "    }\n",
       "\n",
       "    .dataframe tbody tr th {\n",
       "        vertical-align: top;\n",
       "    }\n",
       "\n",
       "    .dataframe thead th {\n",
       "        text-align: right;\n",
       "    }\n",
       "</style>\n",
       "<table border=\"1\" class=\"dataframe\">\n",
       "  <thead>\n",
       "    <tr style=\"text-align: right;\">\n",
       "      <th></th>\n",
       "      <th>video_id</th>\n",
       "      <th>title</th>\n",
       "      <th>publishedAt</th>\n",
       "      <th>channelId</th>\n",
       "      <th>channelTitle</th>\n",
       "      <th>categoryId</th>\n",
       "      <th>trending_date</th>\n",
       "      <th>tags</th>\n",
       "      <th>view_count</th>\n",
       "      <th>likes</th>\n",
       "      <th>dislikes</th>\n",
       "      <th>comment_count</th>\n",
       "      <th>thumbnail_link</th>\n",
       "      <th>comments_disabled</th>\n",
       "      <th>ratings_disabled</th>\n",
       "      <th>description</th>\n",
       "    </tr>\n",
       "  </thead>\n",
       "  <tbody>\n",
       "    <tr>\n",
       "      <th>1</th>\n",
       "      <td>M9Pmf9AB4Mo</td>\n",
       "      <td>Apex Legends | Stories from the Outlands – “Th...</td>\n",
       "      <td>2020-08-11T17:00:10Z</td>\n",
       "      <td>UC0ZV6M2THA81QT9hrVWJG3A</td>\n",
       "      <td>Apex Legends</td>\n",
       "      <td>20</td>\n",
       "      <td>2020-08-12T00:00:00Z</td>\n",
       "      <td>Apex Legends|Apex Legends characters|new Apex ...</td>\n",
       "      <td>2381688</td>\n",
       "      <td>146739</td>\n",
       "      <td>2794</td>\n",
       "      <td>16549</td>\n",
       "      <td>https://i.ytimg.com/vi/M9Pmf9AB4Mo/default.jpg</td>\n",
       "      <td>False</td>\n",
       "      <td>False</td>\n",
       "      <td>While running her own modding shop, Ramya Pare...</td>\n",
       "    </tr>\n",
       "    <tr>\n",
       "      <th>19</th>\n",
       "      <td>jbGRowa5tIk</td>\n",
       "      <td>ITZY “Not Shy” M/V TEASER</td>\n",
       "      <td>2020-08-11T15:00:13Z</td>\n",
       "      <td>UCaO6TYtlC8U5ttz62hTrZgg</td>\n",
       "      <td>JYP Entertainment</td>\n",
       "      <td>10</td>\n",
       "      <td>2020-08-12T00:00:00Z</td>\n",
       "      <td>JYP Entertainment|JYP|ITZY|있지|ITZY Video|ITZY ...</td>\n",
       "      <td>5999732</td>\n",
       "      <td>714287</td>\n",
       "      <td>15174</td>\n",
       "      <td>31039</td>\n",
       "      <td>https://i.ytimg.com/vi/jbGRowa5tIk/default.jpg</td>\n",
       "      <td>False</td>\n",
       "      <td>False</td>\n",
       "      <td>ITZY Not Shy M/V[ITZY Official] https://www.yo...</td>\n",
       "    </tr>\n",
       "    <tr>\n",
       "      <th>20</th>\n",
       "      <td>vePc5V4h_kg</td>\n",
       "      <td>Shark Attack Test- Human Blood vs. Fish Blood</td>\n",
       "      <td>2020-08-09T16:00:11Z</td>\n",
       "      <td>UCY1kMZp36IQSyNx_9h4mpCg</td>\n",
       "      <td>Mark Rober</td>\n",
       "      <td>28</td>\n",
       "      <td>2020-08-12T00:00:00Z</td>\n",
       "      <td>sharks|sharkweek|jaws|shark attack|blood in wa...</td>\n",
       "      <td>14684474</td>\n",
       "      <td>544038</td>\n",
       "      <td>15818</td>\n",
       "      <td>33507</td>\n",
       "      <td>https://i.ytimg.com/vi/vePc5V4h_kg/default.jpg</td>\n",
       "      <td>False</td>\n",
       "      <td>False</td>\n",
       "      <td>I personally got in the water and tested if Sh...</td>\n",
       "    </tr>\n",
       "    <tr>\n",
       "      <th>22</th>\n",
       "      <td>FopIxceEr8g</td>\n",
       "      <td>EXTREME Game of Hide and Seek in my NEW HOUSE!!</td>\n",
       "      <td>2020-08-10T17:09:53Z</td>\n",
       "      <td>UCilwZiBBfI9X6yiZRzWty8Q</td>\n",
       "      <td>FaZe Rug</td>\n",
       "      <td>24</td>\n",
       "      <td>2020-08-12T00:00:00Z</td>\n",
       "      <td>faze rug|rug|rugfaze|fazerug|hide n seek|hide ...</td>\n",
       "      <td>3061467</td>\n",
       "      <td>206840</td>\n",
       "      <td>2646</td>\n",
       "      <td>14934</td>\n",
       "      <td>https://i.ytimg.com/vi/FopIxceEr8g/default.jpg</td>\n",
       "      <td>False</td>\n",
       "      <td>False</td>\n",
       "      <td>THIS WAS SO MUCH FUNWe played hide n seek for ...</td>\n",
       "    </tr>\n",
       "    <tr>\n",
       "      <th>23</th>\n",
       "      <td>p7HGUZWq_8s</td>\n",
       "      <td>Doing Doja Cat’s Makeup!!</td>\n",
       "      <td>2020-08-11T19:00:09Z</td>\n",
       "      <td>UCucot-Zp428OwkyRm2I7v2Q</td>\n",
       "      <td>James Charles</td>\n",
       "      <td>24</td>\n",
       "      <td>2020-08-12T00:00:00Z</td>\n",
       "      <td>james|james charles|makeup artist|covergirl|co...</td>\n",
       "      <td>3662673</td>\n",
       "      <td>394675</td>\n",
       "      <td>5757</td>\n",
       "      <td>27346</td>\n",
       "      <td>https://i.ytimg.com/vi/p7HGUZWq_8s/default.jpg</td>\n",
       "      <td>False</td>\n",
       "      <td>False</td>\n",
       "      <td>HI SISTERS! Today’s video is a collaboration w...</td>\n",
       "    </tr>\n",
       "    <tr>\n",
       "      <th>...</th>\n",
       "      <td>...</td>\n",
       "      <td>...</td>\n",
       "      <td>...</td>\n",
       "      <td>...</td>\n",
       "      <td>...</td>\n",
       "      <td>...</td>\n",
       "      <td>...</td>\n",
       "      <td>...</td>\n",
       "      <td>...</td>\n",
       "      <td>...</td>\n",
       "      <td>...</td>\n",
       "      <td>...</td>\n",
       "      <td>...</td>\n",
       "      <td>...</td>\n",
       "      <td>...</td>\n",
       "      <td>...</td>\n",
       "    </tr>\n",
       "    <tr>\n",
       "      <th>268777</th>\n",
       "      <td>SV9SwKd6J3w</td>\n",
       "      <td>R O U N D 6 ｜ Alien Stage</td>\n",
       "      <td>2024-04-05T09:00:08Z</td>\n",
       "      <td>UCch9Dmg5Juwp8MZGvAmAp4Q</td>\n",
       "      <td>VIVINOS</td>\n",
       "      <td>1</td>\n",
       "      <td>2024-04-15T00:00:00Z</td>\n",
       "      <td>[None]</td>\n",
       "      <td>3049093</td>\n",
       "      <td>207252</td>\n",
       "      <td>0</td>\n",
       "      <td>13835</td>\n",
       "      <td>https://i.ytimg.com/vi/SV9SwKd6J3w/default.jpg</td>\n",
       "      <td>False</td>\n",
       "      <td>False</td>\n",
       "      <td>[Alien Stage IVAN &amp; TILL MD Pre-order]📡 https:...</td>\n",
       "    </tr>\n",
       "    <tr>\n",
       "      <th>268779</th>\n",
       "      <td>ktjvgseCjYE</td>\n",
       "      <td>Doja Cat - MASC (Official Video) ft. Teezo Tou...</td>\n",
       "      <td>2024-04-05T04:00:05Z</td>\n",
       "      <td>UCpTaAz_BxtkUB1qc8JTU_7g</td>\n",
       "      <td>dojacatVEVO</td>\n",
       "      <td>10</td>\n",
       "      <td>2024-04-15T00:00:00Z</td>\n",
       "      <td>Doja Cat feat. Teezo Touchdown|MASC|s2claude|d...</td>\n",
       "      <td>5406115</td>\n",
       "      <td>156300</td>\n",
       "      <td>0</td>\n",
       "      <td>7471</td>\n",
       "      <td>https://i.ytimg.com/vi/ktjvgseCjYE/default.jpg</td>\n",
       "      <td>False</td>\n",
       "      <td>False</td>\n",
       "      <td>Doja Cat // MASC feat. Teezo TouchdownStream '...</td>\n",
       "    </tr>\n",
       "    <tr>\n",
       "      <th>268781</th>\n",
       "      <td>d7DdLRe5QgM</td>\n",
       "      <td>skibidi toilet 72 (full episode)</td>\n",
       "      <td>2024-04-05T06:30:18Z</td>\n",
       "      <td>UCsSsgPaZ2GSmO6il8Cb5iGA</td>\n",
       "      <td>DaFuq!?Boom!</td>\n",
       "      <td>24</td>\n",
       "      <td>2024-04-15T00:00:00Z</td>\n",
       "      <td>sfm animation|skibidi toilet vs cameramen|skib...</td>\n",
       "      <td>23820264</td>\n",
       "      <td>720335</td>\n",
       "      <td>0</td>\n",
       "      <td>33664</td>\n",
       "      <td>https://i.ytimg.com/vi/d7DdLRe5QgM/default.jpg</td>\n",
       "      <td>False</td>\n",
       "      <td>False</td>\n",
       "      <td>g-toilet, astro toilets and titans clash in co...</td>\n",
       "    </tr>\n",
       "    <tr>\n",
       "      <th>268783</th>\n",
       "      <td>aFsfJYWpqII</td>\n",
       "      <td>Food Delivery Apps: Last Week Tonight with Joh...</td>\n",
       "      <td>2024-04-04T11:00:02Z</td>\n",
       "      <td>UC3XTzVzaHQEd30rQbuvCtTQ</td>\n",
       "      <td>LastWeekTonight</td>\n",
       "      <td>24</td>\n",
       "      <td>2024-04-15T00:00:00Z</td>\n",
       "      <td>[None]</td>\n",
       "      <td>3998181</td>\n",
       "      <td>107811</td>\n",
       "      <td>0</td>\n",
       "      <td>10335</td>\n",
       "      <td>https://i.ytimg.com/vi/aFsfJYWpqII/default.jpg</td>\n",
       "      <td>False</td>\n",
       "      <td>False</td>\n",
       "      <td>John Oliver discusses food delivery apps, how ...</td>\n",
       "    </tr>\n",
       "    <tr>\n",
       "      <th>268786</th>\n",
       "      <td>SBTA3Tegacs</td>\n",
       "      <td>Murder Drones Training Video</td>\n",
       "      <td>2024-04-05T19:00:12Z</td>\n",
       "      <td>UCn_FAXem2-e3HQvmK-mOH4g</td>\n",
       "      <td>GLITCH</td>\n",
       "      <td>1</td>\n",
       "      <td>2024-04-15T00:00:00Z</td>\n",
       "      <td>meta runner|glitch productions|funny|video gam...</td>\n",
       "      <td>3073412</td>\n",
       "      <td>246678</td>\n",
       "      <td>0</td>\n",
       "      <td>14535</td>\n",
       "      <td>https://i.ytimg.com/vi/SBTA3Tegacs/default.jpg</td>\n",
       "      <td>False</td>\n",
       "      <td>False</td>\n",
       "      <td>J IS FINALLY A PLUSH and NEW Corporate Murder ...</td>\n",
       "    </tr>\n",
       "  </tbody>\n",
       "</table>\n",
       "<p>67197 rows × 16 columns</p>\n",
       "</div>"
      ],
      "text/plain": [
       "           video_id                                              title  \\\n",
       "1       M9Pmf9AB4Mo  Apex Legends | Stories from the Outlands – “Th...   \n",
       "19      jbGRowa5tIk                          ITZY “Not Shy” M/V TEASER   \n",
       "20      vePc5V4h_kg      Shark Attack Test- Human Blood vs. Fish Blood   \n",
       "22      FopIxceEr8g    EXTREME Game of Hide and Seek in my NEW HOUSE!!   \n",
       "23      p7HGUZWq_8s                          Doing Doja Cat’s Makeup!!   \n",
       "...             ...                                                ...   \n",
       "268777  SV9SwKd6J3w                          R O U N D 6 ｜ Alien Stage   \n",
       "268779  ktjvgseCjYE  Doja Cat - MASC (Official Video) ft. Teezo Tou...   \n",
       "268781  d7DdLRe5QgM                   skibidi toilet 72 (full episode)   \n",
       "268783  aFsfJYWpqII  Food Delivery Apps: Last Week Tonight with Joh...   \n",
       "268786  SBTA3Tegacs                       Murder Drones Training Video   \n",
       "\n",
       "                 publishedAt                 channelId       channelTitle  \\\n",
       "1       2020-08-11T17:00:10Z  UC0ZV6M2THA81QT9hrVWJG3A       Apex Legends   \n",
       "19      2020-08-11T15:00:13Z  UCaO6TYtlC8U5ttz62hTrZgg  JYP Entertainment   \n",
       "20      2020-08-09T16:00:11Z  UCY1kMZp36IQSyNx_9h4mpCg         Mark Rober   \n",
       "22      2020-08-10T17:09:53Z  UCilwZiBBfI9X6yiZRzWty8Q           FaZe Rug   \n",
       "23      2020-08-11T19:00:09Z  UCucot-Zp428OwkyRm2I7v2Q      James Charles   \n",
       "...                      ...                       ...                ...   \n",
       "268777  2024-04-05T09:00:08Z  UCch9Dmg5Juwp8MZGvAmAp4Q            VIVINOS   \n",
       "268779  2024-04-05T04:00:05Z  UCpTaAz_BxtkUB1qc8JTU_7g        dojacatVEVO   \n",
       "268781  2024-04-05T06:30:18Z  UCsSsgPaZ2GSmO6il8Cb5iGA       DaFuq!?Boom!   \n",
       "268783  2024-04-04T11:00:02Z  UC3XTzVzaHQEd30rQbuvCtTQ    LastWeekTonight   \n",
       "268786  2024-04-05T19:00:12Z  UCn_FAXem2-e3HQvmK-mOH4g             GLITCH   \n",
       "\n",
       "        categoryId         trending_date  \\\n",
       "1               20  2020-08-12T00:00:00Z   \n",
       "19              10  2020-08-12T00:00:00Z   \n",
       "20              28  2020-08-12T00:00:00Z   \n",
       "22              24  2020-08-12T00:00:00Z   \n",
       "23              24  2020-08-12T00:00:00Z   \n",
       "...            ...                   ...   \n",
       "268777           1  2024-04-15T00:00:00Z   \n",
       "268779          10  2024-04-15T00:00:00Z   \n",
       "268781          24  2024-04-15T00:00:00Z   \n",
       "268783          24  2024-04-15T00:00:00Z   \n",
       "268786           1  2024-04-15T00:00:00Z   \n",
       "\n",
       "                                                     tags  view_count   likes  \\\n",
       "1       Apex Legends|Apex Legends characters|new Apex ...     2381688  146739   \n",
       "19      JYP Entertainment|JYP|ITZY|있지|ITZY Video|ITZY ...     5999732  714287   \n",
       "20      sharks|sharkweek|jaws|shark attack|blood in wa...    14684474  544038   \n",
       "22      faze rug|rug|rugfaze|fazerug|hide n seek|hide ...     3061467  206840   \n",
       "23      james|james charles|makeup artist|covergirl|co...     3662673  394675   \n",
       "...                                                   ...         ...     ...   \n",
       "268777                                             [None]     3049093  207252   \n",
       "268779  Doja Cat feat. Teezo Touchdown|MASC|s2claude|d...     5406115  156300   \n",
       "268781  sfm animation|skibidi toilet vs cameramen|skib...    23820264  720335   \n",
       "268783                                             [None]     3998181  107811   \n",
       "268786  meta runner|glitch productions|funny|video gam...     3073412  246678   \n",
       "\n",
       "        dislikes  comment_count  \\\n",
       "1           2794          16549   \n",
       "19         15174          31039   \n",
       "20         15818          33507   \n",
       "22          2646          14934   \n",
       "23          5757          27346   \n",
       "...          ...            ...   \n",
       "268777         0          13835   \n",
       "268779         0           7471   \n",
       "268781         0          33664   \n",
       "268783         0          10335   \n",
       "268786         0          14535   \n",
       "\n",
       "                                        thumbnail_link  comments_disabled  \\\n",
       "1       https://i.ytimg.com/vi/M9Pmf9AB4Mo/default.jpg              False   \n",
       "19      https://i.ytimg.com/vi/jbGRowa5tIk/default.jpg              False   \n",
       "20      https://i.ytimg.com/vi/vePc5V4h_kg/default.jpg              False   \n",
       "22      https://i.ytimg.com/vi/FopIxceEr8g/default.jpg              False   \n",
       "23      https://i.ytimg.com/vi/p7HGUZWq_8s/default.jpg              False   \n",
       "...                                                ...                ...   \n",
       "268777  https://i.ytimg.com/vi/SV9SwKd6J3w/default.jpg              False   \n",
       "268779  https://i.ytimg.com/vi/ktjvgseCjYE/default.jpg              False   \n",
       "268781  https://i.ytimg.com/vi/d7DdLRe5QgM/default.jpg              False   \n",
       "268783  https://i.ytimg.com/vi/aFsfJYWpqII/default.jpg              False   \n",
       "268786  https://i.ytimg.com/vi/SBTA3Tegacs/default.jpg              False   \n",
       "\n",
       "        ratings_disabled                                        description  \n",
       "1                  False  While running her own modding shop, Ramya Pare...  \n",
       "19                 False  ITZY Not Shy M/V[ITZY Official] https://www.yo...  \n",
       "20                 False  I personally got in the water and tested if Sh...  \n",
       "22                 False  THIS WAS SO MUCH FUNWe played hide n seek for ...  \n",
       "23                 False  HI SISTERS! Today’s video is a collaboration w...  \n",
       "...                  ...                                                ...  \n",
       "268777             False  [Alien Stage IVAN & TILL MD Pre-order]📡 https:...  \n",
       "268779             False  Doja Cat // MASC feat. Teezo TouchdownStream '...  \n",
       "268781             False  g-toilet, astro toilets and titans clash in co...  \n",
       "268783             False  John Oliver discusses food delivery apps, how ...  \n",
       "268786             False  J IS FINALLY A PLUSH and NEW Corporate Murder ...  \n",
       "\n",
       "[67197 rows x 16 columns]"
      ]
     },
     "execution_count": 33,
     "metadata": {},
     "output_type": "execute_result"
    }
   ],
   "source": [
    "df[df['view_count'] > 2.106178e+06]"
   ]
  },
  {
   "cell_type": "code",
   "execution_count": 35,
   "id": "da78d417",
   "metadata": {},
   "outputs": [
    {
     "name": "stdout",
     "output_type": "stream",
     "text": [
      "video_id                0\n",
      "title                   0\n",
      "publishedAt             0\n",
      "channelId               0\n",
      "channelTitle            0\n",
      "categoryId              0\n",
      "trending_date           0\n",
      "tags                    0\n",
      "view_count              0\n",
      "likes                   0\n",
      "dislikes                0\n",
      "comment_count           0\n",
      "thumbnail_link          0\n",
      "comments_disabled       0\n",
      "ratings_disabled        0\n",
      "description          4549\n",
      "dtype: int64\n"
     ]
    }
   ],
   "source": [
    "print(df.isna().sum())"
   ]
  },
  {
   "cell_type": "code",
   "execution_count": 49,
   "id": "3af2ac39",
   "metadata": {},
   "outputs": [
    {
     "data": {
      "text/plain": [
       "<Axes: xlabel='view_count', ylabel='likes'>"
      ]
     },
     "execution_count": 49,
     "metadata": {},
     "output_type": "execute_result"
    },
    {
     "data": {
      "image/png": "[encoded data removed]",
      "text/plain": [
       "<Figure size 640x480 with 1 Axes>"
      ]
     },
     "metadata": {},
     "output_type": "display_data"
    }
   ],
   "source": [
    "sns.scatterplot(data=df, x=df['view_count'], y=df['likes'])"
   ]
  },
  {
   "cell_type": "code",
   "execution_count": 50,
   "id": "78c9f0c2",
   "metadata": {},
   "outputs": [],
   "source": [
    "df['like_percentage'] = df['likes']/df['view_count']"
   ]
  },
  {
   "cell_type": "code",
   "execution_count": 60,
   "id": "c9a3582d",
   "metadata": {},
   "outputs": [],
   "source": [
    "df.replace([np.inf, -np.inf], 0, inplace=True)"
   ]
  },
  {
   "cell_type": "code",
   "execution_count": 61,
   "id": "aa8d3359",
   "metadata": {
    "scrolled": true
   },
   "outputs": [
    {
     "data": {
      "text/plain": [
       "<Axes: xlabel='view_count', ylabel='like_percentage'>"
      ]
     },
     "execution_count": 61,
     "metadata": {},
     "output_type": "execute_result"
    },
    {
     "data": {
      "image/png": "[encoded data removed]",
      "text/plain": [
       "<Figure size 640x480 with 1 Axes>"
      ]
     },
     "metadata": {},
     "output_type": "display_data"
    }
   ],
   "source": [
    "sns.scatterplot(data=df, x=df['view_count'], y=df['like_percentage'])"
   ]
  },
  {
   "cell_type": "code",
   "execution_count": 62,
   "id": "7b6d9e28",
   "metadata": {},
   "outputs": [
    {
     "data": {
      "text/plain": [
       "count    268730.000000\n",
       "mean          0.051959\n",
       "std           0.036334\n",
       "min           0.000000\n",
       "25%           0.025644\n",
       "50%           0.046394\n",
       "75%           0.068979\n",
       "max           0.433503\n",
       "Name: like_percentage, dtype: float64"
      ]
     },
     "execution_count": 62,
     "metadata": {},
     "output_type": "execute_result"
    }
   ],
   "source": [
    "df['like_percentage'].describe()"
   ]
  },
  {
   "cell_type": "code",
   "execution_count": 47,
   "id": "5d4ed2e0",
   "metadata": {},
   "outputs": [
    {
     "data": {
      "text/plain": [
       "0.005722002924248569"
      ]
     },
     "execution_count": 47,
     "metadata": {},
     "output_type": "execute_result"
    }
   ],
   "source": [
    "df['ratings_disabled'].sum() / df.shape[0]"
   ]
  },
  {
   "cell_type": "code",
   "execution_count": 70,
   "id": "0136d0ac",
   "metadata": {},
   "outputs": [],
   "source": [
    "df['comments_disabled'] = df['comments_disabled'].map({True: 1, False: 0})                             \n",
    "df['ratings_disabled'] = df['ratings_disabled'].map({True: 1, False: 0})    "
   ]
  },
  {
   "cell_type": "code",
   "execution_count": 72,
   "id": "ab601a25",
   "metadata": {},
   "outputs": [
    {
     "name": "stdout",
     "output_type": "stream",
     "text": [
      "15\n"
     ]
    }
   ],
   "source": [
    "print(df['categoryId'].nunique())"
   ]
  },
  {
   "cell_type": "code",
   "execution_count": 73,
   "id": "90fccc38",
   "metadata": {},
   "outputs": [
    {
     "data": {
      "text/plain": [
       "0         2020-08-11T19:20:14Z\n",
       "1         2020-08-11T17:00:10Z\n",
       "2         2020-08-11T16:34:06Z\n",
       "3         2020-08-11T16:38:55Z\n",
       "4         2020-08-11T15:10:05Z\n",
       "                  ...         \n",
       "268782    2024-04-08T15:55:44Z\n",
       "268783    2024-04-04T11:00:02Z\n",
       "268784    2024-04-07T14:53:25Z\n",
       "268785    2024-04-07T18:00:03Z\n",
       "268786    2024-04-05T19:00:12Z\n",
       "Name: publishedAt, Length: 268787, dtype: object"
      ]
     },
     "execution_count": 73,
     "metadata": {},
     "output_type": "execute_result"
    }
   ],
   "source": [
    "df['publishedAt']"
   ]
  },
  {
   "cell_type": "code",
   "execution_count": 86,
   "id": "7c3244a0",
   "metadata": {},
   "outputs": [],
   "source": [
    "df['date'] = df['publishedAt'].astype(str).str[0:10]"
   ]
  },
  {
   "cell_type": "code",
   "execution_count": 89,
   "id": "761ed0cc",
   "metadata": {},
   "outputs": [
    {
     "data": {
      "text/html": [
       "<div>\n",
       "<style scoped>\n",
       "    .dataframe tbody tr th:only-of-type {\n",
       "        vertical-align: middle;\n",
       "    }\n",
       "\n",
       "    .dataframe tbody tr th {\n",
       "        vertical-align: top;\n",
       "    }\n",
       "\n",
       "    .dataframe thead th {\n",
       "        text-align: right;\n",
       "    }\n",
       "</style>\n",
       "<table border=\"1\" class=\"dataframe\">\n",
       "  <thead>\n",
       "    <tr style=\"text-align: right;\">\n",
       "      <th></th>\n",
       "      <th>video_id</th>\n",
       "      <th>title</th>\n",
       "      <th>publishedAt</th>\n",
       "      <th>channelId</th>\n",
       "      <th>channelTitle</th>\n",
       "      <th>categoryId</th>\n",
       "      <th>trending_date</th>\n",
       "      <th>tags</th>\n",
       "      <th>view_count</th>\n",
       "      <th>likes</th>\n",
       "      <th>dislikes</th>\n",
       "      <th>comment_count</th>\n",
       "      <th>thumbnail_link</th>\n",
       "      <th>comments_disabled</th>\n",
       "      <th>ratings_disabled</th>\n",
       "      <th>description</th>\n",
       "      <th>like_percentage</th>\n",
       "      <th>date</th>\n",
       "    </tr>\n",
       "  </thead>\n",
       "  <tbody>\n",
       "    <tr>\n",
       "      <th>0</th>\n",
       "      <td>3C66w5Z0ixs</td>\n",
       "      <td>I ASKED HER TO BE MY GIRLFRIEND...</td>\n",
       "      <td>2020-08-11T19:20:14Z</td>\n",
       "      <td>UCvtRTOMP2TqYqu51xNrqAzg</td>\n",
       "      <td>Brawadis</td>\n",
       "      <td>22</td>\n",
       "      <td>2020-08-12T00:00:00Z</td>\n",
       "      <td>brawadis|prank|basketball|skits|ghost|funny vi...</td>\n",
       "      <td>1514614</td>\n",
       "      <td>156908</td>\n",
       "      <td>5855</td>\n",
       "      <td>35313</td>\n",
       "      <td>https://i.ytimg.com/vi/3C66w5Z0ixs/default.jpg</td>\n",
       "      <td>0</td>\n",
       "      <td>0</td>\n",
       "      <td>SUBSCRIBE to BRAWADIS ▶ http://bit.ly/Subscrib...</td>\n",
       "      <td>0.103596</td>\n",
       "      <td>2020-08-11</td>\n",
       "    </tr>\n",
       "    <tr>\n",
       "      <th>1</th>\n",
       "      <td>M9Pmf9AB4Mo</td>\n",
       "      <td>Apex Legends | Stories from the Outlands – “Th...</td>\n",
       "      <td>2020-08-11T17:00:10Z</td>\n",
       "      <td>UC0ZV6M2THA81QT9hrVWJG3A</td>\n",
       "      <td>Apex Legends</td>\n",
       "      <td>20</td>\n",
       "      <td>2020-08-12T00:00:00Z</td>\n",
       "      <td>Apex Legends|Apex Legends characters|new Apex ...</td>\n",
       "      <td>2381688</td>\n",
       "      <td>146739</td>\n",
       "      <td>2794</td>\n",
       "      <td>16549</td>\n",
       "      <td>https://i.ytimg.com/vi/M9Pmf9AB4Mo/default.jpg</td>\n",
       "      <td>0</td>\n",
       "      <td>0</td>\n",
       "      <td>While running her own modding shop, Ramya Pare...</td>\n",
       "      <td>0.061611</td>\n",
       "      <td>2020-08-11</td>\n",
       "    </tr>\n",
       "    <tr>\n",
       "      <th>2</th>\n",
       "      <td>J78aPJ3VyNs</td>\n",
       "      <td>I left youtube for a month and THIS is what ha...</td>\n",
       "      <td>2020-08-11T16:34:06Z</td>\n",
       "      <td>UCYzPXprvl5Y-Sf0g4vX-m6g</td>\n",
       "      <td>jacksepticeye</td>\n",
       "      <td>24</td>\n",
       "      <td>2020-08-12T00:00:00Z</td>\n",
       "      <td>jacksepticeye|funny|funny meme|memes|jacksepti...</td>\n",
       "      <td>2038853</td>\n",
       "      <td>353787</td>\n",
       "      <td>2628</td>\n",
       "      <td>40221</td>\n",
       "      <td>https://i.ytimg.com/vi/J78aPJ3VyNs/default.jpg</td>\n",
       "      <td>0</td>\n",
       "      <td>0</td>\n",
       "      <td>I left youtube for a month and this is what ha...</td>\n",
       "      <td>0.173523</td>\n",
       "      <td>2020-08-11</td>\n",
       "    </tr>\n",
       "    <tr>\n",
       "      <th>3</th>\n",
       "      <td>kXLn3HkpjaA</td>\n",
       "      <td>XXL 2020 Freshman Class Revealed - Official An...</td>\n",
       "      <td>2020-08-11T16:38:55Z</td>\n",
       "      <td>UCbg_UMjlHJg_19SZckaKajg</td>\n",
       "      <td>XXL</td>\n",
       "      <td>10</td>\n",
       "      <td>2020-08-12T00:00:00Z</td>\n",
       "      <td>xxl freshman|xxl freshmen|2020 xxl freshman|20...</td>\n",
       "      <td>496771</td>\n",
       "      <td>23251</td>\n",
       "      <td>1856</td>\n",
       "      <td>7647</td>\n",
       "      <td>https://i.ytimg.com/vi/kXLn3HkpjaA/default.jpg</td>\n",
       "      <td>0</td>\n",
       "      <td>0</td>\n",
       "      <td>Subscribe to XXL → http://bit.ly/subscribe-xxl...</td>\n",
       "      <td>0.046804</td>\n",
       "      <td>2020-08-11</td>\n",
       "    </tr>\n",
       "    <tr>\n",
       "      <th>4</th>\n",
       "      <td>VIUo6yapDbc</td>\n",
       "      <td>Ultimate DIY Home Movie Theater for The LaBran...</td>\n",
       "      <td>2020-08-11T15:10:05Z</td>\n",
       "      <td>UCDVPcEbVLQgLZX0Rt6jo34A</td>\n",
       "      <td>Mr. Kate</td>\n",
       "      <td>26</td>\n",
       "      <td>2020-08-12T00:00:00Z</td>\n",
       "      <td>The LaBrant Family|DIY|Interior Design|Makeove...</td>\n",
       "      <td>1123889</td>\n",
       "      <td>45802</td>\n",
       "      <td>964</td>\n",
       "      <td>2196</td>\n",
       "      <td>https://i.ytimg.com/vi/VIUo6yapDbc/default.jpg</td>\n",
       "      <td>0</td>\n",
       "      <td>0</td>\n",
       "      <td>Transforming The LaBrant Family's empty white ...</td>\n",
       "      <td>0.040753</td>\n",
       "      <td>2020-08-11</td>\n",
       "    </tr>\n",
       "  </tbody>\n",
       "</table>\n",
       "</div>"
      ],
      "text/plain": [
       "      video_id                                              title  \\\n",
       "0  3C66w5Z0ixs                 I ASKED HER TO BE MY GIRLFRIEND...   \n",
       "1  M9Pmf9AB4Mo  Apex Legends | Stories from the Outlands – “Th...   \n",
       "2  J78aPJ3VyNs  I left youtube for a month and THIS is what ha...   \n",
       "3  kXLn3HkpjaA  XXL 2020 Freshman Class Revealed - Official An...   \n",
       "4  VIUo6yapDbc  Ultimate DIY Home Movie Theater for The LaBran...   \n",
       "\n",
       "            publishedAt                 channelId   channelTitle  categoryId  \\\n",
       "0  2020-08-11T19:20:14Z  UCvtRTOMP2TqYqu51xNrqAzg       Brawadis          22   \n",
       "1  2020-08-11T17:00:10Z  UC0ZV6M2THA81QT9hrVWJG3A   Apex Legends          20   \n",
       "2  2020-08-11T16:34:06Z  UCYzPXprvl5Y-Sf0g4vX-m6g  jacksepticeye          24   \n",
       "3  2020-08-11T16:38:55Z  UCbg_UMjlHJg_19SZckaKajg            XXL          10   \n",
       "4  2020-08-11T15:10:05Z  UCDVPcEbVLQgLZX0Rt6jo34A       Mr. Kate          26   \n",
       "\n",
       "          trending_date                                               tags  \\\n",
       "0  2020-08-12T00:00:00Z  brawadis|prank|basketball|skits|ghost|funny vi...   \n",
       "1  2020-08-12T00:00:00Z  Apex Legends|Apex Legends characters|new Apex ...   \n",
       "2  2020-08-12T00:00:00Z  jacksepticeye|funny|funny meme|memes|jacksepti...   \n",
       "3  2020-08-12T00:00:00Z  xxl freshman|xxl freshmen|2020 xxl freshman|20...   \n",
       "4  2020-08-12T00:00:00Z  The LaBrant Family|DIY|Interior Design|Makeove...   \n",
       "\n",
       "   view_count   likes  dislikes  comment_count  \\\n",
       "0     1514614  156908      5855          35313   \n",
       "1     2381688  146739      2794          16549   \n",
       "2     2038853  353787      2628          40221   \n",
       "3      496771   23251      1856           7647   \n",
       "4     1123889   45802       964           2196   \n",
       "\n",
       "                                   thumbnail_link  comments_disabled  \\\n",
       "0  https://i.ytimg.com/vi/3C66w5Z0ixs/default.jpg                  0   \n",
       "1  https://i.ytimg.com/vi/M9Pmf9AB4Mo/default.jpg                  0   \n",
       "2  https://i.ytimg.com/vi/J78aPJ3VyNs/default.jpg                  0   \n",
       "3  https://i.ytimg.com/vi/kXLn3HkpjaA/default.jpg                  0   \n",
       "4  https://i.ytimg.com/vi/VIUo6yapDbc/default.jpg                  0   \n",
       "\n",
       "   ratings_disabled                                        description  \\\n",
       "0                 0  SUBSCRIBE to BRAWADIS ▶ http://bit.ly/Subscrib...   \n",
       "1                 0  While running her own modding shop, Ramya Pare...   \n",
       "2                 0  I left youtube for a month and this is what ha...   \n",
       "3                 0  Subscribe to XXL → http://bit.ly/subscribe-xxl...   \n",
       "4                 0  Transforming The LaBrant Family's empty white ...   \n",
       "\n",
       "   like_percentage        date  \n",
       "0         0.103596  2020-08-11  \n",
       "1         0.061611  2020-08-11  \n",
       "2         0.173523  2020-08-11  \n",
       "3         0.046804  2020-08-11  \n",
       "4         0.040753  2020-08-11  "
      ]
     },
     "execution_count": 89,
     "metadata": {},
     "output_type": "execute_result"
    }
   ],
   "source": [
    "df.head()"
   ]
  },
  {
   "cell_type": "code",
   "execution_count": 93,
   "id": "862b330f",
   "metadata": {},
   "outputs": [],
   "source": [
    "df['time'] = df['publishedAt'].astype(str).str[11:19]"
   ]
  },
  {
   "cell_type": "code",
   "execution_count": 95,
   "id": "dff55eb9",
   "metadata": {},
   "outputs": [
    {
     "data": {
      "text/plain": [
       "<Axes: xlabel='date', ylabel='Count'>"
      ]
     },
     "execution_count": 95,
     "metadata": {},
     "output_type": "execute_result"
    },
    {
     "data": {
      "image/png": "[encoded data removed]",
      "text/plain": [
       "<Figure size 640x480 with 1 Axes>"
      ]
     },
     "metadata": {},
     "output_type": "display_data"
    }
   ],
   "source": [
    "sns.histplot(data=df, x=df['date'])"
   ]
  },
  {
   "cell_type": "code",
   "execution_count": 96,
   "id": "48e699c0",
   "metadata": {},
   "outputs": [
    {
     "name": "stderr",
     "output_type": "stream",
     "text": [
      "/var/folders/wy/16vl1s6x6_l_1vpc63p7jwpr0000gn/T/ipykernel_7167/3748150297.py:7: FutureWarning: Boolean inputs to the `inclusive` argument are deprecated in favour of `both` or `neither`.\n",
      "  mask = df['view_count'].between(q1, q3, inclusive=True)\n"
     ]
    }
   ],
   "source": [
    "q1 = df['view_count'].quantile(.25)\n",
    "\n",
    "# Select the third quantile\n",
    "q3 = df['view_count'].quantile(.75)\n",
    "\n",
    "# Create a mask inbeetween q1 & q3\n",
    "mask = df['view_count'].between(q1, q3, inclusive=True)\n",
    "\n",
    "# Filtering the initial dataframe with a mask\n",
    "iqr = df.loc[mask, 'view_count']"
   ]
  },
  {
   "cell_type": "code",
   "execution_count": 97,
   "id": "e935fac7",
   "metadata": {},
   "outputs": [],
   "source": [
    "def subset_by_iqr(df, column, whisker_width=1.5):\n",
    "    q1 = df[column].quantile(0.25)                 \n",
    "    q3 = df[column].quantile(0.75)\n",
    "    iqr = q3 - q1\n",
    "    filter = (df[column] >= q1 - whisker_width*iqr) & (df[column] <= q3 + whisker_width*iqr)\n",
    "    return df.loc[filter]                                                     \n",
    "\n",
    "# Example for whiskers = 1.5, as requested by the OP\n",
    "df_filtered = subset_by_iqr(df, 'view_count', whisker_width=1.5)"
   ]
  },
  {
   "cell_type": "code",
   "execution_count": 100,
   "id": "8adb521b",
   "metadata": {},
   "outputs": [
    {
     "name": "stdout",
     "output_type": "stream",
     "text": [
      "video_id             239747\n",
      "title                239747\n",
      "publishedAt          239747\n",
      "channelId            239747\n",
      "channelTitle         239747\n",
      "categoryId           239747\n",
      "trending_date        239747\n",
      "tags                 239747\n",
      "view_count           239747\n",
      "likes                239747\n",
      "dislikes             239747\n",
      "comment_count        239747\n",
      "thumbnail_link       239747\n",
      "comments_disabled    239747\n",
      "ratings_disabled     239747\n",
      "description          235786\n",
      "like_percentage      239690\n",
      "date                 239747\n",
      "time                 239747\n",
      "dtype: int64\n"
     ]
    }
   ],
   "source": [
    "print(df_filtered.count())"
   ]
  },
  {
   "cell_type": "code",
   "execution_count": 101,
   "id": "b83fce44",
   "metadata": {},
   "outputs": [
    {
     "data": {
      "text/html": [
       "<div>\n",
       "<style scoped>\n",
       "    .dataframe tbody tr th:only-of-type {\n",
       "        vertical-align: middle;\n",
       "    }\n",
       "\n",
       "    .dataframe tbody tr th {\n",
       "        vertical-align: top;\n",
       "    }\n",
       "\n",
       "    .dataframe thead th {\n",
       "        text-align: right;\n",
       "    }\n",
       "</style>\n",
       "<table border=\"1\" class=\"dataframe\">\n",
       "  <thead>\n",
       "    <tr style=\"text-align: right;\">\n",
       "      <th></th>\n",
       "      <th>video_id</th>\n",
       "      <th>title</th>\n",
       "      <th>publishedAt</th>\n",
       "      <th>channelId</th>\n",
       "      <th>channelTitle</th>\n",
       "      <th>categoryId</th>\n",
       "      <th>trending_date</th>\n",
       "      <th>tags</th>\n",
       "      <th>view_count</th>\n",
       "      <th>likes</th>\n",
       "      <th>dislikes</th>\n",
       "      <th>comment_count</th>\n",
       "      <th>thumbnail_link</th>\n",
       "      <th>comments_disabled</th>\n",
       "      <th>ratings_disabled</th>\n",
       "      <th>description</th>\n",
       "      <th>like_percentage</th>\n",
       "      <th>date</th>\n",
       "      <th>time</th>\n",
       "    </tr>\n",
       "  </thead>\n",
       "  <tbody>\n",
       "    <tr>\n",
       "      <th>0</th>\n",
       "      <td>3C66w5Z0ixs</td>\n",
       "      <td>I ASKED HER TO BE MY GIRLFRIEND...</td>\n",
       "      <td>2020-08-11T19:20:14Z</td>\n",
       "      <td>UCvtRTOMP2TqYqu51xNrqAzg</td>\n",
       "      <td>Brawadis</td>\n",
       "      <td>22</td>\n",
       "      <td>2020-08-12T00:00:00Z</td>\n",
       "      <td>brawadis|prank|basketball|skits|ghost|funny vi...</td>\n",
       "      <td>1514614</td>\n",
       "      <td>156908</td>\n",
       "      <td>5855</td>\n",
       "      <td>35313</td>\n",
       "      <td>https://i.ytimg.com/vi/3C66w5Z0ixs/default.jpg</td>\n",
       "      <td>0</td>\n",
       "      <td>0</td>\n",
       "      <td>SUBSCRIBE to BRAWADIS ▶ http://bit.ly/Subscrib...</td>\n",
       "      <td>0.103596</td>\n",
       "      <td>2020-08-11</td>\n",
       "      <td>19:20:14</td>\n",
       "    </tr>\n",
       "    <tr>\n",
       "      <th>1</th>\n",
       "      <td>M9Pmf9AB4Mo</td>\n",
       "      <td>Apex Legends | Stories from the Outlands – “Th...</td>\n",
       "      <td>2020-08-11T17:00:10Z</td>\n",
       "      <td>UC0ZV6M2THA81QT9hrVWJG3A</td>\n",
       "      <td>Apex Legends</td>\n",
       "      <td>20</td>\n",
       "      <td>2020-08-12T00:00:00Z</td>\n",
       "      <td>Apex Legends|Apex Legends characters|new Apex ...</td>\n",
       "      <td>2381688</td>\n",
       "      <td>146739</td>\n",
       "      <td>2794</td>\n",
       "      <td>16549</td>\n",
       "      <td>https://i.ytimg.com/vi/M9Pmf9AB4Mo/default.jpg</td>\n",
       "      <td>0</td>\n",
       "      <td>0</td>\n",
       "      <td>While running her own modding shop, Ramya Pare...</td>\n",
       "      <td>0.061611</td>\n",
       "      <td>2020-08-11</td>\n",
       "      <td>17:00:10</td>\n",
       "    </tr>\n",
       "    <tr>\n",
       "      <th>2</th>\n",
       "      <td>J78aPJ3VyNs</td>\n",
       "      <td>I left youtube for a month and THIS is what ha...</td>\n",
       "      <td>2020-08-11T16:34:06Z</td>\n",
       "      <td>UCYzPXprvl5Y-Sf0g4vX-m6g</td>\n",
       "      <td>jacksepticeye</td>\n",
       "      <td>24</td>\n",
       "      <td>2020-08-12T00:00:00Z</td>\n",
       "      <td>jacksepticeye|funny|funny meme|memes|jacksepti...</td>\n",
       "      <td>2038853</td>\n",
       "      <td>353787</td>\n",
       "      <td>2628</td>\n",
       "      <td>40221</td>\n",
       "      <td>https://i.ytimg.com/vi/J78aPJ3VyNs/default.jpg</td>\n",
       "      <td>0</td>\n",
       "      <td>0</td>\n",
       "      <td>I left youtube for a month and this is what ha...</td>\n",
       "      <td>0.173523</td>\n",
       "      <td>2020-08-11</td>\n",
       "      <td>16:34:06</td>\n",
       "    </tr>\n",
       "    <tr>\n",
       "      <th>3</th>\n",
       "      <td>kXLn3HkpjaA</td>\n",
       "      <td>XXL 2020 Freshman Class Revealed - Official An...</td>\n",
       "      <td>2020-08-11T16:38:55Z</td>\n",
       "      <td>UCbg_UMjlHJg_19SZckaKajg</td>\n",
       "      <td>XXL</td>\n",
       "      <td>10</td>\n",
       "      <td>2020-08-12T00:00:00Z</td>\n",
       "      <td>xxl freshman|xxl freshmen|2020 xxl freshman|20...</td>\n",
       "      <td>496771</td>\n",
       "      <td>23251</td>\n",
       "      <td>1856</td>\n",
       "      <td>7647</td>\n",
       "      <td>https://i.ytimg.com/vi/kXLn3HkpjaA/default.jpg</td>\n",
       "      <td>0</td>\n",
       "      <td>0</td>\n",
       "      <td>Subscribe to XXL → http://bit.ly/subscribe-xxl...</td>\n",
       "      <td>0.046804</td>\n",
       "      <td>2020-08-11</td>\n",
       "      <td>16:38:55</td>\n",
       "    </tr>\n",
       "    <tr>\n",
       "      <th>4</th>\n",
       "      <td>VIUo6yapDbc</td>\n",
       "      <td>Ultimate DIY Home Movie Theater for The LaBran...</td>\n",
       "      <td>2020-08-11T15:10:05Z</td>\n",
       "      <td>UCDVPcEbVLQgLZX0Rt6jo34A</td>\n",
       "      <td>Mr. Kate</td>\n",
       "      <td>26</td>\n",
       "      <td>2020-08-12T00:00:00Z</td>\n",
       "      <td>The LaBrant Family|DIY|Interior Design|Makeove...</td>\n",
       "      <td>1123889</td>\n",
       "      <td>45802</td>\n",
       "      <td>964</td>\n",
       "      <td>2196</td>\n",
       "      <td>https://i.ytimg.com/vi/VIUo6yapDbc/default.jpg</td>\n",
       "      <td>0</td>\n",
       "      <td>0</td>\n",
       "      <td>Transforming The LaBrant Family's empty white ...</td>\n",
       "      <td>0.040753</td>\n",
       "      <td>2020-08-11</td>\n",
       "      <td>15:10:05</td>\n",
       "    </tr>\n",
       "    <tr>\n",
       "      <th>...</th>\n",
       "      <td>...</td>\n",
       "      <td>...</td>\n",
       "      <td>...</td>\n",
       "      <td>...</td>\n",
       "      <td>...</td>\n",
       "      <td>...</td>\n",
       "      <td>...</td>\n",
       "      <td>...</td>\n",
       "      <td>...</td>\n",
       "      <td>...</td>\n",
       "      <td>...</td>\n",
       "      <td>...</td>\n",
       "      <td>...</td>\n",
       "      <td>...</td>\n",
       "      <td>...</td>\n",
       "      <td>...</td>\n",
       "      <td>...</td>\n",
       "      <td>...</td>\n",
       "      <td>...</td>\n",
       "    </tr>\n",
       "    <tr>\n",
       "      <th>268782</th>\n",
       "      <td>4-uXvx5M7XA</td>\n",
       "      <td>Total solar eclipse causing tourism boost acro...</td>\n",
       "      <td>2024-04-08T15:55:44Z</td>\n",
       "      <td>UClwddNv0Cr6SIEGkzVK886w</td>\n",
       "      <td>FOX 9 Minneapolis-St. Paul</td>\n",
       "      <td>25</td>\n",
       "      <td>2024-04-15T00:00:00Z</td>\n",
       "      <td>morning-news|Eclipses|travel|travel news|weath...</td>\n",
       "      <td>359130</td>\n",
       "      <td>2345</td>\n",
       "      <td>0</td>\n",
       "      <td>581</td>\n",
       "      <td>https://i.ytimg.com/vi/4-uXvx5M7XA/default.jpg</td>\n",
       "      <td>0</td>\n",
       "      <td>0</td>\n",
       "      <td>Millions of people in the United States are tr...</td>\n",
       "      <td>0.006530</td>\n",
       "      <td>2024-04-08</td>\n",
       "      <td>15:55:44</td>\n",
       "    </tr>\n",
       "    <tr>\n",
       "      <th>268783</th>\n",
       "      <td>aFsfJYWpqII</td>\n",
       "      <td>Food Delivery Apps: Last Week Tonight with Joh...</td>\n",
       "      <td>2024-04-04T11:00:02Z</td>\n",
       "      <td>UC3XTzVzaHQEd30rQbuvCtTQ</td>\n",
       "      <td>LastWeekTonight</td>\n",
       "      <td>24</td>\n",
       "      <td>2024-04-15T00:00:00Z</td>\n",
       "      <td>[None]</td>\n",
       "      <td>3998181</td>\n",
       "      <td>107811</td>\n",
       "      <td>0</td>\n",
       "      <td>10335</td>\n",
       "      <td>https://i.ytimg.com/vi/aFsfJYWpqII/default.jpg</td>\n",
       "      <td>0</td>\n",
       "      <td>0</td>\n",
       "      <td>John Oliver discusses food delivery apps, how ...</td>\n",
       "      <td>0.026965</td>\n",
       "      <td>2024-04-04</td>\n",
       "      <td>11:00:02</td>\n",
       "    </tr>\n",
       "    <tr>\n",
       "      <th>268784</th>\n",
       "      <td>pRAsQss17xs</td>\n",
       "      <td>12 Things NO-ONE Tells You About Japan | Feat....</td>\n",
       "      <td>2024-04-07T14:53:25Z</td>\n",
       "      <td>UCHL9bfHTxCMi-7vfxQ-AYtg</td>\n",
       "      <td>Abroad in Japan</td>\n",
       "      <td>24</td>\n",
       "      <td>2024-04-15T00:00:00Z</td>\n",
       "      <td>japan|cdawgva|abroad in japan|trash taste</td>\n",
       "      <td>873960</td>\n",
       "      <td>41941</td>\n",
       "      <td>0</td>\n",
       "      <td>1918</td>\n",
       "      <td>https://i.ytimg.com/vi/pRAsQss17xs/default.jpg</td>\n",
       "      <td>0</td>\n",
       "      <td>0</td>\n",
       "      <td>We reveal 12 things no-one tells you to expect...</td>\n",
       "      <td>0.047990</td>\n",
       "      <td>2024-04-07</td>\n",
       "      <td>14:53:25</td>\n",
       "    </tr>\n",
       "    <tr>\n",
       "      <th>268785</th>\n",
       "      <td>84QeCD7y_Ds</td>\n",
       "      <td>Buying My Dream Car At 21</td>\n",
       "      <td>2024-04-07T18:00:03Z</td>\n",
       "      <td>UChQ-d14tHB62nskossxO0tw</td>\n",
       "      <td>Joe Fazer</td>\n",
       "      <td>24</td>\n",
       "      <td>2024-04-15T00:00:00Z</td>\n",
       "      <td>gym|youtube|bodybuilder|powerlifter|vlog|vlogg...</td>\n",
       "      <td>535842</td>\n",
       "      <td>42845</td>\n",
       "      <td>0</td>\n",
       "      <td>1852</td>\n",
       "      <td>https://i.ytimg.com/vi/84QeCD7y_Ds/default.jpg</td>\n",
       "      <td>0</td>\n",
       "      <td>0</td>\n",
       "      <td>Use code JOE at checkout to get discounts on M...</td>\n",
       "      <td>0.079958</td>\n",
       "      <td>2024-04-07</td>\n",
       "      <td>18:00:03</td>\n",
       "    </tr>\n",
       "    <tr>\n",
       "      <th>268786</th>\n",
       "      <td>SBTA3Tegacs</td>\n",
       "      <td>Murder Drones Training Video</td>\n",
       "      <td>2024-04-05T19:00:12Z</td>\n",
       "      <td>UCn_FAXem2-e3HQvmK-mOH4g</td>\n",
       "      <td>GLITCH</td>\n",
       "      <td>1</td>\n",
       "      <td>2024-04-15T00:00:00Z</td>\n",
       "      <td>meta runner|glitch productions|funny|video gam...</td>\n",
       "      <td>3073412</td>\n",
       "      <td>246678</td>\n",
       "      <td>0</td>\n",
       "      <td>14535</td>\n",
       "      <td>https://i.ytimg.com/vi/SBTA3Tegacs/default.jpg</td>\n",
       "      <td>0</td>\n",
       "      <td>0</td>\n",
       "      <td>J IS FINALLY A PLUSH and NEW Corporate Murder ...</td>\n",
       "      <td>0.080262</td>\n",
       "      <td>2024-04-05</td>\n",
       "      <td>19:00:12</td>\n",
       "    </tr>\n",
       "  </tbody>\n",
       "</table>\n",
       "<p>268704 rows × 19 columns</p>\n",
       "</div>"
      ],
      "text/plain": [
       "           video_id                                              title  \\\n",
       "0       3C66w5Z0ixs                 I ASKED HER TO BE MY GIRLFRIEND...   \n",
       "1       M9Pmf9AB4Mo  Apex Legends | Stories from the Outlands – “Th...   \n",
       "2       J78aPJ3VyNs  I left youtube for a month and THIS is what ha...   \n",
       "3       kXLn3HkpjaA  XXL 2020 Freshman Class Revealed - Official An...   \n",
       "4       VIUo6yapDbc  Ultimate DIY Home Movie Theater for The LaBran...   \n",
       "...             ...                                                ...   \n",
       "268782  4-uXvx5M7XA  Total solar eclipse causing tourism boost acro...   \n",
       "268783  aFsfJYWpqII  Food Delivery Apps: Last Week Tonight with Joh...   \n",
       "268784  pRAsQss17xs  12 Things NO-ONE Tells You About Japan | Feat....   \n",
       "268785  84QeCD7y_Ds                          Buying My Dream Car At 21   \n",
       "268786  SBTA3Tegacs                       Murder Drones Training Video   \n",
       "\n",
       "                 publishedAt                 channelId  \\\n",
       "0       2020-08-11T19:20:14Z  UCvtRTOMP2TqYqu51xNrqAzg   \n",
       "1       2020-08-11T17:00:10Z  UC0ZV6M2THA81QT9hrVWJG3A   \n",
       "2       2020-08-11T16:34:06Z  UCYzPXprvl5Y-Sf0g4vX-m6g   \n",
       "3       2020-08-11T16:38:55Z  UCbg_UMjlHJg_19SZckaKajg   \n",
       "4       2020-08-11T15:10:05Z  UCDVPcEbVLQgLZX0Rt6jo34A   \n",
       "...                      ...                       ...   \n",
       "268782  2024-04-08T15:55:44Z  UClwddNv0Cr6SIEGkzVK886w   \n",
       "268783  2024-04-04T11:00:02Z  UC3XTzVzaHQEd30rQbuvCtTQ   \n",
       "268784  2024-04-07T14:53:25Z  UCHL9bfHTxCMi-7vfxQ-AYtg   \n",
       "268785  2024-04-07T18:00:03Z  UChQ-d14tHB62nskossxO0tw   \n",
       "268786  2024-04-05T19:00:12Z  UCn_FAXem2-e3HQvmK-mOH4g   \n",
       "\n",
       "                      channelTitle  categoryId         trending_date  \\\n",
       "0                         Brawadis          22  2020-08-12T00:00:00Z   \n",
       "1                     Apex Legends          20  2020-08-12T00:00:00Z   \n",
       "2                    jacksepticeye          24  2020-08-12T00:00:00Z   \n",
       "3                              XXL          10  2020-08-12T00:00:00Z   \n",
       "4                         Mr. Kate          26  2020-08-12T00:00:00Z   \n",
       "...                            ...         ...                   ...   \n",
       "268782  FOX 9 Minneapolis-St. Paul          25  2024-04-15T00:00:00Z   \n",
       "268783             LastWeekTonight          24  2024-04-15T00:00:00Z   \n",
       "268784             Abroad in Japan          24  2024-04-15T00:00:00Z   \n",
       "268785                   Joe Fazer          24  2024-04-15T00:00:00Z   \n",
       "268786                      GLITCH           1  2024-04-15T00:00:00Z   \n",
       "\n",
       "                                                     tags  view_count   likes  \\\n",
       "0       brawadis|prank|basketball|skits|ghost|funny vi...     1514614  156908   \n",
       "1       Apex Legends|Apex Legends characters|new Apex ...     2381688  146739   \n",
       "2       jacksepticeye|funny|funny meme|memes|jacksepti...     2038853  353787   \n",
       "3       xxl freshman|xxl freshmen|2020 xxl freshman|20...      496771   23251   \n",
       "4       The LaBrant Family|DIY|Interior Design|Makeove...     1123889   45802   \n",
       "...                                                   ...         ...     ...   \n",
       "268782  morning-news|Eclipses|travel|travel news|weath...      359130    2345   \n",
       "268783                                             [None]     3998181  107811   \n",
       "268784          japan|cdawgva|abroad in japan|trash taste      873960   41941   \n",
       "268785  gym|youtube|bodybuilder|powerlifter|vlog|vlogg...      535842   42845   \n",
       "268786  meta runner|glitch productions|funny|video gam...     3073412  246678   \n",
       "\n",
       "        dislikes  comment_count  \\\n",
       "0           5855          35313   \n",
       "1           2794          16549   \n",
       "2           2628          40221   \n",
       "3           1856           7647   \n",
       "4            964           2196   \n",
       "...          ...            ...   \n",
       "268782         0            581   \n",
       "268783         0          10335   \n",
       "268784         0           1918   \n",
       "268785         0           1852   \n",
       "268786         0          14535   \n",
       "\n",
       "                                        thumbnail_link  comments_disabled  \\\n",
       "0       https://i.ytimg.com/vi/3C66w5Z0ixs/default.jpg                  0   \n",
       "1       https://i.ytimg.com/vi/M9Pmf9AB4Mo/default.jpg                  0   \n",
       "2       https://i.ytimg.com/vi/J78aPJ3VyNs/default.jpg                  0   \n",
       "3       https://i.ytimg.com/vi/kXLn3HkpjaA/default.jpg                  0   \n",
       "4       https://i.ytimg.com/vi/VIUo6yapDbc/default.jpg                  0   \n",
       "...                                                ...                ...   \n",
       "268782  https://i.ytimg.com/vi/4-uXvx5M7XA/default.jpg                  0   \n",
       "268783  https://i.ytimg.com/vi/aFsfJYWpqII/default.jpg                  0   \n",
       "268784  https://i.ytimg.com/vi/pRAsQss17xs/default.jpg                  0   \n",
       "268785  https://i.ytimg.com/vi/84QeCD7y_Ds/default.jpg                  0   \n",
       "268786  https://i.ytimg.com/vi/SBTA3Tegacs/default.jpg                  0   \n",
       "\n",
       "        ratings_disabled                                        description  \\\n",
       "0                      0  SUBSCRIBE to BRAWADIS ▶ http://bit.ly/Subscrib...   \n",
       "1                      0  While running her own modding shop, Ramya Pare...   \n",
       "2                      0  I left youtube for a month and this is what ha...   \n",
       "3                      0  Subscribe to XXL → http://bit.ly/subscribe-xxl...   \n",
       "4                      0  Transforming The LaBrant Family's empty white ...   \n",
       "...                  ...                                                ...   \n",
       "268782                 0  Millions of people in the United States are tr...   \n",
       "268783                 0  John Oliver discusses food delivery apps, how ...   \n",
       "268784                 0  We reveal 12 things no-one tells you to expect...   \n",
       "268785                 0  Use code JOE at checkout to get discounts on M...   \n",
       "268786                 0  J IS FINALLY A PLUSH and NEW Corporate Murder ...   \n",
       "\n",
       "        like_percentage        date      time  \n",
       "0              0.103596  2020-08-11  19:20:14  \n",
       "1              0.061611  2020-08-11  17:00:10  \n",
       "2              0.173523  2020-08-11  16:34:06  \n",
       "3              0.046804  2020-08-11  16:38:55  \n",
       "4              0.040753  2020-08-11  15:10:05  \n",
       "...                 ...         ...       ...  \n",
       "268782         0.006530  2024-04-08  15:55:44  \n",
       "268783         0.026965  2024-04-04  11:00:02  \n",
       "268784         0.047990  2024-04-07  14:53:25  \n",
       "268785         0.079958  2024-04-07  18:00:03  \n",
       "268786         0.080262  2024-04-05  19:00:12  \n",
       "\n",
       "[268704 rows x 19 columns]"
      ]
     },
     "execution_count": 101,
     "metadata": {},
     "output_type": "execute_result"
    }
   ],
   "source": [
    "df.drop_duplicates()"
   ]
  },
  {
   "cell_type": "code",
   "execution_count": 103,
   "id": "f53567d5",
   "metadata": {},
   "outputs": [
    {
     "data": {
      "text/plain": [
       "<Axes: xlabel='categoryId', ylabel='view_count'>"
      ]
     },
     "execution_count": 103,
     "metadata": {},
     "output_type": "execute_result"
    },
    {
     "data": {
      "image/png": "[encoded data removed]",
      "text/plain": [
       "<Figure size 640x480 with 1 Axes>"
      ]
     },
     "metadata": {},
     "output_type": "display_data"
    }
   ],
   "source": [
    "sns.boxplot(data=df, x='categoryId', y='view_count')"
   ]
  },
  {
   "cell_type": "code",
   "execution_count": 104,
   "id": "5acffb87",
   "metadata": {},
   "outputs": [
    {
     "data": {
      "text/plain": [
       "0         2020-08-11\n",
       "1         2020-08-11\n",
       "2         2020-08-11\n",
       "3         2020-08-11\n",
       "4         2020-08-11\n",
       "             ...    \n",
       "268782    2024-04-08\n",
       "268783    2024-04-04\n",
       "268784    2024-04-07\n",
       "268785    2024-04-07\n",
       "268786    2024-04-05\n",
       "Name: date, Length: 268787, dtype: object"
      ]
     },
     "execution_count": 104,
     "metadata": {},
     "output_type": "execute_result"
    }
   ],
   "source": [
    "df['date']"
   ]
  },
  {
   "cell_type": "code",
   "execution_count": 110,
   "id": "633def69",
   "metadata": {},
   "outputs": [],
   "source": [
    "df['month'] = df['date'].astype(str).str[5:7]"
   ]
  },
  {
   "cell_type": "code",
   "execution_count": 109,
   "id": "ef90b5df",
   "metadata": {},
   "outputs": [],
   "source": [
    "df['day'] = df['date'].astype(str).str[8:]"
   ]
  },
  {
   "cell_type": "code",
   "execution_count": 111,
   "id": "fac6e1b6",
   "metadata": {},
   "outputs": [
    {
     "data": {
      "text/plain": [
       "<Axes: xlabel='month', ylabel='Count'>"
      ]
     },
     "execution_count": 111,
     "metadata": {},
     "output_type": "execute_result"
    },
    {
     "data": {
      "image/png": "[encoded data removed]",
      "text/plain": [
       "<Figure size 640x480 with 1 Axes>"
      ]
     },
     "metadata": {},
     "output_type": "display_data"
    }
   ],
   "source": [
    "sns.histplot(data=df, x='month')"
   ]
  },
  {
   "cell_type": "code",
   "execution_count": 113,
   "id": "7b7dfd92",
   "metadata": {},
   "outputs": [
    {
     "data": {
      "text/plain": [
       "<Axes: xlabel='time', ylabel='Count'>"
      ]
     },
     "execution_count": 113,
     "metadata": {},
     "output_type": "execute_result"
    },
    {
     "data": {
      "image/png": "[encoded data removed]",
      "text/plain": [
       "<Figure size 640x480 with 1 Axes>"
      ]
     },
     "metadata": {},
     "output_type": "display_data"
    }
   ],
   "source": [
    "sns.histplot(data=df, x='time')"
   ]
  },
  {
   "cell_type": "code",
   "execution_count": null,
   "id": "acd9482f",
   "metadata": {},
   "outputs": [],
   "source": []
  }
 ],
 "metadata": {
  "kernelspec": {
   "display_name": "Python 3 (ipykernel)",
   "language": "python",
   "name": "python3"
  },
  "language_info": {
   "codemirror_mode": {
    "name": "ipython",
    "version": 3
   },
   "file_extension": ".py",
   "mimetype": "text/x-python",
   "name": "python",
   "nbconvert_exporter": "python",
   "pygments_lexer": "ipython3",
   "version": "3.11.4"
  }
 },
 "nbformat": 4,
 "nbformat_minor": 5
}
